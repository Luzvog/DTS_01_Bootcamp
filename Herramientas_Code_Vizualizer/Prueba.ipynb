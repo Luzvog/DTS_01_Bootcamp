{
 "cells": [
  {
   "cell_type": "code",
   "execution_count": 2,
   "metadata": {},
   "outputs": [],
   "source": [
    "from json import dumps\n",
    "from random import randint\n"
   ]
  },
  {
   "cell_type": "code",
   "execution_count": 4,
   "metadata": {},
   "outputs": [
    {
     "name": "stdout",
     "output_type": "stream",
     "text": [
      "<class 'dict'>\n"
     ]
    }
   ],
   "source": [
    "graph = {\n",
    "    \"kind\": {\"graph\": True},\n",
    "    \"nodes\": [\n",
    "        {\"id\": \"1\", \"label\": \"1\"}\n",
    "    ],\n",
    "    \"edges\": []\n",
    "}\n",
    "\n",
    "print(type(graph))"
   ]
  },
  {
   "cell_type": "code",
   "execution_count": 5,
   "metadata": {},
   "outputs": [
    {
     "name": "stdout",
     "output_type": "stream",
     "text": [
      "i is 2\n",
      "i is 3\n",
      "i is 4\n",
      "i is 5\n",
      "i is 6\n",
      "i is 7\n",
      "i is 8\n",
      "i is 9\n",
      "i is 10\n",
      "i is 11\n",
      "i is 12\n",
      "i is 13\n",
      "i is 14\n",
      "i is 15\n",
      "i is 16\n",
      "i is 17\n",
      "i is 18\n",
      "i is 19\n",
      "i is 20\n",
      "i is 21\n",
      "i is 22\n",
      "i is 23\n",
      "i is 24\n",
      "i is 25\n",
      "i is 26\n",
      "i is 27\n",
      "i is 28\n",
      "i is 29\n",
      "i is 30\n",
      "i is 31\n",
      "i is 32\n",
      "i is 33\n",
      "i is 34\n",
      "i is 35\n",
      "i is 36\n",
      "i is 37\n",
      "i is 38\n",
      "i is 39\n",
      "i is 40\n",
      "i is 41\n",
      "i is 42\n",
      "i is 43\n",
      "i is 44\n",
      "i is 45\n",
      "i is 46\n",
      "i is 47\n",
      "i is 48\n",
      "i is 49\n",
      "i is 50\n",
      "i is 51\n",
      "i is 52\n",
      "i is 53\n",
      "i is 54\n",
      "i is 55\n",
      "i is 56\n",
      "i is 57\n",
      "i is 58\n",
      "i is 59\n",
      "i is 60\n",
      "i is 61\n",
      "i is 62\n",
      "i is 63\n",
      "i is 64\n",
      "i is 65\n",
      "i is 66\n",
      "i is 67\n",
      "i is 68\n",
      "i is 69\n",
      "i is 70\n",
      "i is 71\n",
      "i is 72\n",
      "i is 73\n",
      "i is 74\n",
      "i is 75\n",
      "i is 76\n",
      "i is 77\n",
      "i is 78\n",
      "i is 79\n",
      "i is 80\n",
      "i is 81\n",
      "i is 82\n",
      "i is 83\n",
      "i is 84\n",
      "i is 85\n",
      "i is 86\n",
      "i is 87\n",
      "i is 88\n",
      "i is 89\n",
      "i is 90\n",
      "i is 91\n",
      "i is 92\n",
      "i is 93\n",
      "i is 94\n",
      "i is 95\n",
      "i is 96\n",
      "i is 97\n",
      "i is 98\n",
      "i is 99\n",
      "finished\n"
     ]
    }
   ],
   "source": [
    "for i in range(2,100):\n",
    "    # add a node\n",
    "    id = str(i)\n",
    "    graph[\"nodes\"].append({\"id\": id, \"label\": id})\n",
    "    # connects the node to a random edge\n",
    "    targetId = str(randint(1, i - 1))\n",
    "    graph[\"edges\"].append({\"from\": id, \"to\": targetId})\n",
    "    print(\"i is \" + str(i))\n",
    "    # try setting a breakpoint right above\n",
    "    # then put graph into the visualization console and press enter\n",
    "    # when you step through the code each time you hit the breakpoint\n",
    "    # the graph should automatically refresh!\n",
    "    \n",
    "# example of json_graph visualization with 10 nodes:\n",
    "# https://i.imgur.com/RqZuYHH.png\n",
    "\n",
    "print(\"finished\")"
   ]
  },
  {
   "cell_type": "markdown",
   "metadata": {},
   "source": [
    "___"
   ]
  },
  {
   "cell_type": "code",
   "execution_count": 6,
   "metadata": {},
   "outputs": [
    {
     "name": "stdout",
     "output_type": "stream",
     "text": [
      "i is 2\n",
      "i is 3\n"
     ]
    }
   ],
   "source": [
    "graph = {\n",
    "    \"kind\": {\"graph\": True},\n",
    "    \"nodes\": [\n",
    "        {\"id\": \"1\", \"label\": \"1\"}\n",
    "    ],\n",
    "    \"edges\": []\n",
    "}\n",
    "\n",
    "i = 2\n",
    "\n",
    "id = str(i)\n",
    "graph[\"nodes\"].append({\"id\": id, \"label\": id})\n",
    "targetId = str(randint(1, i - 1))\n",
    "graph[\"edges\"].append({\"from\": id, \"to\": targetId})\n",
    "print(\"i is \" + str(i))\n",
    "\n",
    "i = 3\n",
    "\n",
    "id = str(i)\n",
    "graph[\"nodes\"].append({\"id\": id, \"label\": id})\n",
    "targetId = str(1)\n",
    "graph[\"edges\"].append({\"from\": id, \"to\": targetId})\n",
    "print(\"i is \" + str(i))"
   ]
  },
  {
   "cell_type": "code",
   "execution_count": 8,
   "metadata": {},
   "outputs": [
    {
     "name": "stdout",
     "output_type": "stream",
     "text": [
      "<class 'dict'>\n",
      "{'kind': {'graph': True}, 'nodes': [{'id': '1', 'label': '1'}, {'id': '2', 'label': '2'}, {'id': '3', 'label': '3'}], 'edges': [{'from': '2', 'to': '1'}, {'from': '3', 'to': '1'}]}\n"
     ]
    }
   ],
   "source": [
    "print(type(graph))\n",
    "print(graph)"
   ]
  }
 ],
 "metadata": {
  "interpreter": {
   "hash": "9bf2ca0f4a7adc3ce2f237ca763c1538d3ef289a4e7face3612a01cdae9f6807"
  },
  "kernelspec": {
   "display_name": "Python 3.10.2 64-bit",
   "language": "python",
   "name": "python3"
  },
  "language_info": {
   "codemirror_mode": {
    "name": "ipython",
    "version": 3
   },
   "file_extension": ".py",
   "mimetype": "text/x-python",
   "name": "python",
   "nbconvert_exporter": "python",
   "pygments_lexer": "ipython3",
   "version": "3.10.2"
  },
  "orig_nbformat": 4
 },
 "nbformat": 4,
 "nbformat_minor": 2
}
