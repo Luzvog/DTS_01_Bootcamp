{
 "cells": [
  {
   "cell_type": "markdown",
   "metadata": {},
   "source": [
    "![purple-divider](https://user-images.githubusercontent.com/7065401/52071927-c1cd7100-2562-11e9-908a-dde91ba14e59.png)\n",
    "\n",
    "# <b> Práctica Clase 2 </b>\n",
    "\n",
    "Con el objetivo de asegurarse de que la calidad de la información con la que se va a trabajar sea la óptima, es necesario realizar una lista de propuestas de mejora teniendo en cuenta los siguientes puntos:"
   ]
  },
  {
   "cell_type": "markdown",
   "metadata": {},
   "source": [
    "## <b> Ítems </b>\n"
   ]
  },
  {
   "cell_type": "markdown",
   "metadata": {},
   "source": [
    "\n",
    "1.  ¿Qué tan actualizada está la información? ¿La forma en que se actualiza ó mantiene esa información se puede mejorar? <br>\n"
   ]
  },
  {
   "cell_type": "markdown",
   "metadata": {},
   "source": [
    "*   Tablas con el campo fecha:\n",
    "\n",
    "    *   compra: ultimo registro cargado el 25-dic-2020.\n",
    "    *   venta: ultimo registro cargado el 30-dic-2020.\n",
    "    *   gasto: ultimo registro cargado el 01-dic-2020."
   ]
  },
  {
   "cell_type": "markdown",
   "metadata": {},
   "source": [
    "Los datos no están vigentes, por lo tanto no pueden ser implementados para la toma de decisiones estatégicas, ya que están siendo evalaudos 2 años depues de haber sido almacenados, si bien es muy pronto para asumir que los datos presentan cesgos, no es arriesgado asumir a priori que no describen la realidad actual de la empresa. "
   ]
  },
  {
   "cell_type": "markdown",
   "metadata": {},
   "source": [
    "Se puede definir un periodo de actualización de datos, que reflejen en tiempo real la realidad de la empresa, este periodo suele definir en función experiencia, de otro mode debe obedecer al los requrimientos de la autoridad compenete que regule su campo de operación."
   ]
  },
  {
   "cell_type": "markdown",
   "metadata": {},
   "source": [
    "![green-divider](https://user-images.githubusercontent.com/7065401/52071924-c003ad80-2562-11e9-8297-1c6595f8a7ff.png)"
   ]
  },
  {
   "cell_type": "markdown",
   "metadata": {},
   "source": [
    "\n",
    "2.  ¿Los datos están completos en todas las tablas? <br>\n"
   ]
  },
  {
   "cell_type": "markdown",
   "metadata": {},
   "source": []
  },
  {
   "cell_type": "markdown",
   "metadata": {},
   "source": [
    "3.  ¿Se conocen las fuentes de los datos?"
   ]
  },
  {
   "cell_type": "markdown",
   "metadata": {},
   "source": [
    "No, no se conoce la fuente de los datos."
   ]
  },
  {
   "cell_type": "markdown",
   "metadata": {},
   "source": [
    "![green-divider](https://user-images.githubusercontent.com/7065401/52071924-c003ad80-2562-11e9-8297-1c6595f8a7ff.png)"
   ]
  },
  {
   "cell_type": "markdown",
   "metadata": {},
   "source": [
    "4.  Al integrar éstos datos, es prudente que haya una normalización respecto de nombrar las tablas y sus campos."
   ]
  },
  {
   "cell_type": "markdown",
   "metadata": {},
   "source": [
    "Si, es prudente normalizar los identificadores de los objetos ya que facilita la recuperación de los datos y la correlatividad entre los registros a la hora de generar las relaciones entre tablas."
   ]
  },
  {
   "cell_type": "markdown",
   "metadata": {},
   "source": [
    "![green-divider](https://user-images.githubusercontent.com/7065401/52071924-c003ad80-2562-11e9-8297-1c6595f8a7ff.png)"
   ]
  },
  {
   "cell_type": "markdown",
   "metadata": {},
   "source": [
    "5.  Es importante revisar la consistencia de los datos: ¿Se pueden relacionar todas las tablas al modelo? ¿Cuáles son las tablas de hechos y las tablas dimensionales o maestros? ¿Podemos hacer esa separación en los datos que tenemos (tablas de hecho y dimensiones)? ¿Hay claves duplicadas? ¿Cuáles son variables cualitativas y cuáles son cuantitativas? ¿Qué acciones podemos aplicar sobre las mismas?"
   ]
  },
  {
   "cell_type": "markdown",
   "metadata": {},
   "source": [
    "*   <b> Tablas de Hechos </b>:\n",
    "  \n",
    "    *   Venta: registro de la venta.\n",
    "  \n",
    "    *   Compra: registro de la compra.\n",
    "  \n",
    "    *   Gastos: registro de las deducciones hechas de caja para efecto de la operación del negocio.\n",
    "  \n",
    "*   <b> Tablas de Dimensiones </b>:\n",
    "\n",
    "    *   Clientes: registra los clientes atendidos.\n",
    "\n",
    "    *   Sucursales: registras las franquicias del negocio.\n",
    "\n",
    "    *   Tipo de Gatos: registras los conceptos de las deducciones hechas de las caja del negocio para efectos de su operatividad.\n",
    "\n",
    "    *   Empleados: registra los datos del empleado.\n",
    "\n",
    "    *   Prodcusto: catalogo de ítems vendido en la tiempo.\n",
    "\n",
    "    *   Proveedores: registro de proveedores y subcontratados por el negocio.\n",
    "\n",
    "    *   Canal de Ventas: registra los medios a través de los cuales el negocio comercializa los artículos."
   ]
  },
  {
   "cell_type": "markdown",
   "metadata": {},
   "source": [
    "![green-divider](https://user-images.githubusercontent.com/7065401/52071924-c003ad80-2562-11e9-8297-1c6595f8a7ff.png)"
   ]
  },
  {
   "cell_type": "markdown",
   "metadata": {},
   "source": [
    "6.  Normalizar los nombres de los campos y colocar el tipo de dato adecuado para cada uno en cada una de las tablas. Descartar columnas que consideres que no tienen relevancia."
   ]
  },
  {
   "cell_type": "code",
   "execution_count": null,
   "metadata": {
    "vscode": {
     "languageId": "sql"
    }
   },
   "outputs": [],
   "source": [
    "/* modificar tipo de datos */\n",
    "\n",
    "-- tabla: `venta`\n",
    "-- campo: `cantidad`\t    INTEGER\n",
    "\n",
    "-- creo un nuevo campo llamado `aux_venta`\n",
    "-- paso los datos de `canitdad` a `aux_cantidad`\n",
    "-- borro la columna `cantidad`\n",
    "-- cambio el nombre a la columna `aux_cantidad` por `cantidad`"
   ]
  },
  {
   "cell_type": "markdown",
   "metadata": {},
   "source": [
    "1)   Crear campo `aux_venta` en la tabla `venta`."
   ]
  },
  {
   "cell_type": "code",
   "execution_count": null,
   "metadata": {
    "vscode": {
     "languageId": "sql"
    }
   },
   "outputs": [],
   "source": [
    "ALTER TABLE `venta` ADD `aux_cantidad` INTEGER;\n",
    "\n",
    "-- SHOW FULL COLUMNS FROM `venta`; # muestra una descripcion de la tabla"
   ]
  },
  {
   "cell_type": "markdown",
   "metadata": {},
   "source": [
    "2.   Mover los datos de `cantidad` a `aux_venta`."
   ]
  },
  {
   "cell_type": "code",
   "execution_count": null,
   "metadata": {
    "vscode": {
     "languageId": "sql"
    }
   },
   "outputs": [],
   "source": [
    "UPDATE `venta`\tSET `aux_cantidad` = `cantidad`;"
   ]
  },
  {
   "cell_type": "markdown",
   "metadata": {},
   "source": [
    "<b> Arroja el error </b>\n",
    "\n",
    "*   <i> Error Code: 1175. You are using safe update mode and you tried to update a table without a WHERE that uses a KEY column. <br>\n",
    "*   To disable safe mode, toggle the option in Preferences -> SQL Editor -> Query Editor and reconnect </i> ."
   ]
  },
  {
   "cell_type": "markdown",
   "metadata": {},
   "source": [
    "<b> Solución </b>\n",
    "\n",
    "*   Desde la versión 5.2.26 viene la opción <i> safe-update </i> (actualización en modo seguro) establecida por defecto. Esto significa que no se puede modificar ningún registro (<i> Delete, Update, Truncate </i>) sin especificar la clave en la claúsula <i> Where </i>.\n",
    "\n",
    "*   Para deshabilitar el modo seguro:\n",
    "\n",
    "```sql\n",
    "    SET SQL_SAFE_UPDATES = 0;\n",
    "```\n",
    "\n",
    "*   Para habilitar el modo seguro:\n",
    "\n",
    "```sql\n",
    "    SET SQL_SAFE_UPDATES = 1;\n",
    "```\n"
   ]
  },
  {
   "cell_type": "markdown",
   "metadata": {},
   "source": [
    "\n",
    "<b> Ejercutar consulta </b> :\n"
   ]
  },
  {
   "cell_type": "code",
   "execution_count": null,
   "metadata": {
    "vscode": {
     "languageId": "sql"
    }
   },
   "outputs": [],
   "source": [
    "UPDATE `venta`\tSET `aux_cantidad` = `cantidad`;"
   ]
  },
  {
   "cell_type": "markdown",
   "metadata": {},
   "source": [
    "<b> Arroja el error </b>\n",
    "\n",
    "*   <i> Error SQL (1366) : Incorrect integer value: '' for column 'canitdad' at row 72 </i>."
   ]
  },
  {
   "cell_type": "markdown",
   "metadata": {},
   "source": [
    "\n",
    "<b> Ejercutar consulta </b> :\n"
   ]
  },
  {
   "cell_type": "code",
   "execution_count": null,
   "metadata": {
    "vscode": {
     "languageId": "sql"
    }
   },
   "outputs": [],
   "source": [
    "SELECT * FROM `venta` \n",
    "WHERE `id_venta` = 72;\n",
    "\n",
    "UPDATE `venta` SET `cantidad` = NULL WHERE `id_venta` = 72;"
   ]
  },
  {
   "cell_type": "markdown",
   "metadata": {},
   "source": [
    "El campo está vacío, almacenó el salto de línea, nos obstante, al realizar la consulta: \n",
    "\n",
    "```sql\n",
    "    SELECT * FROM venta \n",
    "    WHERE cantidad = ' ' OR cantidad IS NULL;\n",
    "\n",
    "```\n",
    "\n",
    "No arroja ninguna coincidencia, pues los parametros seteados no correspondel al carácter del salto de linea.\n"
   ]
  },
  {
   "cell_type": "markdown",
   "metadata": {},
   "source": [
    "<b> Solución </b>\n",
    "\n",
    "*   En windows, el salto de linea es representado, en la mayoría de las ocaciones por: `\\r\\n`, no obstante tambie es frecuente encontrar archivos en los cuales el salto de línea es denotado por: `\\n` (esto último depende en gran mendida de como fue generado el .csv). <br>\n",
    "    *   Para 'decirle' a MySQL que busque mediante dicho parámetro es necesario contruir la consulta de la siguiente manera.\n",
    "    \n",
    "        ```sql\n",
    "        SELECT * FROM venta \n",
    "        WHERE cantidad = CHAR(10) + CHAR(13);\n",
    "\n",
    "        ```\n",
    "\n",
    "*   En Linux, unix y iOS es representado por: `\\n`. <br>\n",
    "    *   Para 'decirle' a MySQL que busque mediante dicho parámetro es necesario contruir la consulta de la siguiente manera.\n",
    "    \n",
    "        ```sql\n",
    "        SELECT * FROM venta \n",
    "        WHERE cantidad = CHAR(10);\n",
    "\n",
    "        ```\n",
    "| Representación | Caracter|\n",
    "| -------------- | ------- |\n",
    "| CHAR(10)       | \\n      |\n",
    "| CHAR(13)       | \\r      |\n"
   ]
  },
  {
   "cell_type": "markdown",
   "metadata": {},
   "source": [
    "\n",
    "<b> Ejercutar consulta </b> :\n"
   ]
  },
  {
   "cell_type": "code",
   "execution_count": null,
   "metadata": {
    "vscode": {
     "languageId": "sql"
    }
   },
   "outputs": [],
   "source": [
    "UPDATE `venta`  SET `cantidad` = NULL WHERE `cantidad` = CHAR(10) + CHAR(13);"
   ]
  },
  {
   "cell_type": "markdown",
   "metadata": {},
   "source": [
    "A través de la consulta anterior se identificaron los campos que almacenaron el salto de línea y luego se cargo en estos el valor nulo."
   ]
  },
  {
   "cell_type": "markdown",
   "metadata": {},
   "source": [
    "\n",
    "<b> Ejercutar consulta </b> :\n"
   ]
  },
  {
   "cell_type": "code",
   "execution_count": null,
   "metadata": {
    "vscode": {
     "languageId": "sql"
    }
   },
   "outputs": [],
   "source": [
    "UPDATE `venta`\tSET `aux_cantidad` = `cantidad`;"
   ]
  },
  {
   "cell_type": "markdown",
   "metadata": {},
   "source": [
    "A través de la consulta anterior se copiaron los registro de la columna `cantidad` en la columna `aux_cantidad`. <br>\n",
    "\n",
    "La instrucción:\n",
    "\n",
    "```sql\n",
    "    SHOW FULL COLUMNS FROM `venta`\n",
    "```\n",
    "Muestra la información característica de cada una de las columnas que conforman la tabla. \n"
   ]
  },
  {
   "cell_type": "markdown",
   "metadata": {},
   "source": [
    "3.   Borrar la columna cantidad `cantidad`."
   ]
  },
  {
   "cell_type": "code",
   "execution_count": null,
   "metadata": {
    "vscode": {
     "languageId": "sql"
    }
   },
   "outputs": [],
   "source": [
    "ALTER TABLE `venta` DROP COLUMN `cantidad`;"
   ]
  },
  {
   "cell_type": "markdown",
   "metadata": {},
   "source": [
    "4.   Cambiar el nombre de la columna `aux_cantidad` por `cantidad`."
   ]
  },
  {
   "cell_type": "code",
   "execution_count": null,
   "metadata": {
    "vscode": {
     "languageId": "sql"
    }
   },
   "outputs": [],
   "source": [
    "ALTER TABLE `venta` RENAME COLUMN `aux_cantidad` TO `cantidad`;"
   ]
  },
  {
   "cell_type": "markdown",
   "metadata": {},
   "source": [
    "<b> Variación </b>"
   ]
  },
  {
   "cell_type": "markdown",
   "metadata": {},
   "source": [
    "*   Omitiendo el paso 1 y ejecutando unicamente la consulta:\n",
    "\n",
    "    ```sql \n",
    "        UPDATE `venta`  SET `cantidad` = NULL WHERE `cantidad` = CHAR(10) + CHAR(13);\n",
    "    ``` \n",
    "\n",
    "*   en el paso 2, se puede modificar el tipo de datos de la columna `cantidad` sin necesidad de trasladar los datos, aplicando:\n",
    "\n",
    "    ```sql \n",
    "        ALTER TABLE `venta` MODIFY `cantidad` INTEGER;\n",
    "    ``` \n",
    "    ![green-divider](https://user-images.githubusercontent.com/7065401/52071924-c003ad80-2562-11e9-8297-1c6595f8a7ff.png)"
   ]
  },
  {
   "cell_type": "markdown",
   "metadata": {},
   "source": [
    "<b> Consideraciones Adicionales </b>\n",
    "\n",
    "Guardar en la tabla `aux_venta`, los registros que presentan problemas en la tabla, antes de realizar cualquier cambio, para luego remitirlo a la dirección y que sea evalaudo el proceso de captura de datos y se determine la manera más efectiva de tratar la información faltante."
   ]
  },
  {
   "cell_type": "code",
   "execution_count": null,
   "metadata": {
    "vscode": {
     "languageId": "sql"
    }
   },
   "outputs": [],
   "source": [
    "/* modificar tipo de datos */\n",
    "\n",
    "-- tabla: `tipo_gasto`\n",
    "-- campo: `id_tipo_gasto`   INTEGER"
   ]
  },
  {
   "cell_type": "code",
   "execution_count": null,
   "metadata": {
    "vscode": {
     "languageId": "sql"
    }
   },
   "outputs": [],
   "source": [
    "ALTER TABLE `tipo_gasto` MODIFY `id_tipo_gasto` INTEGER;"
   ]
  },
  {
   "cell_type": "code",
   "execution_count": null,
   "metadata": {
    "vscode": {
     "languageId": "sql"
    }
   },
   "outputs": [],
   "source": [
    "/* modificar tipo de datos */\n",
    "\n",
    "-- tabla: `producto`\n",
    "-- campo: `precio`       DECIMAL(10,2)"
   ]
  },
  {
   "cell_type": "code",
   "execution_count": null,
   "metadata": {
    "vscode": {
     "languageId": "sql"
    }
   },
   "outputs": [],
   "source": [
    "SELECT MAX(CHAR_LENGTH(`concepto`)) FROM `producto`;\n",
    "\n",
    "-- CHAR_LENGTH = 12"
   ]
  },
  {
   "cell_type": "code",
   "execution_count": null,
   "metadata": {
    "vscode": {
     "languageId": "sql"
    }
   },
   "outputs": [],
   "source": [
    "ALTER TABLE `producto` MODIFY `precio` DECIMAL(15,2);"
   ]
  },
  {
   "cell_type": "code",
   "execution_count": null,
   "metadata": {
    "vscode": {
     "languageId": "sql"
    }
   },
   "outputs": [],
   "source": [
    "/* modificar tipo de datos */\n",
    "\n",
    "-- tabla: `empleado`\n",
    "-- campo: `salario`       DECIMAL(10,2)\n"
   ]
  },
  {
   "cell_type": "code",
   "execution_count": null,
   "metadata": {
    "vscode": {
     "languageId": "sql"
    }
   },
   "outputs": [],
   "source": [
    "SELECT MAX(CHAR_LENGTH(`empleado`)) FROM `salario`;\n",
    "\n",
    "-- CHAR_LENGTH = 5"
   ]
  },
  {
   "cell_type": "code",
   "execution_count": null,
   "metadata": {
    "vscode": {
     "languageId": "sql"
    }
   },
   "outputs": [],
   "source": [
    "ALTER TABLE `empleado` MODIFY `salario` DECIMAL(10,2);"
   ]
  },
  {
   "cell_type": "code",
   "execution_count": null,
   "metadata": {
    "vscode": {
     "languageId": "sql"
    }
   },
   "outputs": [],
   "source": [
    "/* eliminar campo */\n",
    "\n",
    "-- tabla: `compra`\n",
    "-- campo: `precio`\n",
    "\n",
    "-- tabla: `venta`\n",
    "-- campo: `precio`\n",
    "\n",
    "-- tabla: `cliente`\n",
    "-- campo: `x`\n",
    "-- campo: `y`\n",
    "-- campo: `col10`\n",
    "\n",
    "-- tabla: `sucursal`\n",
    "-- campo: `latitud`\n",
    "-- campo: `longitud`"
   ]
  },
  {
   "cell_type": "code",
   "execution_count": null,
   "metadata": {
    "vscode": {
     "languageId": "sql"
    }
   },
   "outputs": [],
   "source": [
    "/* eliminar campo */\n",
    "\n",
    "-- tabla: `compra`\n",
    "-- campo: `precio`"
   ]
  },
  {
   "cell_type": "code",
   "execution_count": null,
   "metadata": {
    "vscode": {
     "languageId": "sql"
    }
   },
   "outputs": [],
   "source": [
    "ALTER TABLE `compra` DROP COLUMN `precio`;"
   ]
  },
  {
   "cell_type": "code",
   "execution_count": null,
   "metadata": {
    "vscode": {
     "languageId": "sql"
    }
   },
   "outputs": [],
   "source": [
    "/* eliminar campo */\n",
    "\n",
    "-- tabla: `venta`\n",
    "-- campo: `precio`"
   ]
  },
  {
   "cell_type": "code",
   "execution_count": null,
   "metadata": {
    "vscode": {
     "languageId": "sql"
    }
   },
   "outputs": [],
   "source": [
    "ALTER TABLE `venta` DROP COLUMN `precio`;"
   ]
  },
  {
   "cell_type": "code",
   "execution_count": null,
   "metadata": {
    "vscode": {
     "languageId": "sql"
    }
   },
   "outputs": [],
   "source": [
    "/* eliminar campo */\n",
    "\n",
    "-- tabla: `cliente`\n",
    "-- campo: `x`\n",
    "-- campo: `y`\n",
    "-- campo: `col10`"
   ]
  },
  {
   "cell_type": "code",
   "execution_count": null,
   "metadata": {
    "vscode": {
     "languageId": "sql"
    }
   },
   "outputs": [],
   "source": [
    "ALTER TABLE `venta` DROP COLUMN `x`;\n",
    "ALTER TABLE `venta` DROP COLUMN `y`;\n",
    "ALTER TABLE `venta` DROP COLUMN `col10`;"
   ]
  },
  {
   "cell_type": "code",
   "execution_count": null,
   "metadata": {
    "vscode": {
     "languageId": "sql"
    }
   },
   "outputs": [],
   "source": [
    "/* eliminar campo */\n",
    "\n",
    "-- tabla: `sucursal`\n",
    "-- campo: `latitud`\n",
    "-- campo: `longitud`"
   ]
  },
  {
   "cell_type": "code",
   "execution_count": null,
   "metadata": {
    "vscode": {
     "languageId": "sql"
    }
   },
   "outputs": [],
   "source": [
    "ALTER TABLE `venta` DROP COLUMN `latitud`;\n",
    "ALTER TABLE `venta` DROP COLUMN `longitud`;ALTER TABLE `venta` MODIFY `cantidad` INTEGER"
   ]
  },
  {
   "cell_type": "markdown",
   "metadata": {},
   "source": [
    "![green-divider](https://user-images.githubusercontent.com/7065401/52071924-c003ad80-2562-11e9-8297-1c6595f8a7ff.png)"
   ]
  },
  {
   "cell_type": "markdown",
   "metadata": {},
   "source": [
    "7.  Buscar valores faltantes y campos inconsistentes en las tablas sucursal, proveedor, empleado y cliente. De encontrarlos, deberás corregirlos o desestimarlos. Propone y realiza una acción correctiva sobre ese problema.\n",
    "\n",
    "| Tabla      | Columna          | Nro Registros Faltantes |\n",
    "| :--------: | :--------------: | :---------------------: |\n",
    "|  Sucursal  | N/A              |   0                     |\n",
    "|  Proveedor | Nombre           |   2                     |\n",
    "|  Empleados | N/A              |   0                     |\n",
    "|  cliente   | Provincia        |  31                     |\n",
    "|  cliente   | Nombre Apellido  |  46                     |\n",
    "|  cliente   | Domicilio        |  48                     |\n",
    "|  cliente   | Telefono         |  90                     |\n",
    "|  cliente   | Localidad        |  32                     |\n",
    "|  cliente   | x                |  62                     |\n",
    "|  cliente   | y                |  60                     |"
   ]
  },
  {
   "cell_type": "markdown",
   "metadata": {},
   "source": [
    "Se crean las tablas `aux_venta`, `aux_proveedor`, `aux_cliente` y allí se han de almacenar los registros que presenten problemas de las tablas correspondientes: `venta`, `proveedor`, `cliente`, y los campos de las tablas nativas se han de completar con: 'Sin dato'."
   ]
  },
  {
   "cell_type": "code",
   "execution_count": null,
   "metadata": {
    "vscode": {
     "languageId": "sql"
    }
   },
   "outputs": [],
   "source": [
    "DROP TABLE IF EXISTS `aux_cliente`;\n",
    "CREATE TABLE IF NOT EXISTS `aux_cliente` (\n",
    "\t`id_cliente`\t\t\t\t\tINTEGER,\n",
    "\t`provincia`\t\t\tVARCHAR(50),\n",
    "\t`nombre_apellido`\tVARCHAR(80),\n",
    "\t`domicilio`\t\t\tVARCHAR(150),\n",
    "\t`telefono`\t\t\tVARCHAR(30),\n",
    "\t`edad`\t\t\t\tVARCHAR(5),\n",
    "\t`localidad`\t\t\tVARCHAR(80),\n",
    "\t`x`\t\t\tVARCHAR(30),\n",
    "\t`y`\t\t\tVARCHAR(30),\n",
    "\t`col10`\t\t\t\tVARCHAR(1)\n",
    ") ENGINE=InnoDB DEFAULT CHARSET=utf8mb4 COLLATE=utf8mb4_spanish_ci;\n",
    "\n",
    "INSERT INTO `aux_cliente`\n",
    "\tSELECT * FROM `cliente` WHERE `id_cliente` IS NULL OR TRIM(`id_cliente`) = ''\n",
    "    OR `provincia` IS NULL OR TRIM(`provincia`) = ''\n",
    "    OR `nombre_apellido` IS NULL OR TRIM(`nombre_apellido`) = ''\n",
    "    OR `domicilio` IS NULL OR TRIM(`domicilio`) = ''\n",
    "    OR `telefono` IS NULL OR TRIM(`telefono`) = ''\n",
    "    OR `edad` IS NULL OR TRIM(`edad`) = ''\n",
    "    OR `localidad` IS NULL OR TRIM(`localidad`) = ''\n",
    "    OR `x` IS NULL OR TRIM(`x`) = ''\n",
    "    OR `y` IS NULL OR TRIM(`y`) = '';\n",
    "    \n",
    "ALTER TABLE `aux_cliente` DROP COLUMN `col10`;\n",
    "\n",
    "SELECT * FROM aux_cliente;\n",
    "\n",
    "SET SQL_SAFE_UPDATES = 0;\n",
    "\n",
    "UPDATE `aux_cliente`\n",
    "\tSET\n",
    "\t\t`provincia` = CASE WHEN TRIM(`provincia`) = \"\" OR ISNULL(`provincia`) THEN 'Sin Dato' ELSE `provincia` END,\n",
    "\t\t`nombre_apellido` = CASE WHEN TRIM(`nombre_apellido`) = \"\" OR ISNULL(`nombre_apellido`) THEN 'Sin Dato' ELSE `nombre_apellido` END,\n",
    "\t\t`domicilio` = CASE WHEN TRIM(`domicilio`) = \"\" OR ISNULL(`domicilio`) THEN 'Sin Dato' ELSE `domicilio` END,\n",
    "\t\t`telefono` = CASE WHEN TRIM(`telefono`) = \"\" OR ISNULL(`provincia`) THEN 'Sin Dato' ELSE `provincia` END,\n",
    "\t\t`localidad` = CASE WHEN TRIM(`localidad`) = \"\" OR ISNULL(`localidad`) THEN 'Sin Dato' ELSE `localidad` END,\n",
    "\t\t`x` = CASE WHEN TRIM(`x`) = \"\" OR ISNULL(`x`) THEN '0' ELSE `x` END,\n",
    "\t\t`y` = CASE WHEN TRIM(`y`) = \"\" OR ISNULL(`y`) THEN '0' ELSE `y` END;\n",
    "        \n",
    "UPDATE `cliente`\n",
    "\tSET\n",
    "\t\t`provincia` = CASE WHEN TRIM(`provincia`) = \"\" OR ISNULL(`provincia`) THEN 'Sin Dato' ELSE `provincia` END,\n",
    "\t\t`nombre_apellido` = CASE WHEN TRIM(`nombre_apellido`) = \"\" OR ISNULL(`nombre_apellido`) THEN 'Sin Dato' ELSE `nombre_apellido` END,\n",
    "\t\t`domicilio` = CASE WHEN TRIM(`domicilio`) = \"\" OR ISNULL(`domicilio`) THEN 'Sin Dato' ELSE `domicilio` END,\n",
    "\t\t`telefono` = CASE WHEN TRIM(`telefono`) = \"\" OR ISNULL(`provincia`) THEN 'Sin Dato' ELSE `provincia` END,\n",
    "\t\t`localidad` = CASE WHEN TRIM(`localidad`) = \"\" OR ISNULL(`localidad`) THEN 'Sin Dato' ELSE `localidad` END,\n",
    "\t\t`x` = CASE WHEN TRIM(`x`) = \"\" OR ISNULL(`x`) THEN '0' ELSE `x` END,\n",
    "\t\t`y` = CASE WHEN TRIM(`y`) = \"\" OR ISNULL(`y`) THEN '0' ELSE `y` END;\n",
    "        \n",
    "SELECT * FROM `cliente`;\n",
    "\n",
    "DROP TABLE IF EXISTS `aux_proveedor`;\n",
    "CREATE TABLE IF NOT EXISTS `aux_proveedor` (\n",
    "\t`id_proveedor`\t\tINTEGER,\n",
    "\t`nombre`\t\t\tVARCHAR(80),\n",
    "\t`domicilio`\t\tVARCHAR(150),\n",
    "\t`ciudad`\t\t\tVARCHAR(80),\n",
    "\t`provincia`\t\tVARCHAR(50),\n",
    "\t`pais`\t\t\tVARCHAR(20),\n",
    "\t`departamento`\tVARCHAR(80)\n",
    ") ENGINE=InnoDB DEFAULT CHARSET=utf8mb4 COLLATE=utf8mb4_spanish_ci;\n",
    "\n",
    "\n",
    "INSERT INTO `aux_proveedor`\n",
    "\tSELECT * FROM `proveedor`\n",
    "    WHERE `nombre` IS NULL OR TRIM(`nombre`) = '';\n",
    "\n",
    "SELECT * FROM `aux_proveedor`;\n",
    "\n",
    "UPDATE `aux_proveedor`  SET `nombre` = 'Sin Dato' \n",
    "\tWHERE `nombre` IS NULL OR TRIM(`nombre`) = '';\n",
    "    \n",
    "SELECT * FROM `aux_proveedor`;\n",
    "\n",
    "UPDATE `proveedor`  SET `nombre` = 'Sin Dato' \n",
    "\tWHERE `nombre` IS NULL OR TRIM(`nombre`) = '';\n",
    "\n",
    "SELECT * FROM `proveedor`;"
   ]
  },
  {
   "cell_type": "markdown",
   "metadata": {},
   "source": [
    "![green-divider](https://user-images.githubusercontent.com/7065401/52071924-c003ad80-2562-11e9-8297-1c6595f8a7ff.png)"
   ]
  },
  {
   "cell_type": "markdown",
   "metadata": {},
   "source": [
    "8.  Chequear la consistencia de los campos precio y cantidad de la tabla de ventas."
   ]
  },
  {
   "cell_type": "markdown",
   "metadata": {},
   "source": [
    "Este ítem fue resuelto en los ejercicios anteriores."
   ]
  },
  {
   "cell_type": "markdown",
   "metadata": {},
   "source": [
    "![green-divider](https://user-images.githubusercontent.com/7065401/52071924-c003ad80-2562-11e9-8297-1c6595f8a7ff.png)"
   ]
  },
  {
   "cell_type": "markdown",
   "metadata": {},
   "source": [
    "9.  Utilizar la funcion provista 'UC_Words' para modificar a letra capital los campos que contengan descripciones para todas las tablas."
   ]
  },
  {
   "cell_type": "code",
   "execution_count": null,
   "metadata": {
    "vscode": {
     "languageId": "sql"
    }
   },
   "outputs": [],
   "source": [
    "SELECT * FROM `cliente`;\n",
    "\n",
    "UPDATE `cliente`\n",
    "\tSET\n",
    "\t\t`provincia` = CASE WHEN (`provincia`)IS NOT NULL THEN UC_Words(`provincia`) ELSE `provincia` END,\n",
    "        `nombre_apellido` = CASE WHEN (`nombre_apellido`)IS NOT NULL THEN UC_Words(`nombre_apellido`) ELSE `nombre_apellido` END,\n",
    "\t\t`domicilio` = CASE WHEN (`domicilio`)IS NOT NULL THEN UC_Words(`domicilio`) ELSE `domicilio` END,\n",
    "\t\t`localidad` = CASE WHEN (`localidad`)IS NOT NULL THEN UC_Words(`localidad`) ELSE `localidad` END;\n",
    "\n",
    "SELECT * FROM `compra`;\n",
    "\n",
    "-- No posee campos descriptivos\n",
    "\n",
    "SELECT * FROM `gasto`;\n",
    "\n",
    "-- No posee campos descriptivos\n",
    "\n",
    "SELECT * FROM `sucursal`;\n",
    "\n",
    "UPDATE `sucursal`\n",
    "\tSET\n",
    "\t\t`sucursal` = CASE WHEN (`sucursal`)IS NOT NULL THEN UC_Words(`sucursal`) ELSE `sucursal` END,\n",
    "        `domicilio` = CASE WHEN (`domicilio`)IS NOT NULL THEN UC_Words(`domicilio`) ELSE `domicilio` END,\n",
    "\t\t`localidad` = CASE WHEN (`localidad`)IS NOT NULL THEN UC_Words(`localidad`) ELSE `localidad` END,\n",
    "\t\t`provincia` = CASE WHEN (`provincia`)IS NOT NULL THEN UC_Words(`provincia`) ELSE `provincia` END;\n",
    "\n",
    "SELECT * FROM `tipo_gasto`;\n",
    "\n",
    "-- No posee campos descriptivos\n",
    "\n",
    "SELECT * FROM `venta`;\n",
    "\n",
    "-- No posee campos descriptivos\n",
    "\n",
    "SELECT * FROM `canal_venta`;\n",
    "\n",
    "-- No posee campos descriptivos\n",
    "\n",
    "SELECT * FROM `empleado`;\n",
    "\n",
    "UPDATE `empleado`\n",
    "\tSET\n",
    "\t\t`apellido` = CASE WHEN (`apellido`)IS NOT NULL THEN UC_Words(`apellido`) ELSE `apellido` END,\n",
    "        `nombre` = CASE WHEN (`nombre`)IS NOT NULL THEN UC_Words(`nombre`) ELSE `nombre` END,\n",
    "\t\t`sucursal` = CASE WHEN (`sucursal`)IS NOT NULL THEN UC_Words(`sucursal`) ELSE `sucursal` END,\n",
    "\t\t`sector` = CASE WHEN (`sector`)IS NOT NULL THEN UC_Words(`sector`) ELSE `sector` END,\n",
    "        `cargo` = CASE WHEN (`cargo`)IS NOT NULL THEN UC_Words(`cargo`) ELSE `cargo` END;\n",
    "\n",
    "SELECT * FROM `producto`;\n",
    "\n",
    "UPDATE `producto`\n",
    "\tSET\n",
    "\t\t`descripcion_producto` = CASE WHEN (`descripcion_producto`)IS NOT NULL THEN UC_Words(`descripcion_producto`) ELSE `descripcion_producto` END,\n",
    "        `tipo` = CASE WHEN (`tipo`)IS NOT NULL THEN UC_Words(`tipo`) ELSE `tipo` END;\n",
    "\n",
    "\n",
    "SELECT * FROM `proveedor`;\n",
    "\t\n",
    "\n",
    "UPDATE `proveedor`\n",
    "\tSET\n",
    "\t\t`nombre` = CASE WHEN (`nombre`)IS NOT NULL THEN UC_Words(`nombre`) ELSE `nombre` END,\n",
    "        `domicilio` = CASE WHEN (`domicilio`)IS NOT NULL THEN UC_Words(`domicilio`) ELSE `domicilio` END,\n",
    "        `ciudad` = CASE WHEN (`ciudad`)IS NOT NULL THEN UC_Words(`ciudad`) ELSE `ciudad` END,\n",
    "        `provincia` = CASE WHEN (`provincia`)IS NOT NULL THEN UC_Words(`provincia`) ELSE `ciudad` END,\n",
    "        `pais` = CASE WHEN (`pais`)IS NOT NULL THEN UC_Words(`pais`) ELSE `pais` END,\n",
    "        `departamento` = CASE WHEN (`departamento`)IS NOT NULL THEN UC_Words(`departamento`) ELSE `departamento` END;"
   ]
  }
 ],
 "metadata": {
  "language_info": {
   "name": "python"
  },
  "orig_nbformat": 4
 },
 "nbformat": 4,
 "nbformat_minor": 2
}
