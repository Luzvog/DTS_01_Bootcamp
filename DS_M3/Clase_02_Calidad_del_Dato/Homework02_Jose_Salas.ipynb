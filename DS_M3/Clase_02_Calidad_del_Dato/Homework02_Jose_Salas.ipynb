{
 "cells": [
  {
   "cell_type": "markdown",
   "metadata": {},
   "source": [
    "![purple-divider](https://user-images.githubusercontent.com/7065401/52071927-c1cd7100-2562-11e9-908a-dde91ba14e59.png)\n",
    "\n",
    "# <b> Práctica Clase 2 </b>\n",
    "\n",
    "Con el objetivo de asegurarse de que la calidad de la información con la que se va a trabajar sea la óptima, es necesario realizar una lista de propuestas de mejora teniendo en cuenta los siguientes puntos:"
   ]
  },
  {
   "cell_type": "markdown",
   "metadata": {},
   "source": [
    "## <b> Ítems </b>\n"
   ]
  },
  {
   "cell_type": "markdown",
   "metadata": {},
   "source": [
    "\n",
    "1.  ¿Qué tan actualizada está la información? ¿La forma en que se actualiza ó mantiene esa información se puede mejorar? <br>\n"
   ]
  },
  {
   "cell_type": "markdown",
   "metadata": {},
   "source": [
    "*   Tablas con el campo fecha:\n",
    "\n",
    "    *   compra: ultimo registro cargado el 25-dic-2020.\n",
    "    *   venta: ultimo registro cargado el 30-dic-2020.\n",
    "    *   gasto: ultimo registro cargado el 01-dic-2020."
   ]
  },
  {
   "cell_type": "markdown",
   "metadata": {},
   "source": [
    "Los datos no están vigentes, por lo tanto no pueden ser implementados para la toma de decisiones estatégicas, ya que están siendo evalaudos 2 años depues de haber sido almacenados, si bien es muy pronto para asumir que los datos presentan cesgos, no es arriesgado asumir a priori que no describen la realidad actual de la empresa. "
   ]
  },
  {
   "cell_type": "markdown",
   "metadata": {},
   "source": [
    "Se puede definir un periodo de actualización de datos, que reflejen en tiempo real la realidad de la empresa, este periodo suele definir en función experiencia, de otro mode debe obedecer al los requrimientos de la autoridad compenete que regule su campo de operación."
   ]
  },
  {
   "cell_type": "markdown",
   "metadata": {},
   "source": [
    "![green-divider](https://user-images.githubusercontent.com/7065401/52071924-c003ad80-2562-11e9-8297-1c6595f8a7ff.png)"
   ]
  },
  {
   "cell_type": "markdown",
   "metadata": {},
   "source": [
    "\n",
    "2.  ¿Los datos están completos en todas las tablas? <br>\n"
   ]
  },
  {
   "cell_type": "markdown",
   "metadata": {},
   "source": []
  },
  {
   "cell_type": "markdown",
   "metadata": {},
   "source": [
    "3.  ¿Se conocen las fuentes de los datos?"
   ]
  },
  {
   "cell_type": "markdown",
   "metadata": {},
   "source": [
    "No, no se conoce la fuente de los datos."
   ]
  },
  {
   "cell_type": "markdown",
   "metadata": {},
   "source": [
    "![green-divider](https://user-images.githubusercontent.com/7065401/52071924-c003ad80-2562-11e9-8297-1c6595f8a7ff.png)"
   ]
  },
  {
   "cell_type": "markdown",
   "metadata": {},
   "source": [
    "4.  Al integrar éstos datos, es prudente que haya una normalización respecto de nombrar las tablas y sus campos."
   ]
  },
  {
   "cell_type": "markdown",
   "metadata": {},
   "source": [
    "Si, es prudente normalizar los identificadores de los campos y tablas ya que facilita la recuperación de los datos y la correlatividad entre los registros a la hora de generar las relaciones."
   ]
  },
  {
   "cell_type": "markdown",
   "metadata": {},
   "source": [
    "![green-divider](https://user-images.githubusercontent.com/7065401/52071924-c003ad80-2562-11e9-8297-1c6595f8a7ff.png)"
   ]
  },
  {
   "cell_type": "markdown",
   "metadata": {},
   "source": [
    "5.  Es importante revisar la consistencia de los datos: ¿Se pueden relacionar todas las tablas al modelo? ¿Cuáles son las tablas de hechos y las tablas dimensionales o maestros? ¿Podemos hacer esa separación en los datos que tenemos (tablas de hecho y dimensiones)? ¿Hay claves duplicadas? ¿Cuáles son variables cualitativas y cuáles son cuantitativas? ¿Qué acciones podemos aplicar sobre las mismas?"
   ]
  },
  {
   "cell_type": "markdown",
   "metadata": {},
   "source": [
    "*   <b> Tablas de Hechos </b>:\n",
    "  \n",
    "    *   Venta: registro de la venta.\n",
    "  \n",
    "    *   Compra: registro de la compra.\n",
    "  \n",
    "    *   Gastos: registro de las deducciones hechas de caja para efecto de la operación del negocio.\n",
    "  \n",
    "*   <b> Tablas de Dimensiones </b>:\n",
    "\n",
    "    *   Clientes: registra los clientes atendidos.\n",
    "\n",
    "    *   Sucursales: registras las franquicias del negocio.\n",
    "\n",
    "    *   Tipo de Gatos: registras los conceptos de las deducciones hechas de las caja del negocio para efectos de su operatividad.\n",
    "\n",
    "    *   Empleados: registra los datos del empleado.\n",
    "\n",
    "    *   Prodcusto: catalogo de ítems vendido en la tiempo.\n",
    "\n",
    "    *   Proveedores: registro de proveedores y subcontratados por el negocio.\n",
    "\n",
    "    *   Canal de Ventas: registra los medios a través de los cuales el negocio comercializa los artículos."
   ]
  },
  {
   "cell_type": "markdown",
   "metadata": {},
   "source": [
    "![green-divider](https://user-images.githubusercontent.com/7065401/52071924-c003ad80-2562-11e9-8297-1c6595f8a7ff.png)"
   ]
  },
  {
   "cell_type": "markdown",
   "metadata": {},
   "source": [
    "6.  Normalizar los nombres de los campos y colocar el tipo de dato adecuado para cada uno en cada una de las tablas. Descartar columnas que consideres que no tienen relevancia."
   ]
  },
  {
   "cell_type": "code",
   "execution_count": null,
   "metadata": {
    "vscode": {
     "languageId": "sql"
    }
   },
   "outputs": [],
   "source": [
    "/* modificar tipo de datos */\n",
    "\n",
    "-- tabla: `venta`\n",
    "-- campo: `cantidad`\t    INTEGER\n",
    "\n",
    "-- creo un nuevo campo llamado `aux_venta`\n",
    "-- paso los datos de `canitdad` a `aux_cantidad`\n",
    "-- borro la columna `cantidad`\n",
    "-- cambio el nombre a la columna `aux_cantidad` por `cantidad`"
   ]
  },
  {
   "cell_type": "markdown",
   "metadata": {},
   "source": [
    "1)   Crear campo `aux_venta` en la tabla `venta`."
   ]
  },
  {
   "cell_type": "code",
   "execution_count": null,
   "metadata": {
    "vscode": {
     "languageId": "sql"
    }
   },
   "outputs": [],
   "source": [
    "ALTER TABLE `venta` ADD `aux_cantidad` INTEGER;\n",
    "\n",
    "-- SHOW FULL COLUMNS FROM `venta`; # muestra una descripcion de la tabla"
   ]
  },
  {
   "cell_type": "markdown",
   "metadata": {},
   "source": [
    "2.   Mover los datos de `cantidad` a `aux_venta`."
   ]
  },
  {
   "cell_type": "code",
   "execution_count": null,
   "metadata": {
    "vscode": {
     "languageId": "sql"
    }
   },
   "outputs": [],
   "source": [
    "UPDATE `venta`\tSET `aux_cantidad` = `cantidad`;"
   ]
  },
  {
   "cell_type": "markdown",
   "metadata": {},
   "source": [
    "<b> Arroja el error </b>\n",
    "\n",
    "*   <i> Error Code: 1175. You are using safe update mode and you tried to update a table without a WHERE that uses a KEY column. <br>\n",
    "*   To disable safe mode, toggle the option in Preferences -> SQL Editor -> Query Editor and reconnect </i> ."
   ]
  },
  {
   "cell_type": "markdown",
   "metadata": {},
   "source": [
    "<b> Solución </b>\n",
    "\n",
    "*   Desde la versión 5.2.26 viene la opción <i> safe-update </i> (actualización en modo seguro) establecida por defecto. Esto significa que no se puede modificar ningún registro (<i> Delete, Update, Truncate </i>) sin especificar la clave en la claúsula <i> Where </i>.\n",
    "\n",
    "*   Para deshabilitar el modo seguro:\n",
    "\n",
    "```sql\n",
    "    SET SQL_SAFE_UPDATES = 0;\n",
    "```\n",
    "\n",
    "*   Para habilitar el modo seguro:\n",
    "\n",
    "```sql\n",
    "    SET SQL_SAFE_UPDATES = 1;\n",
    "```\n"
   ]
  },
  {
   "cell_type": "markdown",
   "metadata": {},
   "source": [
    "\n",
    "<b> Ejercutar consulta </b> :\n"
   ]
  },
  {
   "cell_type": "code",
   "execution_count": null,
   "metadata": {
    "vscode": {
     "languageId": "sql"
    }
   },
   "outputs": [],
   "source": [
    "UPDATE `venta`\tSET `aux_cantidad` = `cantidad`;"
   ]
  },
  {
   "cell_type": "markdown",
   "metadata": {},
   "source": [
    "<b> Arroja el error </b>\n",
    "\n",
    "*   <i> Error SQL (1366) : Incorrect integer value: '' for column 'canitdad' at row 72 </i>."
   ]
  },
  {
   "cell_type": "markdown",
   "metadata": {},
   "source": [
    "\n",
    "<b> Ejercutar consulta </b> :\n"
   ]
  },
  {
   "cell_type": "code",
   "execution_count": null,
   "metadata": {
    "vscode": {
     "languageId": "sql"
    }
   },
   "outputs": [],
   "source": [
    "SELECT * FROM `venta` \n",
    "WHERE `id_venta` = 72;\n",
    "\n",
    "UPDATE `venta` SET `cantidad` = NULL WHERE `id_venta` = 72;"
   ]
  },
  {
   "cell_type": "markdown",
   "metadata": {},
   "source": [
    "El campo está vacío, almacenó el salto de línea, nos obstante, al realizar la consulta: \n",
    "\n",
    "```sql\n",
    "    SELECT * FROM venta \n",
    "    WHERE cantidad = '' OR cantidad IS NULL;\n",
    "\n",
    "```\n",
    "\n",
    "No arroja ninguna coincidencia, pues los parametros seteados no correspondel al carácter del salto de linea.\n"
   ]
  },
  {
   "cell_type": "markdown",
   "metadata": {},
   "source": [
    "<b> Solución </b>\n",
    "\n",
    "*   En windows, el salto de linea es representado, en la mayoría de las ocaciones por: `\\r\\n`, no obstante tambie es frecuente encontrar archivos en los cuales el salto de línea es denotado por: `\\n` (esto último depende en gran mendida de como fue generado el .csv). <br>\n",
    "    *   Para 'decirle' a MySQL que busque mediante dicho parámetro es necesario contruir la consulta de la siguiente manera.\n",
    "    \n",
    "        ```sql\n",
    "        SELECT * FROM venta \n",
    "        WHERE cantidad = CHAR(10) + CHAR(13);\n",
    "\n",
    "        ```\n",
    "\n",
    "*   En Linux, unix y iOS es representado por: `\\n`. <br>\n",
    "    *   Para 'decirle' a MySQL que busque mediante dicho parámetro es necesario contruir la consulta de la siguiente manera.\n",
    "    \n",
    "        ```sql\n",
    "        SELECT * FROM venta \n",
    "        WHERE cantidad = CHAR(10);\n",
    "\n",
    "        ```\n",
    "\n"
   ]
  },
  {
   "cell_type": "markdown",
   "metadata": {},
   "source": [
    "| Representación | Caracter|\n",
    "| :------------: | :-----: |\n",
    "| CHAR(10)       | \\n      |\n",
    "| CHAR(13)       | \\r      |"
   ]
  },
  {
   "cell_type": "markdown",
   "metadata": {},
   "source": [
    "\n",
    "<b> Ejercutar consulta </b> :\n"
   ]
  },
  {
   "cell_type": "code",
   "execution_count": null,
   "metadata": {
    "vscode": {
     "languageId": "sql"
    }
   },
   "outputs": [],
   "source": [
    "UPDATE `venta`  SET `cantidad` = NULL WHERE `cantidad` = CHAR(10) + CHAR(13);"
   ]
  },
  {
   "cell_type": "markdown",
   "metadata": {},
   "source": [
    "A través de la consulta anterior se identificaron los campos que almacenaron el salto de línea y luego se cargo en estos el valor nulo."
   ]
  },
  {
   "cell_type": "markdown",
   "metadata": {},
   "source": [
    "\n",
    "<b> Ejercutar consulta </b> :\n"
   ]
  },
  {
   "cell_type": "code",
   "execution_count": null,
   "metadata": {
    "vscode": {
     "languageId": "sql"
    }
   },
   "outputs": [],
   "source": [
    "UPDATE `venta`\tSET `aux_cantidad` = `cantidad`;"
   ]
  },
  {
   "cell_type": "markdown",
   "metadata": {},
   "source": [
    "A través de la consulta anterior se copiaron los registro de la columna `cantidad` en la columna `aux_cantidad`. <br>\n",
    "\n",
    "La instrucción:\n",
    "\n",
    "```sql\n",
    "    SHOW FULL COLUMNS FROM `venta`\n",
    "```\n",
    "Muestra la información característica de cada una de las columnas que conforman la tabla. \n"
   ]
  },
  {
   "cell_type": "markdown",
   "metadata": {},
   "source": [
    "3.   Borrar la columna cantidad `cantidad`."
   ]
  },
  {
   "cell_type": "code",
   "execution_count": null,
   "metadata": {
    "vscode": {
     "languageId": "sql"
    }
   },
   "outputs": [],
   "source": [
    "ALTER TABLE `venta` DROP COLUMN `cantidad`;"
   ]
  },
  {
   "cell_type": "markdown",
   "metadata": {},
   "source": [
    "4.   Cambiar el nombre de la columna `aux_cantidad` por `cantidad`."
   ]
  },
  {
   "cell_type": "code",
   "execution_count": null,
   "metadata": {
    "vscode": {
     "languageId": "sql"
    }
   },
   "outputs": [],
   "source": [
    "ALTER TABLE `venta` RENAME COLUMN `aux_cantidad` TO `cantidad`;"
   ]
  },
  {
   "cell_type": "markdown",
   "metadata": {},
   "source": [
    "<b> Variación </b>"
   ]
  },
  {
   "cell_type": "markdown",
   "metadata": {},
   "source": [
    "*   Omitiendo el paso 1 y ejecutando unicamente la consulta:\n",
    "\n",
    "    ```sql \n",
    "        UPDATE `venta`  SET `cantidad` = NULL WHERE `cantidad` = CHAR(10) + CHAR(13);\n",
    "    ``` \n",
    "\n",
    "*   en el paso 2, se puede modificar el tipo de datos de la columna `cantidad` sin necesidad de trasladar los datos, aplicando:\n",
    "\n",
    "    ```sql \n",
    "        ALTER TABLE `venta` MODIFY `cantidad` INTEGER;\n",
    "    ``` \n",
    "    ![green-divider](https://user-images.githubusercontent.com/7065401/52071924-c003ad80-2562-11e9-8297-1c6595f8a7ff.png)"
   ]
  },
  {
   "cell_type": "markdown",
   "metadata": {},
   "source": [
    "<b> Consideraciones Adicionales </b>\n",
    "\n",
    "Guardar en la tabla `aux_venta`, los registros que presentan problemas en la tabla, antes de realizar cualquier cambio, para luego remitirlo a la dirección y que sea evalaudo el proceso de captura de datos y se determine la manera más efectiva de tratar la información faltante."
   ]
  },
  {
   "cell_type": "code",
   "execution_count": null,
   "metadata": {
    "vscode": {
     "languageId": "sql"
    }
   },
   "outputs": [],
   "source": [
    "/* modificar tipo de datos */\n",
    "\n",
    "-- tabla: `tipo_gasto`\n",
    "-- campo: `id_tipo_gasto`   INTEGER"
   ]
  },
  {
   "cell_type": "code",
   "execution_count": null,
   "metadata": {
    "vscode": {
     "languageId": "sql"
    }
   },
   "outputs": [],
   "source": [
    "ALTER TABLE `tipo_gasto` MODIFY `id_tipo_gasto` INTEGER;"
   ]
  },
  {
   "cell_type": "code",
   "execution_count": null,
   "metadata": {
    "vscode": {
     "languageId": "sql"
    }
   },
   "outputs": [],
   "source": [
    "/* modificar tipo de datos */\n",
    "\n",
    "-- tabla: `producto`\n",
    "-- campo: `precio`       DECIMAL(10,2)"
   ]
  },
  {
   "cell_type": "code",
   "execution_count": null,
   "metadata": {
    "vscode": {
     "languageId": "sql"
    }
   },
   "outputs": [],
   "source": [
    "SELECT MAX(CHAR_LENGTH(`concepto`)) FROM `producto`;\n",
    "\n",
    "-- CHAR_LENGTH = 12"
   ]
  },
  {
   "cell_type": "code",
   "execution_count": null,
   "metadata": {
    "vscode": {
     "languageId": "sql"
    }
   },
   "outputs": [],
   "source": [
    "ALTER TABLE `producto` MODIFY `precio` DECIMAL(15,2);"
   ]
  },
  {
   "cell_type": "code",
   "execution_count": null,
   "metadata": {
    "vscode": {
     "languageId": "sql"
    }
   },
   "outputs": [],
   "source": [
    "/* modificar tipo de datos */\n",
    "\n",
    "-- tabla: `empleado`\n",
    "-- campo: `salario`       DECIMAL(10,2)\n"
   ]
  },
  {
   "cell_type": "code",
   "execution_count": null,
   "metadata": {
    "vscode": {
     "languageId": "sql"
    }
   },
   "outputs": [],
   "source": [
    "SELECT MAX(CHAR_LENGTH(`empleado`)) FROM `salario`;\n",
    "\n",
    "-- CHAR_LENGTH = 5"
   ]
  },
  {
   "cell_type": "code",
   "execution_count": null,
   "metadata": {
    "vscode": {
     "languageId": "sql"
    }
   },
   "outputs": [],
   "source": [
    "ALTER TABLE `empleado` MODIFY `salario` DECIMAL(10,2);"
   ]
  },
  {
   "cell_type": "code",
   "execution_count": null,
   "metadata": {
    "vscode": {
     "languageId": "sql"
    }
   },
   "outputs": [],
   "source": [
    "/* eliminar campo */\n",
    "\n",
    "-- tabla: `compra`\n",
    "-- campo: `precio`\n",
    "\n",
    "-- tabla: `venta`\n",
    "-- campo: `precio`\n",
    "\n",
    "-- tabla: `cliente`\n",
    "-- campo: `x`\n",
    "-- campo: `y`\n",
    "-- campo: `col10`\n",
    "\n",
    "-- tabla: `sucursal`\n",
    "-- campo: `latitud`\n",
    "-- campo: `longitud`"
   ]
  },
  {
   "cell_type": "code",
   "execution_count": null,
   "metadata": {
    "vscode": {
     "languageId": "sql"
    }
   },
   "outputs": [],
   "source": [
    "/* eliminar campo */\n",
    "\n",
    "-- tabla: `compra`\n",
    "-- campo: `precio`"
   ]
  },
  {
   "cell_type": "code",
   "execution_count": null,
   "metadata": {
    "vscode": {
     "languageId": "sql"
    }
   },
   "outputs": [],
   "source": [
    "ALTER TABLE `compra` DROP COLUMN `precio`;"
   ]
  },
  {
   "cell_type": "code",
   "execution_count": null,
   "metadata": {
    "vscode": {
     "languageId": "sql"
    }
   },
   "outputs": [],
   "source": [
    "/* eliminar campo */\n",
    "\n",
    "-- tabla: `venta`\n",
    "-- campo: `precio`"
   ]
  },
  {
   "cell_type": "code",
   "execution_count": null,
   "metadata": {
    "vscode": {
     "languageId": "sql"
    }
   },
   "outputs": [],
   "source": [
    "ALTER TABLE `venta` DROP COLUMN `precio`;"
   ]
  },
  {
   "cell_type": "code",
   "execution_count": null,
   "metadata": {
    "vscode": {
     "languageId": "sql"
    }
   },
   "outputs": [],
   "source": [
    "/* eliminar campo */\n",
    "\n",
    "-- tabla: `cliente`\n",
    "-- campo: `x`\n",
    "-- campo: `y`\n",
    "-- campo: `col10`"
   ]
  },
  {
   "cell_type": "code",
   "execution_count": null,
   "metadata": {
    "vscode": {
     "languageId": "sql"
    }
   },
   "outputs": [],
   "source": [
    "ALTER TABLE `venta` DROP COLUMN `x`;\n",
    "ALTER TABLE `venta` DROP COLUMN `y`;\n",
    "ALTER TABLE `venta` DROP COLUMN `col10`;"
   ]
  },
  {
   "cell_type": "code",
   "execution_count": null,
   "metadata": {
    "vscode": {
     "languageId": "sql"
    }
   },
   "outputs": [],
   "source": [
    "/* eliminar campo */\n",
    "\n",
    "-- tabla: `sucursal`\n",
    "-- campo: `latitud`\n",
    "-- campo: `longitud`"
   ]
  },
  {
   "cell_type": "code",
   "execution_count": null,
   "metadata": {
    "vscode": {
     "languageId": "sql"
    }
   },
   "outputs": [],
   "source": [
    "ALTER TABLE `venta` DROP COLUMN `latitud`;\n",
    "ALTER TABLE `venta` DROP COLUMN `longitud`;ALTER TABLE `venta` MODIFY `cantidad` INTEGER"
   ]
  },
  {
   "cell_type": "code",
   "execution_count": null,
   "metadata": {
    "vscode": {
     "languageId": "sql"
    }
   },
   "outputs": [],
   "source": [
    "-- normalización tabla cliente\n",
    "SELECT * FROM `cliente`;\n",
    "\n",
    "SELECT CHAR_LENGTH(`x`) FROM `cliente`;\n",
    "-- número de carácteres: 12\n",
    "\n",
    "SELECT CHAR_LENGTH(`y`) FROM `cliente`;\n",
    "-- número de carácteres: 12\n",
    "\n",
    "ALTER TABLE `cliente` ADD `latitud` DECIMAL(13,10) NOT NULL DEFAULT '0' AFTER `y`, ADD `longitud` DECIMAL(13,10) NOT NULL DEFAULT '0' AFTER `latitud`;\n",
    "\n",
    "SELECT * FROM `cliente`;\n",
    "\n",
    "UPDATE `cliente` SET `x` = '0' WHERE `x` = '';\n",
    "UPDATE `cliente` SET `y` = '0' WHERE `y` = '';\n",
    "\n",
    "UPDATE `cliente` SET `longitud` = REPLACE((`x`), (','), ('.'));\n",
    "\n",
    "UPDATE `cliente` SET `latitud` = REPLACE((`y`), (','), ('.'));\n",
    "\n",
    "SELECT * FROM `cliente`;\n",
    "\n",
    "ALTER TABLE `cliente` DROP `x`, DROP `y`;"
   ]
  },
  {
   "cell_type": "markdown",
   "metadata": {},
   "source": [
    "![green-divider](https://user-images.githubusercontent.com/7065401/52071924-c003ad80-2562-11e9-8297-1c6595f8a7ff.png)"
   ]
  },
  {
   "cell_type": "markdown",
   "metadata": {},
   "source": [
    "7.  Buscar valores faltantes y campos inconsistentes en las tablas sucursal, proveedor, empleado y cliente. De encontrarlos, deberás corregirlos o desestimarlos. Propone y realiza una acción correctiva sobre ese problema.\n",
    "\n",
    "| Tabla      | Columna          | Nro Registros Faltantes |\n",
    "| :--------: | :--------------: | :---------------------: |\n",
    "|  Sucursal  | N/A              |   0                     |\n",
    "|  Proveedor | Nombre           |   2                     |\n",
    "|  Empleados | N/A              |   0                     |\n",
    "|  cliente   | Provincia        |  31                     |\n",
    "|  cliente   | Nombre Apellido  |  46                     |\n",
    "|  cliente   | Domicilio        |  48                     |\n",
    "|  cliente   | Telefono         |  90                     |\n",
    "|  cliente   | Localidad        |  32                     |\n",
    "|  cliente   | x                |  62                     |\n",
    "|  cliente   | y                |  60                     |"
   ]
  },
  {
   "cell_type": "markdown",
   "metadata": {},
   "source": [
    "Se crean las tablas `aux_venta`, `aux_proveedor`, `aux_cliente` y allí se han de almacenar los registros que presenten problemas de las tablas correspondientes: `venta`, `proveedor`, `cliente`, y los campos de las tablas nativas se han de completar con: 'Sin dato'."
   ]
  },
  {
   "cell_type": "code",
   "execution_count": null,
   "metadata": {
    "vscode": {
     "languageId": "sql"
    }
   },
   "outputs": [],
   "source": [
    "DROP TABLE IF EXISTS `aux_cliente`;\n",
    "CREATE TABLE IF NOT EXISTS `aux_cliente` (\n",
    "\t`id_cliente`\t\t\t\t\tINTEGER,\n",
    "\t`provincia`\t\t\tVARCHAR(50),\n",
    "\t`nombre_apellido`\tVARCHAR(80),\n",
    "\t`domicilio`\t\t\tVARCHAR(150),\n",
    "\t`telefono`\t\t\tVARCHAR(30),\n",
    "\t`edad`\t\t\t\tVARCHAR(5),\n",
    "\t`localidad`\t\t\tVARCHAR(80),\n",
    "\t`x`\t\t\tVARCHAR(30),\n",
    "\t`y`\t\t\tVARCHAR(30),\n",
    "\t`col10`\t\t\t\tVARCHAR(1)\n",
    ") ENGINE=InnoDB DEFAULT CHARSET=utf8mb4 COLLATE=utf8mb4_spanish_ci;\n",
    "\n",
    "INSERT INTO `aux_cliente`\n",
    "\tSELECT * FROM `cliente` WHERE `id_cliente` IS NULL OR TRIM(`id_cliente`) = ''\n",
    "    OR `provincia` IS NULL OR TRIM(`provincia`) = ''\n",
    "    OR `nombre_apellido` IS NULL OR TRIM(`nombre_apellido`) = ''\n",
    "    OR `domicilio` IS NULL OR TRIM(`domicilio`) = ''\n",
    "    OR `telefono` IS NULL OR TRIM(`telefono`) = ''\n",
    "    OR `edad` IS NULL OR TRIM(`edad`) = ''\n",
    "    OR `localidad` IS NULL OR TRIM(`localidad`) = ''\n",
    "    OR `x` IS NULL OR TRIM(`x`) = ''\n",
    "    OR `y` IS NULL OR TRIM(`y`) = '';\n",
    "    \n",
    "ALTER TABLE `aux_cliente` DROP COLUMN `col10`;\n",
    "\n",
    "SELECT * FROM aux_cliente;\n",
    "\n",
    "SET SQL_SAFE_UPDATES = 0;\n",
    "\n",
    "UPDATE `aux_cliente`\n",
    "\tSET\n",
    "\t\t`provincia` = CASE WHEN TRIM(`provincia`) = \"\" OR ISNULL(`provincia`) THEN 'Sin Dato' ELSE `provincia` END,\n",
    "\t\t`nombre_apellido` = CASE WHEN TRIM(`nombre_apellido`) = \"\" OR ISNULL(`nombre_apellido`) THEN 'Sin Dato' ELSE `nombre_apellido` END,\n",
    "\t\t`domicilio` = CASE WHEN TRIM(`domicilio`) = \"\" OR ISNULL(`domicilio`) THEN 'Sin Dato' ELSE `domicilio` END,\n",
    "\t\t`telefono` = CASE WHEN TRIM(`telefono`) = \"\" OR ISNULL(`provincia`) THEN 'Sin Dato' ELSE `provincia` END,\n",
    "\t\t`localidad` = CASE WHEN TRIM(`localidad`) = \"\" OR ISNULL(`localidad`) THEN 'Sin Dato' ELSE `localidad` END,\n",
    "\t\t`x` = CASE WHEN TRIM(`x`) = \"\" OR ISNULL(`x`) THEN '0' ELSE `x` END,\n",
    "\t\t`y` = CASE WHEN TRIM(`y`) = \"\" OR ISNULL(`y`) THEN '0' ELSE `y` END;\n",
    "        \n",
    "UPDATE `cliente`\n",
    "\tSET\n",
    "\t\t`provincia` = CASE WHEN TRIM(`provincia`) = \"\" OR ISNULL(`provincia`) THEN 'Sin Dato' ELSE `provincia` END,\n",
    "\t\t`nombre_apellido` = CASE WHEN TRIM(`nombre_apellido`) = \"\" OR ISNULL(`nombre_apellido`) THEN 'Sin Dato' ELSE `nombre_apellido` END,\n",
    "\t\t`domicilio` = CASE WHEN TRIM(`domicilio`) = \"\" OR ISNULL(`domicilio`) THEN 'Sin Dato' ELSE `domicilio` END,\n",
    "\t\t`telefono` = CASE WHEN TRIM(`telefono`) = \"\" OR ISNULL(`provincia`) THEN 'Sin Dato' ELSE `provincia` END,\n",
    "\t\t`localidad` = CASE WHEN TRIM(`localidad`) = \"\" OR ISNULL(`localidad`) THEN 'Sin Dato' ELSE `localidad` END,\n",
    "\t\t`x` = CASE WHEN TRIM(`x`) = \"\" OR ISNULL(`x`) THEN '0' ELSE `x` END,\n",
    "\t\t`y` = CASE WHEN TRIM(`y`) = \"\" OR ISNULL(`y`) THEN '0' ELSE `y` END;\n",
    "        \n",
    "SELECT * FROM `cliente`;\n",
    "\n",
    "DROP TABLE IF EXISTS `aux_proveedor`;\n",
    "CREATE TABLE IF NOT EXISTS `aux_proveedor` (\n",
    "\t`id_proveedor`\t\tINTEGER,\n",
    "\t`nombre`\t\t\tVARCHAR(80),\n",
    "\t`domicilio`\t\tVARCHAR(150),\n",
    "\t`ciudad`\t\t\tVARCHAR(80),\n",
    "\t`provincia`\t\tVARCHAR(50),\n",
    "\t`pais`\t\t\tVARCHAR(20),\n",
    "\t`departamento`\tVARCHAR(80)\n",
    ") ENGINE=InnoDB DEFAULT CHARSET=utf8mb4 COLLATE=utf8mb4_spanish_ci;\n",
    "\n",
    "\n",
    "INSERT INTO `aux_proveedor`\n",
    "\tSELECT * FROM `proveedor`\n",
    "    WHERE `nombre` IS NULL OR TRIM(`nombre`) = '';\n",
    "\n",
    "SELECT * FROM `aux_proveedor`;\n",
    "\n",
    "UPDATE `aux_proveedor`  SET `nombre` = 'Sin Dato' \n",
    "\tWHERE `nombre` IS NULL OR TRIM(`nombre`) = '';\n",
    "    \n",
    "SELECT * FROM `aux_proveedor`;\n",
    "\n",
    "UPDATE `proveedor`  SET `nombre` = 'Sin Dato' \n",
    "\tWHERE `nombre` IS NULL OR TRIM(`nombre`) = '';\n",
    "\n",
    "SELECT * FROM `proveedor`;"
   ]
  },
  {
   "cell_type": "markdown",
   "metadata": {},
   "source": [
    "![green-divider](https://user-images.githubusercontent.com/7065401/52071924-c003ad80-2562-11e9-8297-1c6595f8a7ff.png)"
   ]
  },
  {
   "cell_type": "markdown",
   "metadata": {},
   "source": [
    "8.  Chequear la consistencia de los campos precio y cantidad de la tabla de ventas."
   ]
  },
  {
   "cell_type": "markdown",
   "metadata": {},
   "source": [
    "Se eliminó la columna precios de la tabla `venta` ya que dicha información se puede obtener a partir de una consulta de unión ente la tabla `venta` y la tabla `producto`.\n",
    "\n",
    "Los campos 'vacíos' en la columna `cantidad` de la tabla `venta` se coloracarón como nulos, los resgistros que presentaban problemas debido a usencia de datos en las columnas `precio` y/o `cantidad` se guardaron en la tabla `aux_venta`. "
   ]
  },
  {
   "cell_type": "code",
   "execution_count": null,
   "metadata": {
    "vscode": {
     "languageId": "sql"
    }
   },
   "outputs": [],
   "source": [
    "-- Crear una consulta, a partir de las tablas venta y producto en la cual se mueste el precio del producto y la cantidad de articulos ventidados para ese producto.\n",
    "\n",
    "SELECT `venta`.`id_venta`, `venta`.`fecha`, `venta`.`fecha_entrega`, `venta`.`id_canal`, `venta`.`id_cliente`, `venta`.`id_sucursal`, `venta`.`id_empleado`, `venta`.`id_producto`, `producto`.`descripcion_producto`, `producto`.`precio`, `venta`.`cantidad`\n",
    "    FROM `producto`\n",
    "    RIGHT OUTER JOIN `venta`\n",
    "    ON `producto`.`id_producto` = `venta`.`id_producto`;"
   ]
  },
  {
   "cell_type": "markdown",
   "metadata": {},
   "source": [
    "![green-divider](https://user-images.githubusercontent.com/7065401/52071924-c003ad80-2562-11e9-8297-1c6595f8a7ff.png)"
   ]
  },
  {
   "cell_type": "markdown",
   "metadata": {},
   "source": [
    "9.  Utilizar la funcion provista 'UC_Words' para modificar a letra capital los campos que contengan descripciones para todas las tablas."
   ]
  },
  {
   "cell_type": "code",
   "execution_count": null,
   "metadata": {
    "vscode": {
     "languageId": "sql"
    }
   },
   "outputs": [],
   "source": [
    "SELECT * FROM `cliente`;\n",
    "\n",
    "UPDATE `cliente`\n",
    "\tSET\n",
    "\t\t`provincia` = CASE WHEN (`provincia`)IS NOT NULL THEN UC_Words(`provincia`) ELSE `provincia` END,\n",
    "        `nombre_apellido` = CASE WHEN (`nombre_apellido`)IS NOT NULL THEN UC_Words(`nombre_apellido`) ELSE `nombre_apellido` END,\n",
    "\t\t`domicilio` = CASE WHEN (`domicilio`)IS NOT NULL THEN UC_Words(`domicilio`) ELSE `domicilio` END,\n",
    "\t\t`localidad` = CASE WHEN (`localidad`)IS NOT NULL THEN UC_Words(`localidad`) ELSE `localidad` END;\n",
    "\n",
    "SELECT * FROM `compra`;\n",
    "\n",
    "-- No posee campos descriptivos\n",
    "\n",
    "SELECT * FROM `gasto`;\n",
    "\n",
    "-- No posee campos descriptivos\n",
    "\n",
    "SELECT * FROM `sucursal`;\n",
    "\n",
    "UPDATE `sucursal`\n",
    "\tSET\n",
    "\t\t`sucursal` = CASE WHEN (`sucursal`)IS NOT NULL THEN UC_Words(`sucursal`) ELSE `sucursal` END,\n",
    "        `domicilio` = CASE WHEN (`domicilio`)IS NOT NULL THEN UC_Words(`domicilio`) ELSE `domicilio` END,\n",
    "\t\t`localidad` = CASE WHEN (`localidad`)IS NOT NULL THEN UC_Words(`localidad`) ELSE `localidad` END,\n",
    "\t\t`provincia` = CASE WHEN (`provincia`)IS NOT NULL THEN UC_Words(`provincia`) ELSE `provincia` END;\n",
    "\n",
    "SELECT * FROM `tipo_gasto`;\n",
    "\n",
    "-- No posee campos descriptivos\n",
    "\n",
    "SELECT * FROM `venta`;\n",
    "\n",
    "-- No posee campos descriptivos\n",
    "\n",
    "SELECT * FROM `canal_venta`;\n",
    "\n",
    "-- No posee campos descriptivos\n",
    "\n",
    "SELECT * FROM `empleado`;\n",
    "\n",
    "UPDATE `empleado`\n",
    "\tSET\n",
    "\t\t`apellido` = CASE WHEN (`apellido`)IS NOT NULL THEN UC_Words(`apellido`) ELSE `apellido` END,\n",
    "        `nombre` = CASE WHEN (`nombre`)IS NOT NULL THEN UC_Words(`nombre`) ELSE `nombre` END,\n",
    "\t\t`sucursal` = CASE WHEN (`sucursal`)IS NOT NULL THEN UC_Words(`sucursal`) ELSE `sucursal` END,\n",
    "\t\t`sector` = CASE WHEN (`sector`)IS NOT NULL THEN UC_Words(`sector`) ELSE `sector` END,\n",
    "        `cargo` = CASE WHEN (`cargo`)IS NOT NULL THEN UC_Words(`cargo`) ELSE `cargo` END;\n",
    "\n",
    "SELECT * FROM `producto`;\n",
    "\n",
    "UPDATE `producto`\n",
    "\tSET\n",
    "\t\t`descripcion_producto` = CASE WHEN (`descripcion_producto`)IS NOT NULL THEN UC_Words(`descripcion_producto`) ELSE `descripcion_producto` END,\n",
    "        `tipo` = CASE WHEN (`tipo`)IS NOT NULL THEN UC_Words(`tipo`) ELSE `tipo` END;\n",
    "\n",
    "\n",
    "SELECT * FROM `proveedor`;\n",
    "\t\n",
    "\n",
    "UPDATE `proveedor`\n",
    "\tSET\n",
    "\t\t`nombre` = CASE WHEN (`nombre`)IS NOT NULL THEN UC_Words(`nombre`) ELSE `nombre` END,\n",
    "        `domicilio` = CASE WHEN (`domicilio`)IS NOT NULL THEN UC_Words(`domicilio`) ELSE `domicilio` END,\n",
    "        `ciudad` = CASE WHEN (`ciudad`)IS NOT NULL THEN UC_Words(`ciudad`) ELSE `ciudad` END,\n",
    "        `provincia` = CASE WHEN (`provincia`)IS NOT NULL THEN UC_Words(`provincia`) ELSE `ciudad` END,\n",
    "        `pais` = CASE WHEN (`pais`)IS NOT NULL THEN UC_Words(`pais`) ELSE `pais` END,\n",
    "        `departamento` = CASE WHEN (`departamento`)IS NOT NULL THEN UC_Words(`departamento`) ELSE `departamento` END;"
   ]
  },
  {
   "cell_type": "markdown",
   "metadata": {},
   "source": [
    "![green-divider](https://user-images.githubusercontent.com/7065401/52071924-c003ad80-2562-11e9-8297-1c6595f8a7ff.png)"
   ]
  },
  {
   "cell_type": "markdown",
   "metadata": {},
   "source": [
    "10.  Chequear que no haya claves duplicadas, y de encontrarla en alguna de las tablas, proponer una solución."
   ]
  },
  {
   "cell_type": "code",
   "execution_count": null,
   "metadata": {
    "vscode": {
     "languageId": "sql"
    }
   },
   "outputs": [],
   "source": [
    "-- esta consulta devulve los id duplicados y el número de id duplicados\n",
    "\n",
    "-- tabla cliente\n",
    "\n",
    "SELECT COUNT(`id_cliente`) num_id\n",
    "    FROM `cliente`\n",
    "    GROUP BY `id_cliente`\n",
    "    HAVING num_id > 1;\n",
    "\n",
    "-- tabla compra\n",
    "\n",
    "SELECT COUNT(`id_compra`) num_id\n",
    "    FROM `compra`\n",
    "    GROUP BY `id_compra`\n",
    "    HAVING num_id > 1;\n",
    "\n",
    "-- tabla gasto\n",
    "\n",
    "SELECT COUNT(`id_gasto`) num_id\n",
    "    FROM `gasto`\n",
    "    GROUP BY `id_gasto`\n",
    "    HAVING num_id > 1;\n",
    "\n",
    "-- tabla gasto\n",
    "\n",
    "SELECT COUNT(`id_sucursal`) num_id\n",
    "    FROM `sucursal`\n",
    "    GROUP BY `id_sucursal`\n",
    "    HAVING num_id > 1;\n",
    "\n",
    "-- tabla tipo de gasto\n",
    "\n",
    "SELECT `id_tipo_gasto`, COUNT(`id_tipo_gasto`) num_id\n",
    "    FROM `tipo_gasto`\n",
    "    GROUP BY `id_tipo_gasto`\n",
    "    HAVING num_id > 1;\n",
    "\n",
    "-- tabla venta\n",
    "\n",
    "SELECT `id_venta`, COUNT(`id_venta`) num_id\n",
    "    FROM `venta`\n",
    "    GROUP BY `id_venta`\n",
    "    HAVING num_id > 1;\n",
    "\n",
    "-- tabla canal de venta\n",
    "\n",
    "SELECT `id_canal`, COUNT(`id_canal`) num_id\n",
    "    FROM `canal_venta`\n",
    "    GROUP BY `id_canal`\n",
    "    HAVING num_id > 1;\n",
    "\n",
    "-- tabla empleado\n",
    "\n",
    "SELECT `id_empleado`, COUNT(`id_empleado`) num_id\n",
    "    FROM `empleado`\n",
    "    GROUP BY `id_empleado`\n",
    "    HAVING num_id > 1;\n",
    "\n",
    "-- tabla producto\n",
    "\n",
    "SELECT `id_producto`, COUNT(`id_producto`) num_id\n",
    "    FROM `producto`\n",
    "    GROUP BY `id_producto`\n",
    "    HAVING num_id > 1;\n",
    "\n",
    "-- tabla proveedor\n",
    "\n",
    "SELECT `id_proveedor`, COUNT(`id_proveedor`) num_id\n",
    "    FROM `proveedor`\n",
    "    GROUP BY `id_proveedor`\n",
    "    HAVING num_id > 1;"
   ]
  },
  {
   "cell_type": "markdown",
   "metadata": {},
   "source": [
    "La unica tabla con id duplicados fue la tabla `empleado` con un total de 17 id duplicados, los cuales afectan a 35 registros."
   ]
  },
  {
   "cell_type": "code",
   "execution_count": null,
   "metadata": {
    "vscode": {
     "languageId": "sql"
    }
   },
   "outputs": [],
   "source": [
    "-- esta consulta devuelve unicamente los id duplicados\n",
    "\n",
    "SELECT id_empleado \n",
    "    FROM (SELECT `id_empleado`, COUNT(`id_empleado`) num_id\n",
    "        FROM `empleado`\n",
    "        GROUP BY `id_empleado`\n",
    "        HAVING num_id > 1) AS id_duplicados;"
   ]
  },
  {
   "cell_type": "code",
   "execution_count": null,
   "metadata": {
    "vscode": {
     "languageId": "sql"
    }
   },
   "outputs": [],
   "source": [
    "-- esta consulta devuelve los datos de los empleados con id duplicados\n",
    "\n",
    "\n",
    "SELECT * FROM `empleado`\n",
    "    JOIN (SELECT `id_empleado`, COUNT(`id_empleado`) num_id\n",
    "        FROM `empleado`\n",
    "        GROUP BY `id_empleado`\n",
    "        HAVING num_id > 1) AS `duplicado`\n",
    "    ON `empleado`.`id_empleado` = `duplicado`.`id_empleado`\n",
    "    ORDER BY `empleado`.`id_empleado` ASC;"
   ]
  },
  {
   "cell_type": "markdown",
   "metadata": {},
   "source": [
    "<b> Nota </b>\n",
    "\n",
    "En la consulta anterior se utilizó la clausula `JOIN`, ya que la se está haciendo el barrido de la instrucción para un rango de valores, por lo tanto, dicha acción no puede ser ejecutada por la instrucción `WHERE`, ya que esta solo maneja valores puntuales. "
   ]
  },
  {
   "cell_type": "code",
   "execution_count": null,
   "metadata": {
    "vscode": {
     "languageId": "sql"
    }
   },
   "outputs": [],
   "source": [
    "/* Propuesta para solucionar el error de id_empleado duplicados */\n",
    "\n",
    "-- Generar la clave única tabla `empleado` mediante creacion de clave subrogada.\n",
    "-- Crear una nueva columna que almacenara el `id_sucursal` en la tabla `empleado`.\n",
    "-- Rellenar la columna `id_sucursal` en la tabla `empleado`.\n",
    "-- Crear la columna `codigo_empleado` en la tabla `empleado`.\n",
    "-- Rellenar la columna `codigo_empleado` con los datos de la columna `id_empleado`.\n",
    "-- Rellenar la columna id_empleado con la clave subrogada.\n",
    "-- Modificar la llave foranea de `empleado` en la tabla `venta`.\n"
   ]
  },
  {
   "cell_type": "markdown",
   "metadata": {},
   "source": [
    "1.  Generar la clave única de la tabla `empleado` mediante creacion de clave subrogada.\n",
    "\n",
    "```sql\n",
    "    `id_empleado` = ((id_sucursal * 1000000) + codigo_empleado)\n",
    "```\n",
    "*   Se parte de la premisa de que por sucursal no deberían existir empleados con el mismo id, a pesar de que en el maestro de empleado si los haya, cuya proyección es nacional. En ese sentido, la clave subrogada se generará a partir de la combinación del `id_sucursal` y el `id_empleado`.\n",
    "*   Este método tambien facilita la inserción de la nueva clave en la tabla venta, pueden se trata de una operación aritmetica que se puede aplicar para todo el barrido de la tabla."
   ]
  },
  {
   "cell_type": "markdown",
   "metadata": {},
   "source": [
    "2.  Crear una nueva columna que almacenara el `id_sucursal` en la tabla `empleado`."
   ]
  },
  {
   "cell_type": "code",
   "execution_count": null,
   "metadata": {
    "vscode": {
     "languageId": "sql"
    }
   },
   "outputs": [],
   "source": [
    "ALTER TABLE `empleado` ADD `id_sucursal` INT NULL DEFAULT '0' AFTER `sucursal`;"
   ]
  },
  {
   "cell_type": "markdown",
   "metadata": {},
   "source": [
    "3.  Rellenar la columna `id_sucursal` en la tabla `empleado`.\n",
    "\n",
    "*   Para rellenar la columna id_sucursal de la tabla empleado, es necesario implementar la instrocción JOIN, la cual permitirá aparear las tablas empleado y sucursal mediante las coincidencia halladas en las columnas sucursal de ambas tablas. Es necesario corroborar la uniformidad de los datos almacenados en dichas columnas para que las coincidencias puedan ser efectivas.\n"
   ]
  },
  {
   "cell_type": "code",
   "execution_count": null,
   "metadata": {
    "vscode": {
     "languageId": "sql"
    }
   },
   "outputs": [],
   "source": [
    "UPDATE empleado SET sucursal = 'Mdq 1' WHERE Sucursal = 'Mdq1';\n",
    "UPDATE empleado SET sucursal = 'Mdq 2' WHERE Sucursal = 'Mdq2';\n",
    "UPDATE empleado SET sucursal = 'Rosario 1' WHERE Sucursal = 'Rosario1';\n",
    "UPDATE empleado SET sucursal = 'Rosario 2' WHERE Sucursal = 'Rosario2 ';\n",
    "UPDATE sucursal SET sucursal = 'Mdq 1' WHERE Sucursal = 'Mdq1';\n",
    "UPDATE sucursal SET sucursal = 'Mdq 2' WHERE Sucursal = 'Mdq2';\n",
    "UPDATE sucursal SET sucursal = 'Rosario 1' WHERE Sucursal = 'Rosario1';\n",
    "UPDATE sucursal SET sucursal = 'Rosario 2' WHERE Sucursal = 'Rosario2 ';\n",
    "UPDATE sucursal SET sucursal = 'Mendoza 1' WHERE Sucursal = 'Mendoza1';\n",
    "UPDATE sucursal SET sucursal = 'Mendoza 2' WHERE Sucursal = 'Mendoza2';\n",
    "UPDATE empleado SET sucursal = 'Córdoba Quiroz' WHERE Sucursal = 'Cordoba Quiroz';"
   ]
  },
  {
   "cell_type": "code",
   "execution_count": null,
   "metadata": {
    "vscode": {
     "languageId": "sql"
    }
   },
   "outputs": [],
   "source": [
    "UPDATE empleado e JOIN sucursal s\n",
    "\tON (e.sucursal = s.sucursal)\n",
    "SET e.id_sucursal = s.id_sucursal;\n",
    "\n",
    "-- eliminación columna sucursal\n",
    "ALTER TABLE `empleado` DROP `sucursal`;\n",
    "SELECT * FROM `empleado`;"
   ]
  },
  {
   "cell_type": "markdown",
   "metadata": {},
   "source": [
    "4.  Crear la columna `codigo_empleado` en la tabla `empleado`.\n",
    "\n",
    "*   La columna código empleado almacenará los registros originales de la columna id_empleado."
   ]
  },
  {
   "cell_type": "code",
   "execution_count": null,
   "metadata": {
    "vscode": {
     "languageId": "sql"
    }
   },
   "outputs": [],
   "source": [
    "ALTER TABLE `empleado` ADD `codigo_empleado` INTEGER NULL DEFAULT '0' AFTER `id_empleado`;\n"
   ]
  },
  {
   "cell_type": "markdown",
   "metadata": {},
   "source": [
    "5.  Rellenar la columna `codigo_empleado` con los datos de la columna `id_empleado`."
   ]
  },
  {
   "cell_type": "code",
   "execution_count": null,
   "metadata": {
    "vscode": {
     "languageId": "sql"
    }
   },
   "outputs": [],
   "source": [
    "UPDATE `empleado` SET `codigo_empleado` = `id_empleado`;"
   ]
  },
  {
   "cell_type": "markdown",
   "metadata": {},
   "source": [
    "6.  Rellenar la columna `id_empleado` con la clave subrogada."
   ]
  },
  {
   "cell_type": "code",
   "execution_count": null,
   "metadata": {
    "vscode": {
     "languageId": "sql"
    }
   },
   "outputs": [],
   "source": [
    "UPDATE `empleado` SET `id_empleado` = ((id_sucursal * 1000000) + codigo_empleado);\n",
    "\n",
    "-- chequeo de claves duplicadas\n",
    "\n",
    "SELECT `id_empleado`, COUNT(`id_empleado`) num_id\n",
    "    FROM `empleado`\n",
    "    GROUP BY `id_empleado`\n",
    "    HAVING num_id > 1;\n",
    "\n",
    "SELECT * FROM `empleado`\n",
    "    JOIN (SELECT `codigo_empleado`, COUNT(`codigo_empleado`) num_id\n",
    "        FROM `empleado`\n",
    "        GROUP BY `codigo_empleado`\n",
    "        HAVING num_id > 1) AS `duplicado`\n",
    "    ON `empleado`.`codigo_empleado` = `duplicado`.`codigo_empleado`\n",
    "    ORDER BY `empleado`.`codigo_empleado` ASC;\n"
   ]
  },
  {
   "cell_type": "markdown",
   "metadata": {},
   "source": [
    "7.  Modificar la llave foranea de `empleado` en la tabla `venta`."
   ]
  },
  {
   "cell_type": "code",
   "execution_count": null,
   "metadata": {
    "vscode": {
     "languageId": "sql"
    }
   },
   "outputs": [],
   "source": [
    "UPDATE `venta` SET `id_empleado` = ((id_sucursal * 1000000) + id_empleado);\n"
   ]
  },
  {
   "cell_type": "markdown",
   "metadata": {},
   "source": [
    "11. Generar dos nuevas tablas a partir de la tabla 'empelado' que contengan las entidades Cargo y Sector."
   ]
  },
  {
   "cell_type": "markdown",
   "metadata": {},
   "source": []
  },
  {
   "cell_type": "markdown",
   "metadata": {},
   "source": [
    "12. Generar una nueva tabla a partir de la tabla 'producto' que contenga la entidad Tipo de Producto."
   ]
  },
  {
   "cell_type": "code",
   "execution_count": null,
   "metadata": {
    "vscode": {
     "languageId": "sql"
    }
   },
   "outputs": [],
   "source": [
    "\n",
    "SELECT * FROM `producto`;\n",
    "\n",
    "SELECT * FROM `producto` WHERE TRIM(`tipo`) = '';\n",
    "-- Hay 12 campos vacíos para la columna `tipo`, se rellenarán dichos campo con el valor nulo.\n",
    "\n",
    "-- Reemplazo los campos vacío por el valor null\n",
    "UPDATE `producto` SET `tipo` = NULL WHERE TRIM(`tipo`) = '';\n",
    "\n",
    "-- Ests consulta muestra los tipos de productos distintos valor nulo, en total hay 10 categorías\n",
    "SELECT DISTINCT(`tipo`) FROM `producto` WHERE `tipo` IS NOT NULL ORDER BY `tipo` ASC;\n",
    "\n",
    "-- Ests consulta muestra los productos con tipo de producto nulo.\n",
    "SELECT * FROM `producto` WHERE `tipo` IS NULL;\n",
    "\n",
    "-- creo la tabla tipo_producto\t\n",
    "DROP TABLE IF EXISTS `tipo_producto`;\n",
    "/*\n",
    "CREATE TABLE IF NOT EXISTS `tipo_producto` (\n",
    " `id_tipo_producto`         INTEGER AUTO_INCREMENT,\n",
    " `descripcion`              VARCHAR(50)     \n",
    ")ENGINE=InnoDB DEFAULT CHARSET=utf8mb4 COLLATE=utf8mb4_spanish_ci;\n",
    "\n",
    "-- Arroja el error : Error Code: 1075. Incorrect table definition; there can be only one auto column and it must be defined as a key\n",
    "*/\n",
    "CREATE TABLE IF NOT EXISTS `tipo_producto` (\n",
    " `id_tipo_producto`         INTEGER NOT NULL AUTO_INCREMENT PRIMARY KEY,\n",
    " `descripcion`              VARCHAR(50)     \n",
    ")ENGINE=InnoDB DEFAULT CHARSET=utf8mb4 COLLATE=utf8mb4_spanish_ci;\n",
    "\n",
    "SHOW FULL COLUMNS FROM `tipo_producto`;\n",
    "\n",
    "-- relleno la tabla tipo_producto con la descripcion del tipo de producto, a partir de la tabla producto y en orden alfabético\n",
    "INSERT INTO `tipo_producto` (`descripcion`)\n",
    "    SELECT DISTINCT(`tipo`) \n",
    "        FROM `producto` \n",
    "        WHERE `tipo` IS NOT NULL \n",
    "        ORDER BY `tipo` ASC;\n",
    "\n",
    "SELECT * FROM `tipo_producto`;\n",
    "\n",
    "-- creo el campo id_tipo_prodcuto en la tabla producto antes de la columna tipo\n",
    "\n",
    "ALTER TABLE `producto` ADD `id_tipo_producto` INTEGER NOT NULL DEFAULT '0' AFTER `descripcion_producto`;\n",
    "\n",
    "SELECT * FROM `producto`;\n",
    "\n",
    "\n",
    "-- relleno la columna id_tipo_prodcuto en la tabla producto\n",
    "UPDATE `producto` p JOIN `tipo_producto` tp\n",
    "\tON (p.`tipo` = tp.`descripcion`)\n",
    "SET p.`id_tipo_producto` = tp.`id_tipo_producto`;\n",
    "\n",
    "SELECT DISTINCT(`id_tipo_producto`), `tipo` FROM `producto` ORDER BY `id_tipo_producto`;\n",
    "\n",
    "\n",
    "-- elimino la columna tipo de la tabla producto \n",
    "ALTER TABLE `producto` DROP `tipo`;\n",
    "\n",
    "SELECT * FROM `producto`;"
   ]
  },
  {
   "cell_type": "markdown",
   "metadata": {},
   "source": [
    "13. Es necesario contar con una tabla de localidades del país con el fin de evaluar la apertura de una nueva sucursal y mejorar nuestros datos. A partir de los datos en las tablas cliente, sucursal y proveedor hay que generar una tabla definitiva de Localidades y Provincias. Utilizando la nueva tabla de Localidades controlar y corregir (Normalizar) los campos Localidad y Provincia de las tablas cliente, sucursal y proveedor."
   ]
  },
  {
   "cell_type": "markdown",
   "metadata": {},
   "source": [
    "hola mmwbo"
   ]
  },
  {
   "cell_type": "code",
   "execution_count": null,
   "metadata": {
    "vscode": {
     "languageId": "sql"
    }
   },
   "outputs": [],
   "source": [
    "SELECT * FROM `cliente`;\n",
    "SELECT DISTINCT(`localidad`) FROM `cliente`;\n",
    "SELECT * FROM `sucursal`;\n",
    "SELECT DISTINCT(`provincia`) FROM `sucursal`;\n",
    "SELECT * FROM `proveedor`;\n",
    "SELECT DISTINCT(`ciudad`) FROM `proveedor`;\n",
    "\n",
    "SELECT DISTINCT `localidad`, `provincia`, `localidad`, `provincia`, 0 FROM `cliente`\n",
    "UNION\n",
    "SELECT DISTINCT `localidad`, `provincia`, `localidad`, `provincia`, 0 FROM `sucursal`\n",
    "UNION\n",
    "SELECT DISTINCT `ciudad`, `provincia`, `ciudad`, `provincia`, 0 FROM `proveedor`\n",
    "ORDER BY 2, 1;\n",
    "\n",
    "DROP TABLE IF EXISTS `aux_localidad`;\n",
    "CREATE TABLE IF NOT EXISTS `aux_localidad` (\n",
    "\t`localidad_original`\tVARCHAR(80),\n",
    "\t`provincia_original`\tVARCHAR(50),\n",
    "\t`localidad_normalizada`\tVARCHAR(80),\n",
    "\t`provincia_normalizada`\tVARCHAR(50),\n",
    "\t`id_localidad`\t\t\tINTEGER\n",
    ") ENGINE=InnoDB DEFAULT CHARSET=utf8mb4 COLLATE=utf8mb4_spanish_ci;\n",
    "\n",
    "SELECT * FROM `aux_localidad`;\n",
    "\n",
    "INSERT INTO `aux_localidad` (`localidad_original`, `provincia_original`, `localidad_normalizada`, `provincia_normalizada`, `id_localidad`)\n",
    "SELECT DISTINCT `localidad`, `provincia`, `localidad`, `provincia`, 0 FROM `cliente`\n",
    "UNION\n",
    "SELECT DISTINCT `localidad`, `provincia`, `localidad`, `provincia`, 0 FROM `sucursal`\n",
    "UNION\n",
    "SELECT DISTINCT `ciudad`, `provincia`, `ciudad`, `provincia`, 0 FROM `proveedor`\n",
    "ORDER BY 2, 1;\n",
    "\n",
    "SELECT * FROM `aux_localidad`;\n",
    "\n",
    "UPDATE `aux_localidad` SET provincia_normalizada = 'Buenos Aires'\n",
    "WHERE provincia_original IN ('Caba',\n",
    "                             'C Debuenos Aires',\n",
    "                             'Bs As',\n",
    "                             'Bs.As.',\n",
    "                             'Buenos Aires',\n",
    "                             'B. Aires',\n",
    "                             'B.Aires',\n",
    "                             'Provincia De Buenos Aires',\n",
    "                             'Prov De Bs As',\n",
    "                             'Ciudad De Buenos Aires',\n",
    "                             'Pcia Bs As',\n",
    "                             'Pcia Bs As',\n",
    "                             'Prov De Bs As.');\n",
    "\n",
    "SELECT DISTINCT(`provincia_normalizada`) FROM `aux_localidad`;\n",
    "\n",
    "UPDATE `aux_localidad` SET `localidad_normalizada` = 'Capítal Federal'\n",
    "WHERE `localidad_original` IN ('Boca De Atencion Monte Castro',\n",
    "                            'Caba',\n",
    "                            'Cap.   Federal',\n",
    "                            'Cap. Fed.',\n",
    "                            'Capfed',\n",
    "                            'Capital',\n",
    "                            'Capital Federal',\n",
    "                            'Cdad De Buenos Aires',\n",
    "                            'Ciudad De Buenos Aires')\n",
    "AND `provincia_normalizada` = 'Buenos Aires';\n",
    "\n",
    "SELECT DISTINCT(`localidad_normalizada`) FROM `aux_localidad` ORDER BY `localidad_normalizada`;\n",
    "\n",
    "UPDATE `aux_localidad` SET localidad_normalizada = 'Córdoba'\n",
    "WHERE localidad_original IN ('Coroba',\n",
    "                            'Cordoba',\n",
    "\t\t\t\t\t\t\t'Cã³rdoba')\n",
    "AND provincia_normalizada = 'Córdoba';\n",
    "\n",
    "DROP TABLE IF EXISTS `localidad`;\n",
    "CREATE TABLE IF NOT EXISTS `localidad` (\n",
    "  `id_localidad` int(11) NOT NULL AUTO_INCREMENT,\n",
    "  `localidad` varchar(80) NOT NULL,\n",
    "  `provincia` varchar(80) NOT NULL,\n",
    "  `id_provincia` int(11) NOT NULL,\n",
    "  PRIMARY KEY (`id_localidad`)\n",
    ") ENGINE=InnoDB DEFAULT CHARSET=utf8mb4 COLLATE=utf8mb4_spanish_ci;\n",
    "\n",
    "DROP TABLE IF EXISTS `provincia`;\n",
    "CREATE TABLE IF NOT EXISTS `provincia` (\n",
    "  `id_provincia` int(11) NOT NULL AUTO_INCREMENT,\n",
    "  `provincia` varchar(50) NOT NULL,\n",
    "  PRIMARY KEY (`id_provincia`)\n",
    ") ENGINE=InnoDB DEFAULT CHARSET=utf8mb4 COLLATE=utf8mb4_spanish_ci;\n",
    "\n",
    "SELECT\tDISTINCT localidad_normalizada, provincia_normalizada, 0\n",
    "FROM aux_localidad\n",
    "ORDER BY provincia_normalizada, localidad_normalizada;\n",
    "\n",
    "SELECT DISTINCT provincia_normalizada\n",
    "FROM aux_localidad\n",
    "ORDER BY provincia_normalizada;\n",
    "\n",
    "INSERT INTO localidad (localidad, provincia, id_provincia)\n",
    "SELECT\tDISTINCT localidad_normalizada, provincia_normalizada, 0\n",
    "FROM aux_localidad\n",
    "ORDER BY provincia_normalizada, localidad_normalizada;\n",
    "\n",
    "SELECT * FROM `localidad`;\n",
    "\n",
    "INSERT INTO provincia (provincia)\n",
    "SELECT DISTINCT Provincia_Normalizada\n",
    "FROM aux_localidad\n",
    "ORDER BY Provincia_Normalizada;\n",
    "\n",
    "SELECT * FROM `provincia`;\n",
    "\n",
    "UPDATE localidad l JOIN provincia p\n",
    "\tON (l.provincia = p.provincia)\n",
    "SET l.id_provincia = p.id_provincia;\n",
    "\n",
    "SELECT * FROM `aux_localidad`;\n",
    "\n",
    "UPDATE aux_localidad a JOIN localidad l \n",
    "\t\t\tON (l.localidad = a.localidad_normalizada\n",
    "                AND a.provincia_normalizada = l.provincia)\n",
    "SET a.id_localidad = l.id_localidad;\n",
    "\n",
    "ALTER TABLE `cliente` ADD `id_localidad` INT NOT NULL DEFAULT '0' AFTER `localidad`;\n",
    "ALTER TABLE `proveedor` ADD `id_localidad` INT NOT NULL DEFAULT '0' AFTER `departamento`;\n",
    "\n",
    "UPDATE cliente c JOIN aux_localidad a\n",
    "\tON (c.provincia = a.provincia_original AND c.localidad = a.localidad_original)\n",
    "SET c.id_localidad = a.id_localidad;\n",
    "\n",
    "UPDATE sucursal s JOIN aux_localidad a\n",
    "\tON (s.provincia = a.provincia_original AND s.localidad = a.localidad_original)\n",
    "SET s.id_localidad = a.id_localidad;\n",
    "\n",
    "UPDATE proveedor p JOIN aux_localidad a\n",
    "\tON (p.provincia = a.provincia_original AND p.ciudad = a.localidad_original)\n",
    "SET p.id_localidad = a.id_localidad;\n",
    "\n",
    "SELECT * FROM `cliente`;\n",
    "\n",
    "SELECT * FROM `sucursal`;\n",
    "\n",
    "SELECT * FROM `proveedor`;\n",
    "\n",
    "ALTER TABLE `cliente`\n",
    "  DROP `Provincia`,\n",
    "  DROP `Localidad`;\n",
    "\n",
    "ALTER TABLE `proveedor`\n",
    "  DROP `Ciudad`,\n",
    "  DROP `Provincia`,\n",
    "  DROP `Pais`,\n",
    "  DROP `Departamento`;\n",
    "\n",
    "ALTER TABLE `sucursal`\n",
    "  DROP `Localidad`,\n",
    "  DROP `Provincia`;\n",
    "  \n",
    "ALTER TABLE `localidad`\n",
    "  DROP `Provincia`;\n",
    "\n",
    "SELECT * FROM `cliente`;\n",
    "SELECT * FROM `proveedor`;\n",
    "SELECT * FROM `sucursal`;\n",
    "SELECT * FROM `localidad`;\n",
    "SELECT * FROM `provincia`;"
   ]
  }
 ],
 "metadata": {
  "language_info": {
   "name": "python"
  },
  "orig_nbformat": 4
 },
 "nbformat": 4,
 "nbformat_minor": 2
}
