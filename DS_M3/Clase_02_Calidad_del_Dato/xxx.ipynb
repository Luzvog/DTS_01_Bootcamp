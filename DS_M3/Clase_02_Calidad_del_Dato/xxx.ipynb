{
 "cells": [
  {
   "cell_type": "markdown",
   "metadata": {},
   "source": [
    "# <b> <font face = \"Space Mono\"> Práctica 2 </font> </b> \n",
    "\n",
    "<font face = \"Rubik\"> \n",
    "\n",
    "Con el objetivo de asegurarse de que la calidad de la información con la que se va a trabajar sea la óptima, es necesario realizar una lista de propuestas de mejora teniendo en cuenta los siguientes puntos:\n",
    "\n",
    "1.  ¿Qué tan actualizada está la información? ¿La forma en que se actualiza ó mantiene esa información se puede mejorar? <br>\n",
    "2.  ¿Los datos están completos en todas las tablas? <br>\n",
    "3.  ¿Se conocen las fuentes de los datos? <br>\n",
    "4.  Al integrar éstos datos, es prudente que haya una normalización respecto de nombrar las tablas y sus campos. <br>\n",
    "5.  Es importante revisar la consistencia de los datos: ¿Se pueden relacionar todas las tablas al modelo? ¿Cuáles son las tablas de hechos y las tablas dimensionales o maestros? ¿Podemos hacer esa separación en los datos que tenemos (tablas de hecho y dimensiones)? ¿Hay claves duplicadas? ¿Cuáles son variables cualitativas y cuáles son cuantitativas? ¿Qué acciones podemos aplicar sobre las mismas? <br>\n",
    "\n",
    "    <b> <font face = \"Space Mono\"> Limpieza, valores faltantes y normalización </font> </b> <br>\n",
    "\n",
    "6.  Normalizar los nombres de los campos y colocar el tipo de dato adecuado para cada uno en cada una de las tablas. Descartar columnas que consideres que no tienen relevancia. <br>\n",
    "7.  Buscar valores faltantes y campos inconsistentes en las tablas sucursal, proveedor, empleado y cliente. De encontrarlos, deberás corregirlos o desestimarlos. Propone y realiza una acción correctiva sobre ese problema.\n",
    "8.  Chequear la consistencia de los campos precio y cantidad de la tabla de ventas.\n",
    "9.  Utilizar la funcion provista <b> 'UC_Words' </b> para modificar a letra capital los campos que contengan descripciones para todas las tablas.\n",
    "10. Chequear que no haya claves duplicadas, y de encontrarla en alguna de las tablas, proponer una solución.\n",
    "11. Generar dos nuevas tablas a partir de la tabla 'empelado' que contengan las entidades Cargo y Sector.\n",
    "12. Generar una nueva tabla a partir de la tabla 'producto' que contenga la entidad Tipo de Producto.\n",
    "13. Contar con una tabla de localidades del país con el fin de evaluar la apertura de una nueva sucursal y mejorar nuestros datos. A partir de los datos en las tablas cliente, sucursal y proveedor hay que generar una tabla definitiva de Localidades y Provincias. Utilizando la nueva tabla de Localidades controlar y corregir (Normalizar) los campos Localidad y Provincia de las tablas cliente, sucursal y proveedor.\n",
    "14. Discretizar el campo edad en la tabla cliente.\n",
    "\n",
    "</font>"
   ]
  },
  {
   "cell_type": "markdown",
   "metadata": {},
   "source": [
    "## <b> <font face = \"Space Mono\"> Resolución </font> </b> "
   ]
  },
  {
   "cell_type": "markdown",
   "metadata": {},
   "source": [
    "<ol start=\"1\">\n",
    "    <li> <b> <font face = \"Space Mono\"> ¿Qué tan actualizada está la información? ¿La forma en que se actualiza ó mantiene esa información se puede mejorar? </font> </b> </li>\n",
    "</ol>\n",
    "\n",
    "\n",
    "<font face = \"Rubik\">\n",
    "\n",
    "*   Tablas con el campo fecha:\n",
    "\n",
    "    *   compra: ultimo registro cargado el 25-dic-2020. <br>\n",
    "\n",
    "    *   venta: ultimo registro cargado el 30-dic-2020. <br>\n",
    "\n",
    "    *   gasto: ultimo registro cargado el 01-dic-2020. <br>\n",
    "\n",
    "    Los datos no están vigentes, por lo tanto no pueden ser implementados para la toma de decisiones estratégicas, ya que están siendo evalaudos 2 años depués de haber sido almacenados, si bien es muy pronto para asumir que los datos presentan sesgos, no es arriesgado asumir a priori, que no describen la realidad actual de la empresa. <br>\n",
    "\n",
    "    Se puede definir un periodo de actualización de datos, que reflejen en tiempo real la realidad de la empresa, este periodo se suele definir en función de la experiencia de la empresa, de otro mode debe obedecer al los requrimientos de la autoridad competente que regule su campo de operación. <br>\n",
    "\n",
    "</font>"
   ]
  },
  {
   "cell_type": "markdown",
   "metadata": {},
   "source": [
    "<ol start=\"2\">\n",
    "\t<li> <b> <font face = \"Space Mono\"> \n",
    "\t\t¿Los datos están completos en todas las tablas? \n",
    "\t</font> </b> </li>\n",
    "</ol>\n",
    "\n",
    "<font face = \"Rubik\">\n",
    "\n",
    "*\tHay datos faltantes en:\n",
    "\n",
    "</font>"
   ]
  },
  {
   "cell_type": "markdown",
   "metadata": {},
   "source": [
    "\n",
    "|   Tabla   |   Columna     |\n",
    "| :-------: | :-----------: |\n",
    "|   venta   |   cliente     |\n",
    "|   venta   |   precio      |\n",
    "|   cliente |   x           |\n",
    "|   cliente |   y           |\n",
    "|   sucursal|   x           |\n",
    "|   sucursal|   y           |\n",
    "\n"
   ]
  },
  {
   "cell_type": "markdown",
   "metadata": {},
   "source": [
    "<ol start=\"3\">\n",
    "    <li> <b> <font face = \"Space Mono\"> ¿Se conocen las fuentes de los datos? </font> </b> </li> <br>\n",
    "</lo>\n",
    "\n",
    "<font face = \"Rubik\">\n",
    "\n",
    "No, no se conoce la fuente de los datos.\n",
    "\n",
    "</font>"
   ]
  },
  {
   "cell_type": "markdown",
   "metadata": {},
   "source": [
    "<ol start=\"4\">\n",
    "    <li> <b> <font face = \"Space Mono\"> Al integrar éstos datos, es prudente que haya una normalización respecto de nombrar las tablas y sus campos. </font> </b> </li> <br>\n",
    "</lo>\n",
    "\n",
    "<font face = \"Rubik\">\n",
    "\n",
    "Si, es prudente normalizar los identificadores de los campos y tablas ya que facilita la recuperación de los datos y la correlatividad entre los registros a la hora de generar las relaciones.\n",
    "\n",
    "</font>"
   ]
  },
  {
   "cell_type": "markdown",
   "metadata": {},
   "source": [
    "<ol start=\"5\">\n",
    "    <li> <b> <font face = \"Space Mono\"> Es importante revisar la consistencia de los datos: <br> ¿Se pueden relacionar todas las tablas al modelo? <br> ¿Cuáles son las tablas de hechos y las tablas dimensionales o maestros? <br> ¿Podemos hacer esa separación en los datos que tenemos (tablas de hecho y dimensiones)? <br> ¿Hay claves duplicadas? <br> ¿Cuáles son variables cualitativas y cuáles son cuantitativas? <br> ¿Qué acciones podemos aplicar sobre las mismas? </font> </b> </li> <br>\n",
    "</lo>\n",
    "\n",
    "<font face = \"Rubik\">\n",
    "\n",
    "<b> Tablas de Hechos </b>:\n",
    "\n",
    "*   Venta: registro de la venta.\n",
    "\n",
    "*   Compra: registro de la compra.\n",
    "\n",
    "*   Gastos: registro de las deducciones hechas de caja para efecto de la operación del negocio.\n",
    "\n",
    "<b> Tablas de Dimensiones </b>:\n",
    "\n",
    "*   Clientes: registra los clientes atendidos.\n",
    "\n",
    "*   Sucursales: registras las franquicias del negocio.\n",
    "\n",
    "*   Tipo de Gatos: registras los conceptos de las deducciones hechas de las caja del negocio para efectos de su operatividad.\n",
    "\n",
    "*   Empleados: registra los datos del empleado.\n",
    "\n",
    "*   Prodcusto: catalogo de ítems vendido en la tiempo.\n",
    "\n",
    "*   Proveedores: registro de proveedores y subcontratados por el negocio.\n",
    "\n",
    "*   Canal de Ventas: registra los medios a través de los cuales el negocio comercializa los artículos.\n",
    "\n",
    "</font>\n",
    "\n",
    "\n",
    "\n"
   ]
  }
 ],
 "metadata": {
  "language_info": {
   "name": "python"
  },
  "orig_nbformat": 4
 },
 "nbformat": 4,
 "nbformat_minor": 2
}
