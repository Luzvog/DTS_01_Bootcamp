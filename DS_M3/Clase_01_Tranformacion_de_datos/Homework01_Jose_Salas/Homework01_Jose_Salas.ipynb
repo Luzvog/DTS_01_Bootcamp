{
 "cells": [
  {
   "cell_type": "markdown",
   "metadata": {},
   "source": [
    "# <b> <font face = \"Space Mono\"> Práctica 1 </font> </b> \n",
    "\n",
    "<font face = \"Rubik\"> \n",
    "\n",
    "Durante todo el módulo ustedes serán los analistas de datos de una compañía de venta de insumos tecnológicos al público. A lo largo de las prácticas se harán cargo de la información de la empresa y realizarán el proceso completo de captura, limpieza, análisis, diagnóstico, documentación, explotación y publicación de resultados.\n",
    "\n",
    "1.  La Dirección de Ventas ha solicitado las siguientes tablas a Marketing con el fin de que sean integradas:\n",
    "\n",
    "    *  La tabla de puntos de venta propios, un Excel frecuentemente utilizado para contactar a cada sucursal, actualizada en 2021. <br>\n",
    "  \n",
    "    *  La tabla de empleados, un Excel mantenido por el personal administrativo de RRHH. <br>\n",
    "    *  La tabla de proveedores, un Excel mantenido por un analista de otra dirección que ya no esta en la empresa. <br>\n",
    "    *  La tabla de clientes, alojada en el CRM de la empresa. <br>\n",
    "    *  La tabla de productos, un Excel mantenido por otro analista. <br>\n",
    "    *  Las tablas de ventas, gastos y compras, tres archivos CSV generados a partir del sistema transaccional de la empresa. <br>\n",
    "2.  Es necesario realizar la captura de esos archivos e ingestarlos dentro de nuestra base de datos. <br>"
   ]
  },
  {
   "cell_type": "markdown",
   "metadata": {},
   "source": [
    "## <b> <font face = \"Space Mono\"> Resolución </font> </b> #"
   ]
  },
  {
   "cell_type": "markdown",
   "metadata": {},
   "source": [
    "\n",
    "### <b> <font face = \"Space Mono\"> Creamos el catálogo de funciones y procedimientos </font> </b> \n"
   ]
  },
  {
   "cell_type": "code",
   "execution_count": null,
   "metadata": {
    "vscode": {
     "languageId": "sql"
    }
   },
   "outputs": [],
   "source": [
    "SET GLOBAL log_bin_trust_function_creators = 1;\n",
    "DROP FUNCTION IF EXISTS `UC_Words`;\n",
    "DELIMITER $$\n",
    "CREATE DEFINER=`root`@`localhost` FUNCTION `UC_Words`( str VARCHAR(255) ) RETURNS varchar(255) CHARSET utf8\n",
    "BEGIN  \n",
    "  DECLARE c CHAR(1);  \n",
    "  DECLARE s VARCHAR(255);  \n",
    "  DECLARE i INT DEFAULT 1;  \n",
    "  DECLARE bool INT DEFAULT 1;  \n",
    "  DECLARE punct CHAR(17) DEFAULT ' ()[]{},.-_!@;:?/';  \n",
    "  SET s = LCASE( str );  \n",
    "  WHILE i < LENGTH( str ) DO  \n",
    "     BEGIN  \n",
    "       SET c = SUBSTRING( s, i, 1 );  \n",
    "       IF LOCATE( c, punct ) > 0 THEN  \n",
    "        SET bool = 1;  \n",
    "      ELSEIF bool=1 THEN  \n",
    "        BEGIN  \n",
    "          IF c >= 'a' AND c <= 'z' THEN  \n",
    "             BEGIN  \n",
    "               SET s = CONCAT(LEFT(s,i-1),UCASE(c),SUBSTRING(s,i+1));  \n",
    "               SET bool = 0;  \n",
    "             END;  \n",
    "           ELSEIF c >= '0' AND c <= '9' THEN  \n",
    "            SET bool = 0;  \n",
    "          END IF;  \n",
    "        END;  \n",
    "      END IF;  \n",
    "      SET i = i+1;  \n",
    "    END;  \n",
    "  END WHILE;  \n",
    "  RETURN s;  \n",
    "END$$\n",
    "DELIMITER ;\n",
    "DROP PROCEDURE IF EXISTS `Llenar_dimension_calendario`;\n",
    "DELIMITER $$\n",
    "CREATE DEFINER=`root`@`localhost` PROCEDURE `Llenar_dimension_calendario`(IN `startdate` DATE, IN `stopdate` DATE)\n",
    "BEGIN\n",
    "    DECLARE currentdate DATE;\n",
    "    SET currentdate = startdate;\n",
    "    WHILE currentdate < stopdate DO\n",
    "        INSERT INTO calendario VALUES (\n",
    "                        YEAR(currentdate)*10000+MONTH(currentdate)*100 + DAY(currentdate),\n",
    "                        currentdate,\n",
    "                        YEAR(currentdate),\n",
    "                        MONTH(currentdate),\n",
    "                        DAY(currentdate),\n",
    "                        QUARTER(currentdate),\n",
    "                        WEEKOFYEAR(currentdate),\n",
    "                        DATE_FORMAT(currentdate,'%W'),\n",
    "                        DATE_FORMAT(currentdate,'%M'));\n",
    "        SET currentdate = ADDDATE(currentdate,INTERVAL 1 DAY);\n",
    "    END WHILE;\n",
    "END$$\n",
    "DELIMITER ;"
   ]
  },
  {
   "cell_type": "markdown",
   "metadata": {},
   "source": [
    "### <b> <font face = \"Space Mono\"> Importamos las tablas </font> </b> "
   ]
  },
  {
   "cell_type": "markdown",
   "metadata": {},
   "source": [
    "*   <b> <font face = \"Space Mono\"> canal_venta </font> </b> \n"
   ]
  },
  {
   "cell_type": "code",
   "execution_count": null,
   "metadata": {
    "vscode": {
     "languageId": "sql"
    }
   },
   "outputs": [],
   "source": [
    "DROP TABLE IF EXISTS `canal_venta`;\n",
    "CREATE TABLE IF NOT EXISTS `canal_venta` (\n",
    "  `id_canal`\t\t\tINTEGER,\n",
    "  `canal` \t\t\t\tVARCHAR(50)\n",
    ") ENGINE=InnoDB DEFAULT CHARSET=utf8mb4 COLLATE=utf8mb4_spanish_ci;\n",
    "LOAD DATA INFILE '\\CanalDeVenta.csv' \n",
    "INTO TABLE `canal_venta` \n",
    "FIELDS TERMINATED BY ',' ENCLOSED BY '\\\"' ESCAPED BY '\\\"' \n",
    "LINES TERMINATED BY '\\n' IGNORE 1 LINES;"
   ]
  },
  {
   "cell_type": "markdown",
   "metadata": {},
   "source": [
    "*   <b> <font face = \"Space Mono\"> cliente </font> </b> \n"
   ]
  },
  {
   "cell_type": "code",
   "execution_count": null,
   "metadata": {
    "vscode": {
     "languageId": "sql"
    }
   },
   "outputs": [],
   "source": [
    "DROP TABLE IF EXISTS cliente;\n",
    "CREATE TABLE IF NOT EXISTS cliente (\n",
    "\t`id_cliente`\t\t\t\t\tINTEGER,\n",
    "\t`provincia`\t\t\tVARCHAR(50),\n",
    "\t`nombre_apellido`\tVARCHAR(80),\n",
    "\t`domicilio`\t\t\tVARCHAR(150),\n",
    "\t`telefono`\t\t\tVARCHAR(30),\n",
    "\t`edad`\t\t\t\tVARCHAR(5),\n",
    "\t`localidad`\t\t\tVARCHAR(80),\n",
    "\t`x`\t\t\t\t    VARCHAR(30),\n",
    "\t`y`\t\t\t\t    VARCHAR(30),\n",
    "\t`col10`\t\t\t\tVARCHAR(1)\n",
    ") ENGINE=InnoDB DEFAULT CHARSET=utf8mb4 COLLATE=utf8mb4_spanish_ci;\n",
    "LOAD DATA INFILE '\\Clientes.csv'\n",
    "INTO TABLE cliente\n",
    "FIELDS TERMINATED BY ';' ENCLOSED BY '\\\"' ESCAPED BY '\\\"' \n",
    "LINES TERMINATED BY '\\n' IGNORE 1 LINES;"
   ]
  },
  {
   "cell_type": "markdown",
   "metadata": {},
   "source": [
    "*   <b> <font face = \"Space Mono\"> compra </font> </b> \n"
   ]
  },
  {
   "cell_type": "code",
   "execution_count": null,
   "metadata": {
    "vscode": {
     "languageId": "sql"
    }
   },
   "outputs": [],
   "source": [
    "DROP TABLE IF EXISTS `compra`;\n",
    "CREATE TABLE IF NOT EXISTS `compra` (\n",
    "  `id_compra`\t\t\tINTEGER,\n",
    "  `fecha` \t\t\t\tDATE,\n",
    "  `id_producto`\t\tINTEGER,\n",
    "  `cantidad`\t\t\tINTEGER,\n",
    "  `precio`\t\t\t\tDECIMAL(10,2),\n",
    "  `id_proveedor`\tINTEGER\n",
    ") ENGINE=InnoDB DEFAULT CHARSET=utf8mb4 COLLATE=utf8mb4_spanish_ci;\n",
    "LOAD DATA INFILE '\\Compra.csv' \n",
    "INTO TABLE `compra` \n",
    "FIELDS TERMINATED BY ',' ENCLOSED BY '' ESCAPED BY '' \n",
    "LINES TERMINATED BY '\\n' IGNORE 1 LINES;"
   ]
  },
  {
   "cell_type": "markdown",
   "metadata": {},
   "source": [
    "*   <b> <font face = \"Space Mono\"> empleado </font> </b> \n"
   ]
  },
  {
   "cell_type": "code",
   "execution_count": null,
   "metadata": {
    "vscode": {
     "languageId": "sql"
    }
   },
   "outputs": [],
   "source": [
    "DROP TABLE IF EXISTS empleado;\n",
    "CREATE TABLE IF NOT EXISTS empleado (\n",
    "\t`id_empleado`\t\t\t\t\tINTEGER,\n",
    "\t`apellido`\t\t\t\t\t    VARCHAR(100),\n",
    "\t`nombre`\t\t\t\t\t\tVARCHAR(100),\n",
    "\t`sucursal`\t\t\t\t\t    VARCHAR(50),\n",
    "\t`sector`\t\t\t\t\t\tVARCHAR(50),\n",
    "\t`cargo`\t\t\t\t\t\t    VARCHAR(50),\n",
    "\t`salario`\t\t\t\t\t    VARCHAR(30)\n",
    "-- \t`salario`      \t\t\t\t\tDECIMAL(10,2)\n",
    ") ENGINE=InnoDB DEFAULT CHARSET=utf8mb4 COLLATE=utf8mb4_spanish_ci;\n",
    "LOAD DATA INFILE '\\Empleados.csv' \n",
    "INTO TABLE `empleado` \n",
    "FIELDS TERMINATED BY ',' ENCLOSED BY '\\\"' ESCAPED BY '\\\"' \n",
    "LINES TERMINATED BY '\\n' IGNORE 1 LINES;"
   ]
  },
  {
   "cell_type": "markdown",
   "metadata": {},
   "source": [
    "*   <b> <font face = \"Space Mono\"> gasto </font> </b> \n"
   ]
  },
  {
   "cell_type": "code",
   "execution_count": null,
   "metadata": {
    "vscode": {
     "languageId": "sql"
    }
   },
   "outputs": [],
   "source": [
    "DROP TABLE IF EXISTS `gasto`;\n",
    "CREATE TABLE IF NOT EXISTS `gasto` (\n",
    "  \t`id_gasto` \t\tINTEGER,\n",
    "  \t`id_sucursal` \tINTEGER,\n",
    "  \t`id_tipo_gasto` INTEGER,\n",
    "    `fecha`\t\t\tDATE,\n",
    "  \t`monto` \t\tDECIMAL(10,2)\n",
    ") ENGINE=InnoDB DEFAULT CHARSET=utf8mb4 COLLATE=utf8mb4_spanish_ci;\t\n",
    "LOAD DATA INFILE '\\Gasto.csv' \n",
    "INTO TABLE `gasto` \n",
    "FIELDS TERMINATED BY ',' ENCLOSED BY '' ESCAPED BY '' \n",
    "LINES TERMINATED BY '\\n' IGNORE 1 LINES;"
   ]
  },
  {
   "cell_type": "markdown",
   "metadata": {},
   "source": [
    "*   <b> <font face = \"Space Mono\"> productos </font> </b> \n"
   ]
  },
  {
   "cell_type": "code",
   "execution_count": null,
   "metadata": {
    "vscode": {
     "languageId": "sql"
    }
   },
   "outputs": [],
   "source": [
    "DROP TABLE IF EXISTS producto;\n",
    "CREATE TABLE IF NOT EXISTS producto (\n",
    "\t`id_producto`\t\t\t\tINTEGER,\n",
    "\t`concepto`\t\t\t\t\tVARCHAR(100),\n",
    "\t`tipo`\t\t\t\t\t\tVARCHAR(50),\n",
    "\t`precio`\t\t\t\t\tVARCHAR(30)\n",
    "--  `precio`       \t\t\t\tDECIMAL(10,2)\n",
    ") ENGINE=InnoDB DEFAULT CHARSET=utf8mb4 COLLATE=utf8mb4_spanish_ci;\n",
    "LOAD DATA INFILE '\\Productos.csv' \n",
    "INTO TABLE `producto` \n",
    "FIELDS TERMINATED BY ',' ENCLOSED BY '\\\"' ESCAPED BY '\\\"' \n",
    "LINES TERMINATED BY '\\n' IGNORE 1 LINES;"
   ]
  },
  {
   "cell_type": "markdown",
   "metadata": {},
   "source": [
    "*   <b> <font face = \"Space Mono\"> proveedor </font> </b> \n"
   ]
  },
  {
   "cell_type": "code",
   "execution_count": null,
   "metadata": {
    "vscode": {
     "languageId": "sql"
    }
   },
   "outputs": [],
   "source": [
    "DROP TABLE IF EXISTS proveedor;\n",
    "CREATE TABLE IF NOT EXISTS proveedor (\n",
    "\t`id_proveedor`\tINTEGER,\n",
    "\t`nombre`\t\tVARCHAR(80),\n",
    "\t`domicilio`\t\tVARCHAR(150),\n",
    "\t`ciudad`\t\tVARCHAR(80),\n",
    "\t`provincia`\t\tVARCHAR(50),\n",
    "\t`pais`\t\t\tVARCHAR(20),\n",
    "\t`departamento`\tVARCHAR(80)\n",
    ") ENGINE=InnoDB DEFAULT CHARSET=utf8mb4 COLLATE=utf8mb4_spanish_ci;\n",
    "LOAD DATA INFILE '\\Proveedores.csv' \n",
    "INTO TABLE proveedor\n",
    "FIELDS TERMINATED BY ',' ENCLOSED BY '\\\"' ESCAPED BY '\\\"' \n",
    "LINES TERMINATED BY '\\n' IGNORE 1 LINES;"
   ]
  },
  {
   "cell_type": "markdown",
   "metadata": {},
   "source": [
    "*   <b> <font face = \"Space Mono\"> sucursales </font> </b> \n"
   ]
  },
  {
   "cell_type": "code",
   "execution_count": null,
   "metadata": {
    "vscode": {
     "languageId": "sql"
    }
   },
   "outputs": [],
   "source": [
    "DROP TABLE IF EXISTS sucursal;\n",
    "CREATE TABLE IF NOT EXISTS sucursal (\n",
    "\t`id_sucursal`\t\t\tINTEGER,\n",
    "\t`sucursal`\t            VARCHAR(40),\n",
    "\t`domicilio`\t            VARCHAR(150),\n",
    "\t`localidad`\t            VARCHAR(80),\n",
    "\t`provincia`\t            VARCHAR(50),\n",
    "\t`latitud`\t            VARCHAR(30),\n",
    "\t`longitud`\t            VARCHAR(30)\n",
    ") ENGINE=InnoDB DEFAULT CHARSET=utf8mb4 COLLATE=utf8mb4_spanish_ci;\n",
    "LOAD DATA INFILE '\\Sucursales.csv' \n",
    "INTO TABLE sucursal\n",
    "FIELDS TERMINATED BY ';' ENCLOSED BY '\\\"' ESCAPED BY '\\\"' \n",
    "LINES TERMINATED BY '\\n' IGNORE 1 LINES;"
   ]
  },
  {
   "cell_type": "markdown",
   "metadata": {},
   "source": [
    "*   <b> <font face = \"Space Mono\"> tipo_gaste </font> </b> \n"
   ]
  },
  {
   "cell_type": "code",
   "execution_count": null,
   "metadata": {
    "vscode": {
     "languageId": "sql"
    }
   },
   "outputs": [],
   "source": [
    "DROP TABLE IF EXISTS `tipo_gasto`;\n",
    "CREATE TABLE IF NOT EXISTS `tipo_gasto` (\n",
    "  `id_tipo_gasto`       INT(11) NOT NULL AUTO_INCREMENT,\n",
    "  `descripcion`         VARCHAR(100) NOT NULL,\n",
    "  `monto_aproximado`    DECIMAL(10,2) NOT NULL,\n",
    "  PRIMARY KEY (`id_tipo_gasto`)\n",
    ") ENGINE=InnoDB DEFAULT CHARSET=utf8mb4 COLLATE=utf8mb4_spanish_ci;\n",
    "LOAD DATA INFILE '\\TiposDeGasto.csv' \n",
    "INTO TABLE `tipo_gasto` \n",
    "FIELDS TERMINATED BY ',' ENCLOSED BY '\\\"' ESCAPED BY '\\\"' \n",
    "LINES TERMINATED BY '\\n' IGNORE 1 LINES;"
   ]
  },
  {
   "cell_type": "markdown",
   "metadata": {},
   "source": [
    "*   <b> <font face = \"Space Mono\"> venta </font> </b> \n"
   ]
  },
  {
   "cell_type": "code",
   "execution_count": null,
   "metadata": {
    "vscode": {
     "languageId": "sql"
    }
   },
   "outputs": [],
   "source": [
    "DROP TABLE IF EXISTS `venta`;\n",
    "CREATE TABLE IF NOT EXISTS `venta` (\n",
    "  `id_venta`\t\t\t\tINTEGER,\n",
    "  `fecha` \t\t\t\tDATE NOT NULL,\n",
    "  `fecha_entrega` \t\tDATE NOT NULL,\n",
    "  `id_canal`\t\t\tINTEGER, \n",
    "  `id_cliente`\t\t\tINTEGER, \n",
    "  `id_sucursal`\t\t\tINTEGER,\n",
    "  `id_empleado`\t\t\tINTEGER,\n",
    "  `id_producto`\t\t\tINTEGER,\n",
    "  `precio`\t\t\t\tVARCHAR(30),\n",
    "  `cantidad`\t\t\tVARCHAR(30)\n",
    "  -- `precio`\t\t\tDECIMAL(10,2),\n",
    "  -- `cantidad`\t\t\tINTEGER\n",
    "  -- eliminar: `precio`\n",
    ") ENGINE=InnoDB DEFAULT CHARSET=utf8mb4 COLLATE=utf8mb4_spanish_ci;\n",
    "LOAD DATA INFILE '\\Venta.csv' \n",
    "INTO TABLE `venta` \n",
    "FIELDS TERMINATED BY ',' ENCLOSED BY '' ESCAPED BY '' \n",
    "LINES TERMINATED BY '\\n' IGNORE 1 LINES;"
   ]
  },
  {
   "cell_type": "markdown",
   "metadata": {},
   "source": [
    "### <b> <font face = \"Space Mono\"> Generamos la dimensión calendario </font> </b> "
   ]
  },
  {
   "cell_type": "code",
   "execution_count": null,
   "metadata": {
    "vscode": {
     "languageId": "sql"
    }
   },
   "outputs": [],
   "source": [
    "DROP TABLE IF EXISTS `calendario`;\n",
    "CREATE TABLE calendario (\n",
    "        id_calendario                      INTEGER PRIMARY KEY,  -- year*10000+month*100+day\n",
    "        fecha                 \tDATE NOT NULL,\n",
    "        anio                    INTEGER NOT NULL,\n",
    "        mes                   \tINTEGER NOT NULL, -- 1 to 12\n",
    "        dia                     INTEGER NOT NULL, -- 1 to 31\n",
    "        trimestre               INTEGER NOT NULL, -- 1 to 4\n",
    "        semana                  INTEGER NOT NULL, -- 1 to 52/53\n",
    "        dia_nombre              VARCHAR(9) NOT NULL, -- 'Monday', 'Tuesday'...\n",
    "        mes_nombre              VARCHAR(9) NOT NULL -- 'January', 'February'...\n",
    ") ENGINE=InnoDB DEFAULT CHARSET=utf8mb4 COLLATE=utf8mb4_spanish_ci;\n",
    "\n",
    "/*LOAD DATA INFILE 'C:\\\\Users\\\\HP\\\\Desktop\\\\Visual_Studio_Code\\\\DTS_01_Bootcamp\\\\DS_M3\\\\Clase_01\\\\Homework_Resuelto\\\\Calendario.csv' \n",
    "INTO TABLE calendario\n",
    "FIELDS TERMINATED BY ',' ENCLOSED BY '' ESCAPED BY '' \n",
    "LINES TERMINATED BY '\\n' IGNORE 1 LINES;*/\n",
    "\n",
    "/*TRUNCATE TABLE calendario;*/\n",
    "CALL Llenar_dimension_calendario('2015-01-01','2020-12-31');\n",
    "SELECT * FROM calendario;"
   ]
  }
 ],
 "metadata": {
  "language_info": {
   "name": "python"
  },
  "orig_nbformat": 4
 },
 "nbformat": 4,
 "nbformat_minor": 2
}
