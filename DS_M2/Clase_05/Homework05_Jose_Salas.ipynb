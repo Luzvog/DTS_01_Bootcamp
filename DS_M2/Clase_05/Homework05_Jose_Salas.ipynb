{
 "cells": [
  {
   "cell_type": "markdown",
   "metadata": {},
   "source": [
    "# <b> Disctibuciones de Probabilidad </b>"
   ]
  },
  {
   "cell_type": "markdown",
   "metadata": {},
   "source": [
    "## <b> Distribución Binomial </b>"
   ]
  },
  {
   "cell_type": "markdown",
   "metadata": {},
   "source": [
    "Esta distribución es muy importante y de uso frecuente. Corresponde a experimentos con características similares a un experimiento de Bernoulli, pero ahora es de interés la variable aleatoria relacionada con la <b> cantidad de \"éxitos\" </b> que se obtienen en el experimiento.\n",
    "\n",
    "*   <b> Características de un Experimento Binomial </b>: <br>\n",
    "    \n",
    "    * La cantidad de ensayos <b> n </b>, que se realizan es finita. <br>\n",
    "    * Cada ensayo tiene únicamente <b> dos </b> resultados posibles: <b> éxitos </b> o <b> fracasos </b>.\n",
    "    * Todos los ensayos realizados son <b> independientes </b>.\n",
    "    * La probabilidad de <b> p </b>, de obtener <b> éxitos </b> en cada ensayo permanece constante. <br>\n",
    "\n",
    "*   <b> Ejemplos </b>:\n",
    "*   \n",
    "    1.  Determinar la probabilidad de la cantidad de artículos que son defectuosos en una muestra tomada al azar de la producción de una fábrica, suponiendo conocida la probabilidad de que un artículo sea defectuoso. <br>\n",
    "    2.  Determinar la probabilidad de la cantidad de personas que están a favor de un candidato, en una muestra de personas elegidas al azar de una población grande. Suponiendo conocida la probabilidad de que una persona este a favor del candidato."
   ]
  },
  {
   "cell_type": "markdown",
   "metadata": {},
   "source": [
    "$$\n",
    "f(x) = \\dbinom n x \\enspace p^x \\enspace (1 - p)^{n - x}, \\enspace x = 0, 1, 2, ..., n\n",
    "$$"
   ]
  },
  {
   "cell_type": "markdown",
   "metadata": {},
   "source": [
    "<b> Donde </b>:\n",
    "\n",
    "$ X$: Variable aleatoria discreta (cantidad de ensayos <b> éxitosos </b>) contenidos $ n$.\n",
    "\n",
    "$ x$: Número de vaoles que puede tomar $x \\enspace (0 \\leq x \\leq n)$\n",
    "\n",
    "$ n$: Series de ensayos realizados.\n",
    "\n",
    "$ p$: Probabilidad de que el resultado de cada ensayo sea \"<b> éxitoso </b>\".\n",
    "\n",
    "$ \\binom n x $: cobinaciones de ensayos éxitosos realizados contenidos en la totalidad de veces que se realizo el experimento."
   ]
  },
  {
   "cell_type": "markdown",
   "metadata": {},
   "source": [
    "$$\n",
    " \\dbinom n x = { n! \\above{1pt} (n-x)!x!} \\Rarr f(x) = { n! \\above{1pt} (n-x)!x!}p^x(1-p)^{n - x}\n",
    "$$"
   ]
  },
  {
   "cell_type": "markdown",
   "metadata": {},
   "source": [
    "si X = 4, x = 4, p = 1/6, n = 8\n"
   ]
  },
  {
   "cell_type": "markdown",
   "metadata": {},
   "source": [
    "\n",
    "$$\n",
    "P(X=x) = f(x) = { n! \\above{1pt} (n-x)!x!}p^x(1-p)^{n - x} \\Rarr\n",
    "$$"
   ]
  },
  {
   "cell_type": "markdown",
   "metadata": {},
   "source": [
    "$$\n",
    "P(X=4) = f(4) = { 8! \\above{1pt} (8-4)!4!}p^4(1-1/6)^{8 - 4} \\Rarr\n",
    "$$"
   ]
  },
  {
   "cell_type": "code",
   "execution_count": 3,
   "metadata": {},
   "outputs": [
    {
     "name": "stdout",
     "output_type": "stream",
     "text": [
      "0.026\n"
     ]
    }
   ],
   "source": [
    "# Construir una función Binomial\n",
    "from math import factorial\n",
    "\n",
    "def funcion_binomial(x,n,p):\n",
    "    num_exitos = factorial(n) #Factorial de la cantidad de casos de éxito buscados.\n",
    "    num_eventos = factorial (x) * factorial(n-x) #Factorial del espacio muestral.\n",
    "    exitos_fracaso=pow(p,x) * pow(1-p,(n-x)) # Probabilidad de exitos y fracasos.\n",
    "\n",
    "    binomial = (num_exitos / num_eventos) * exitos_fracaso #Aplicación de la función binomial.\n",
    "\n",
    "    return binomial\n",
    "\n",
    "#Probabilidad de obtener 3 caras en 5 lanzamientos y una probabilidad de éxito del 0.5.\n",
    "print(round((funcion_binomial(x = 4, n = 8, p = (1/6))), 4))"
   ]
  },
  {
   "cell_type": "code",
   "execution_count": null,
   "metadata": {},
   "outputs": [],
   "source": [
    "# Graficando Binomial\n",
    "N, p = 30, 0.4 # parametros de forma \n",
    "binomial = stats.binom(N, p) # Distribución\n",
    "x = np.arange(binomial.ppf(0.01),\n",
    "binomial.ppf(0.99))\n",
    "fmp = binomial.pmf(x) # Función de Masa de Probabilidad\n",
    "plt.plot(x, fmp, '--') #Esta función recibe un conjunto de valores x e y y los muestra en el plano como puntos unidos por línea.\n",
    "plt.vlines(x, 0, fmp, colors='b', lw=5, alpha=0.5) #Esta función da formato a las figuras.\n",
    "plt.title('Distribución Binomial') #Esta función asigna un título.\n",
    "plt.ylabel('probabilidad') #Esta función etiqueta el eje Y.\n",
    "plt.xlabel('valores') #Esta función etiqueta el eje X.\n",
    "plt.show() #Esta función muestra las figuras"
   ]
  },
  {
   "cell_type": "markdown",
   "metadata": {},
   "source": [
    "## <b> Distribución de Possion </b>"
   ]
  },
  {
   "cell_type": "markdown",
   "metadata": {},
   "source": [
    "La distribución de Possion es un modelo que puede usarse para calcular la probabilidad correspondiente al número de <b> 'éxitos' </b>, que se obtend´ran en una región o en intervalo de tiempo especificados, su se conoce el npumero promedio de <b> 'éxitos' </b> que ocurren.\n",
    "\n",
    "<b> Este modelo requiere que se cumplan las siguientes suposiciones </b>:\n",
    "\n",
    "1.  El número de <b> 'éxitos' </b> que ocurren en la región o intervalo es independiente de lo que ocurre en otra región o intervalo.\n",
    "\n",
    "2.  La probabilidad de que un resultado ocurra en una región o intervalo muy pequeño, es igual para todos los intervalos o regiones de igual tamaño y es proporcional al tamaño de la región o intervalo.\n",
    "\n",
    "3.  La probabilidad de que más de un resultado ocurra en una región o intervalo muy pequeño no es significativa."
   ]
  },
  {
   "cell_type": "markdown",
   "metadata": {},
   "source": [
    "$$\n",
    "f(x) =  {e^\\lambda \\enspace \\lambda^x \\above{1pt} x!}, \\enspace e = 2.71828...\n",
    "$$"
   ]
  },
  {
   "cell_type": "markdown",
   "metadata": {},
   "source": [
    "<b> Donde </b>:\n",
    "\n",
    "$ X$: Variable aleatoria discreta con distribución de Possion (cantidad de <b> éxitosos </b> en una región o intervalo específicado) contenidos $ n$.\n",
    "\n",
    "$ x$: Valores posibles para $X \\enspace (0 \\leq x \\leq n)$\n",
    "\n",
    "$ \\lambda$: Cantidad promedio de <b> 'éxitos' </b> en la región o intervalos específicados."
   ]
  },
  {
   "cell_type": "code",
   "execution_count": 6,
   "metadata": {},
   "outputs": [
    {
     "name": "stdout",
     "output_type": "stream",
     "text": [
      "0.0607\n"
     ]
    }
   ],
   "source": [
    "# Construir una Distribución de Possion\n",
    "\n",
    "from math import e,factorial\n",
    "\n",
    "def probabilidad_poisson(lamba_np,x):\n",
    "     probabilidad = (pow(e,-lamba_np) * pow(lamba_np,x))/factorial(x)\n",
    "     return probabilidad\n",
    "\n",
    "print(round((probabilidad_poisson(lamba_np = (450*0.02), x = 5)), 4))"
   ]
  },
  {
   "cell_type": "markdown",
   "metadata": {},
   "source": [
    "## <b> Distribución Normal </b>"
   ]
  },
  {
   "cell_type": "markdown",
   "metadata": {},
   "source": [
    "$$\n",
    "f(x) =  {1 \\above{1pt} \\sigma \\sqrt{\\mathstrut 2\\pi}} e^{-{1 \\above{1pt} 2} ({x - \\mu \\above{1pt} \\sigma})^2 }, \\enspace e = 2.71828...\n",
    "$$"
   ]
  },
  {
   "cell_type": "markdown",
   "metadata": {},
   "source": [
    "<b> Donde </b>:\n",
    "\n",
    "$ X$ :Variable aleatoria continua con media $\\mu$ y varainza $\\sigma^2$\n",
    "\n",
    "$ \\mu$: Media.\n",
    "\n",
    "$ \\sigma^2$: Varianza.\n",
    "\n",
    "$ \\sigma$: Desviación estandar."
   ]
  },
  {
   "cell_type": "markdown",
   "metadata": {},
   "source": [
    "### <b> Distribución Normal Estandar </b>"
   ]
  },
  {
   "cell_type": "markdown",
   "metadata": {},
   "source": [
    "$$\n",
    "f(x) =  {1 \\above{1pt} \\sqrt{\\mathstrut 2 \\pi}} e^{-{1 \\above{1pt} 2} Z^2}, -\\infty < Z < \\infty\n",
    "$$"
   ]
  },
  {
   "cell_type": "markdown",
   "metadata": {},
   "source": [
    "<b> Donde </b>:\n",
    "\n",
    "$ Z$ :Variable aleatoria continua con media $\\mu$ = 0 y varainza $\\sigma^2$ = 1."
   ]
  },
  {
   "cell_type": "markdown",
   "metadata": {},
   "source": [
    "### <b> Estandarización de la Distribución Normal </b>"
   ]
  },
  {
   "cell_type": "markdown",
   "metadata": {},
   "source": [
    "Si una varaible tiene distribución normal estandar, mediante una sustitución se la puede transformar a otra varaible con distribución normal estandar. Este cambio de varaible facilita el cálculo de probabilidad y se denomina estandarización de la distribución de la variable."
   ]
  },
  {
   "cell_type": "markdown",
   "metadata": {},
   "source": [
    "$$\n",
    "Z =  {X - \\mu \\above{1pt} \\sigma}\n",
    "$$"
   ]
  },
  {
   "cell_type": "markdown",
   "metadata": {},
   "source": [
    "<b> Donde </b>:\n",
    "\n",
    "$ X$ :Variable aleatoria con distribucioin normal: $ X \\sim N(\\mu, \\sigma)$\n",
    "\n",
    "$ \\mu$: Media.\n",
    "\n",
    "$ \\sigma$: Desviación estandar."
   ]
  }
 ],
 "metadata": {
  "interpreter": {
   "hash": "9bf2ca0f4a7adc3ce2f237ca763c1538d3ef289a4e7face3612a01cdae9f6807"
  },
  "kernelspec": {
   "display_name": "Python 3.10.2 64-bit",
   "language": "python",
   "name": "python3"
  },
  "language_info": {
   "codemirror_mode": {
    "name": "ipython",
    "version": 3
   },
   "file_extension": ".py",
   "mimetype": "text/x-python",
   "name": "python",
   "nbconvert_exporter": "python",
   "pygments_lexer": "ipython3",
   "version": "3.10.2"
  },
  "orig_nbformat": 4
 },
 "nbformat": 4,
 "nbformat_minor": 2
}
