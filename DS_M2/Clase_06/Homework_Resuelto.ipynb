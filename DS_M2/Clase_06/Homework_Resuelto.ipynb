{
 "cells": [
  {
   "cell_type": "code",
   "execution_count": 1,
   "metadata": {},
   "outputs": [],
   "source": [
    "from math import e,factorial\n",
    "from statistics import NormalDist"
   ]
  },
  {
   "cell_type": "code",
   "execution_count": 15,
   "metadata": {},
   "outputs": [],
   "source": [
    "#DISTRIBUCIÓN BINOMIAL\n",
    "def funcion_binomial(k,n,p):\n",
    "  num_exitos = factorial(n) \n",
    "  num_eventos = factorial (k) * factorial(n-k) \n",
    "  exitos_fracaso=pow(p,k) * pow(1-p,(n-k)) \n",
    "\n",
    "  binomial = (num_exitos / num_eventos) * exitos_fracaso\n",
    "\n",
    "  return binomial"
   ]
  },
  {
   "cell_type": "code",
   "execution_count": 16,
   "metadata": {},
   "outputs": [
    {
     "name": "stdout",
     "output_type": "stream",
     "text": [
      "0.20012094900000005\n"
     ]
    }
   ],
   "source": [
    "#1.Aplicamos la función binomial.\n",
    "print(funcion_binomial(6,10,0.7))"
   ]
  },
  {
   "cell_type": "code",
   "execution_count": 17,
   "metadata": {},
   "outputs": [
    {
     "name": "stdout",
     "output_type": "stream",
     "text": [
      "0.17218688399999993\n"
     ]
    }
   ],
   "source": [
    "#2.Aplicamos la función binomial.\n",
    "print(funcion_binomial(7,9,0.9))"
   ]
  },
  {
   "cell_type": "code",
   "execution_count": 18,
   "metadata": {},
   "outputs": [
    {
     "name": "stdout",
     "output_type": "stream",
     "text": [
      "0.9470278620000001\n"
     ]
    }
   ],
   "source": [
    "#3.Aplicamos la función binomial y sumamos probabilidades para 7,8 y 9 casos probables.\n",
    "print(  funcion_binomial(7,9,0.9)+\n",
    "        funcion_binomial(8,9,0.9)+\n",
    "        funcion_binomial(9,9,0.9))"
   ]
  },
  {
   "cell_type": "code",
   "execution_count": 19,
   "metadata": {},
   "outputs": [],
   "source": [
    "#DISTRIBUCIÓN DE POISSON\n",
    "def probabilidad_poisson(lamba_np,x):\n",
    "     probabilidad = (pow(e,-lamba_np) * pow(lamba_np,x))/factorial(x)\n",
    "     return probabilidad"
   ]
  },
  {
   "cell_type": "code",
   "execution_count": 20,
   "metadata": {},
   "outputs": [
    {
     "name": "stdout",
     "output_type": "stream",
     "text": [
      "0.09007922571921602\n"
     ]
    }
   ],
   "source": [
    "#4. Aplicamos la función poisson.\n",
    "print(probabilidad_poisson(10,7))"
   ]
  },
  {
   "cell_type": "code",
   "execution_count": 21,
   "metadata": {},
   "outputs": [
    {
     "name": "stdout",
     "output_type": "stream",
     "text": [
      "0.10444486295705402\n"
     ]
    }
   ],
   "source": [
    "#5. Aplicamos la función poisson.\n",
    "print(probabilidad_poisson(5,7))"
   ]
  },
  {
   "cell_type": "code",
   "execution_count": 22,
   "metadata": {},
   "outputs": [
    {
     "name": "stdout",
     "output_type": "stream",
     "text": [
      "0.0516488535317584\n"
     ]
    }
   ],
   "source": [
    "#6. Aplicamos la función poisson. \n",
    "# El intervalo dado es de 3 días, para llevarlo a un intervalo de 6 días aplicamos regla de 3 \n",
    "# y nos da 20 alumnos.\n",
    "print(probabilidad_poisson(20,15))"
   ]
  },
  {
   "cell_type": "code",
   "execution_count": 40,
   "metadata": {},
   "outputs": [
    {
     "name": "stdout",
     "output_type": "stream",
     "text": [
      "0.950212931632136\n"
     ]
    }
   ],
   "source": [
    "#7. Aplicamos la función poisson para un p(0). \n",
    "# La condición de cierre siempre es 1 por lo que p(x>=1)=1-p(0).\n",
    "print(1-probabilidad_poisson(3,0))"
   ]
  },
  {
   "cell_type": "code",
   "execution_count": 41,
   "metadata": {},
   "outputs": [
    {
     "name": "stdout",
     "output_type": "stream",
     "text": [
      "0.9983663394083797\n"
     ]
    }
   ],
   "source": [
    "#Aplicacion sobre el ejercicio 6, probabilidad de que ingresen hasta 20 alumnos\n",
    "p = 0\n",
    "for i in range(1, 21):\n",
    "    p = p + probabilidad_poisson(10,i)\n",
    "print(p)"
   ]
  },
  {
   "cell_type": "code",
   "execution_count": 39,
   "metadata": {},
   "outputs": [
    {
     "name": "stdout",
     "output_type": "stream",
     "text": [
      "0.9999546000702375\n"
     ]
    }
   ],
   "source": [
    "# Probabilidad de que ingresen alumnos\n",
    "print(1-probabilidad_poisson(10,0))"
   ]
  },
  {
   "cell_type": "code",
   "execution_count": 1,
   "metadata": {},
   "outputs": [
    {
     "name": "stdout",
     "output_type": "stream",
     "text": [
      "0.48\n"
     ]
    }
   ],
   "source": [
    "#DISTRIBUCIÓN NORMAL\n",
    "#8. La finalidad es entender el concepto.\n",
    "X=90\n",
    "mu=78\n",
    "sigma=25\n",
    "z=(X-mu)/sigma\n",
    "print(z)"
   ]
  },
  {
   "cell_type": "code",
   "execution_count": 44,
   "metadata": {},
   "outputs": [
    {
     "name": "stdout",
     "output_type": "stream",
     "text": [
      "0.3156\n"
     ]
    }
   ],
   "source": [
    "p_90=0.3156\n",
    "print(p_90)\n",
    "#Buscamos el valor de z en la tabla y obtenemos el valor del area bajo la curva = 0.3156\n",
    "#p(x>=90) = 0.3156"
   ]
  }
 ],
 "metadata": {
  "interpreter": {
   "hash": "c85384e4cb51c8b72350f3a8712cc8351fdc3955e32a27f9b60c6242ab125f01"
  },
  "kernelspec": {
   "display_name": "Python 3.9.7 ('henry')",
   "language": "python",
   "name": "python3"
  },
  "language_info": {
   "codemirror_mode": {
    "name": "ipython",
    "version": 3
   },
   "file_extension": ".py",
   "mimetype": "text/x-python",
   "name": "python",
   "nbconvert_exporter": "python",
   "pygments_lexer": "ipython3",
   "version": "3.9.7"
  },
  "orig_nbformat": 4
 },
 "nbformat": 4,
 "nbformat_minor": 2
}
