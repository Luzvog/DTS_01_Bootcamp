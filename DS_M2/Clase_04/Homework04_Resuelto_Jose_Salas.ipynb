{
 "cells": [
  {
   "cell_type": "markdown",
   "metadata": {},
   "source": [
    "![purple-divider](https://user-images.githubusercontent.com/7065401/52071927-c1cd7100-2562-11e9-908a-dde91ba14e59.png)\n",
    "\n",
    "# <b> Práctica Clase 4 </b>\n",
    "\n",
    "Cálcula de manera intuitva y en lo posible utilizando Python las siguientes probabilidades. Para cada uno intenta determinar que método aplicaste."
   ]
  },
  {
   "cell_type": "markdown",
   "metadata": {},
   "source": [
    "# <b> Ejercicio 1 </b>\n",
    "\n",
    "1.  Crear una funcion que pueda calcular permita calcular a probabilidad de los siguientes eventos en un baraja de 52 cartas. <br>\n",
    "\n",
    "    *   Obtener una carta roja. <br>\n",
    "\n",
    "    *   Obtener una carta  negra. <br>\n",
    "\n",
    "    *   Obtener una pica. <br>\n",
    "\n",
    "    *   Obtener un trébol. <br>\n",
    "\n",
    "    *   Obtener un corazón. <br>\n",
    "\n",
    "    *   Obtener un diamante. <br>\n"
   ]
  },
  {
   "cell_type": "markdown",
   "metadata": {},
   "source": [
    "![cartas](http://agrega.juntadeandalucia.es/repositorio/18112010/ac/es-an_2010111813_9130034/ODE-a2904276-6653-3af7-982f-e751e5f73e23/baraja.JPG)"
   ]
  },
  {
   "cell_type": "markdown",
   "metadata": {},
   "source": [
    "![green-divider](https://user-images.githubusercontent.com/7065401/52071924-c003ad80-2562-11e9-8297-1c6595f8a7ff.png)"
   ]
  },
  {
   "cell_type": "markdown",
   "metadata": {},
   "source": [
    "## <b> Ecuaciones </b>"
   ]
  },
  {
   "cell_type": "markdown",
   "metadata": {},
   "source": [
    "### <b> Permutaciones </b>"
   ]
  },
  {
   "cell_type": "markdown",
   "metadata": {},
   "source": [
    "$$\n",
    "{\\phantom{j}_n}P{\\phantom{j}_r} = \\frac{n!}{(n-1)!}\n",
    "$$"
   ]
  },
  {
   "cell_type": "markdown",
   "metadata": {},
   "source": [
    "**Donde**:\n",
    "\n",
    "${\\phantom{j}_n}P{\\phantom{j}_r}$: Número de permutaciones de n elementos para r arreglos.\n",
    "\n",
    "$n:$ Número de elementos diferentes.\n",
    "\n",
    "$r:$ Elementos contenidos en n."
   ]
  },
  {
   "cell_type": "markdown",
   "metadata": {},
   "source": [
    "### <b> Probabilidad </b> (Ley de Laplace)"
   ]
  },
  {
   "cell_type": "markdown",
   "metadata": {},
   "source": [
    "$$\n",
    "P(A)= {N(A) \\above{1pt} N(S)}\n",
    "$$\n",
    "\n",
    "**Donde**:\n",
    "\n",
    "$S:$ Espacio muestral.\n",
    "\n",
    "$A:$ Evento de interés."
   ]
  },
  {
   "cell_type": "markdown",
   "metadata": {},
   "source": [
    "![green-divider](https://user-images.githubusercontent.com/7065401/52071924-c003ad80-2562-11e9-8297-1c6595f8a7ff.png)"
   ]
  },
  {
   "cell_type": "markdown",
   "metadata": {},
   "source": [
    "## <b> Resolución Ejercicio </b>"
   ]
  },
  {
   "cell_type": "markdown",
   "metadata": {},
   "source": [
    "1.  Crear una funcion que pueda calcular permita calcular a probabilidad de los siguientes eventos en un baraja de 52 cartas. <br>\n"
   ]
  },
  {
   "cell_type": "markdown",
   "metadata": {},
   "source": [
    "*  <b> Tabla de Contingencia: </b>\n",
    "\n",
    "    | Palos\\ Colores          | Negro | Rojo | Total |\n",
    "    | ----------------------- | ----- | ---- | ----- |\n",
    "    | <b> Picas </b>          |  13 | 0 | 13 |\n",
    "    | <b> Corazones </b>      | 0  | 13  | 13  |\n",
    "    | <b> Trebol </b>         | 13  |  0  | 13   |\n",
    "    | <b> Diamante </b>       |  0  |  13  | 13   |\n",
    "    | <b> Total </b>          | 26  |  26  | 52 |"
   ]
  },
  {
   "cell_type": "markdown",
   "metadata": {},
   "source": [
    "\n",
    "*   <b> Obtener una carta roja </b>. <br>\n",
    "\n",
    "    ![green-divider](https://user-images.githubusercontent.com/7065401/52071924-c003ad80-2562-11e9-8297-1c6595f8a7ff.png)"
   ]
  },
  {
   "cell_type": "markdown",
   "metadata": {},
   "source": [
    "\n",
    "<b> Datos </b>:\n",
    "\n",
    "$S:$ 52 cartas.\n",
    "\n",
    "$R:$ 26 cartas rojas."
   ]
  },
  {
   "cell_type": "markdown",
   "metadata": {},
   "source": [
    "$$\n",
    "P(R)= {N(R) \\above{1pt} N(S)} \\Rarr {N(26) \\above{1pt} N(52)} \\Rarr P(R) = {1 \\above{1pt} 2} \n",
    "$$\n"
   ]
  },
  {
   "cell_type": "code",
   "execution_count": null,
   "metadata": {},
   "outputs": [],
   "source": [
    "a = 26\n",
    "s = 52\n",
    "p = round((a/s), 2)\n",
    "print(p)"
   ]
  },
  {
   "cell_type": "markdown",
   "metadata": {},
   "source": [
    "\n",
    "*   <b> Obtener una carta  negra </b>. <br>\n",
    "\n",
    "    ![green-divider](https://user-images.githubusercontent.com/7065401/52071924-c003ad80-2562-11e9-8297-1c6595f8a7ff.png)"
   ]
  },
  {
   "cell_type": "markdown",
   "metadata": {},
   "source": [
    "\n",
    "<b> Datos </b>:\n",
    "\n",
    "$S:$ 52 cartas.\n",
    "\n",
    "$\\frak N:$ 26 cartas negras."
   ]
  },
  {
   "cell_type": "markdown",
   "metadata": {},
   "source": [
    "$$\n",
    "P(\\frak N)= {N(\\frak N) \\above{1pt} N(S)} \\Rarr P(\\frak N) = {N(26) \\above{1pt} N(52)} \\Rarr P(\\frak N) = {1 \\above{1pt} 2}\n",
    "$$\n"
   ]
  },
  {
   "cell_type": "code",
   "execution_count": null,
   "metadata": {},
   "outputs": [],
   "source": [
    "a = 26\n",
    "s = 52\n",
    "p = round((a/s), 2)\n",
    "print(p)"
   ]
  },
  {
   "cell_type": "markdown",
   "metadata": {},
   "source": [
    "\n",
    "*   <b> Obtener una pica </b>. <br>\n",
    "\n",
    "    ![green-divider](https://user-images.githubusercontent.com/7065401/52071924-c003ad80-2562-11e9-8297-1c6595f8a7ff.png)"
   ]
  },
  {
   "cell_type": "markdown",
   "metadata": {},
   "source": [
    "\n",
    "<b> Datos </b>:\n",
    "\n",
    "$S:$ 52 cartas.\n",
    "\n",
    "$P:$ 13 cartas del palo de picas."
   ]
  },
  {
   "cell_type": "markdown",
   "metadata": {},
   "source": [
    "$$\n",
    "P(P)= {N(P) \\above{1pt} N(S)} \\Rarr P(P) = {N(13) \\above{1pt} N(52)} \\Rarr P(P) = {13 \\above{1pt} 52}\n",
    "$$\n"
   ]
  },
  {
   "cell_type": "code",
   "execution_count": null,
   "metadata": {},
   "outputs": [],
   "source": [
    "a = 13\n",
    "s = 52\n",
    "p = round((a/s), 2)\n",
    "print(p)"
   ]
  },
  {
   "cell_type": "markdown",
   "metadata": {},
   "source": [
    "\n",
    "*   <b> Obtener un trébol </b>. <br>\n",
    "\n",
    "    ![green-divider](https://user-images.githubusercontent.com/7065401/52071924-c003ad80-2562-11e9-8297-1c6595f8a7ff.png)"
   ]
  },
  {
   "cell_type": "markdown",
   "metadata": {},
   "source": [
    "\n",
    "<b> Datos </b>:\n",
    "\n",
    "$S:$ 52 cartas.\n",
    "\n",
    "$T:$ 13 cartas del palo de trebol."
   ]
  },
  {
   "cell_type": "markdown",
   "metadata": {},
   "source": [
    "$$\n",
    "P(T)= {N(T) \\above{1pt} N(S)} \\Rarr P(T) = {N(13) \\above{1pt} N(52)} \\Rarr P(T) = {13 \\above{1pt} 52}\n",
    "$$\n"
   ]
  },
  {
   "cell_type": "code",
   "execution_count": null,
   "metadata": {},
   "outputs": [],
   "source": [
    "a = 13\n",
    "s = 52\n",
    "p = round((a/s), 2)\n",
    "print(p)"
   ]
  },
  {
   "cell_type": "markdown",
   "metadata": {},
   "source": [
    "\n",
    "*   <b> Obtener un corazón </b>. <br>\n",
    "\n",
    "    ![green-divider](https://user-images.githubusercontent.com/7065401/52071924-c003ad80-2562-11e9-8297-1c6595f8a7ff.png)"
   ]
  },
  {
   "cell_type": "markdown",
   "metadata": {},
   "source": [
    "\n",
    "<b> Datos </b>:\n",
    "\n",
    "$S:$ 52 cartas.\n",
    "\n",
    "$C:$ 13 cartas del palo de corazones."
   ]
  },
  {
   "cell_type": "markdown",
   "metadata": {},
   "source": [
    "$$\n",
    "P(C)= {N(C) \\above{1pt} N(S)} \\Rarr P(C) = {N(13) \\above{1pt} N(52)} \\Rarr P(C) = {13 \\above{1pt} 52}\n",
    "$$\n"
   ]
  },
  {
   "cell_type": "code",
   "execution_count": null,
   "metadata": {},
   "outputs": [],
   "source": [
    "a = 13\n",
    "s = 52\n",
    "p = round((a/s), 2)\n",
    "print(p)"
   ]
  },
  {
   "cell_type": "markdown",
   "metadata": {},
   "source": [
    "\n",
    "*   <b> Obtener un diamante </b>. <br>\n",
    "\n",
    "    ![green-divider](https://user-images.githubusercontent.com/7065401/52071924-c003ad80-2562-11e9-8297-1c6595f8a7ff.png)"
   ]
  },
  {
   "cell_type": "markdown",
   "metadata": {},
   "source": [
    "\n",
    "<b> Datos </b>:\n",
    "\n",
    "$S:$ 52 cartas.\n",
    "\n",
    "$T:$ 13 cartas del palo de corazones."
   ]
  },
  {
   "cell_type": "markdown",
   "metadata": {},
   "source": [
    "$$\n",
    "P(C)= {N(C) \\above{1pt} N(S)} \\Rarr P(C) = {N(13) \\above{1pt} N(52)} \\Rarr P(C) = {13 \\above{1pt} 52}\n",
    "$$\n"
   ]
  },
  {
   "cell_type": "code",
   "execution_count": null,
   "metadata": {},
   "outputs": [],
   "source": [
    "a = 13\n",
    "s = 52\n",
    "p = round((a/s), 2)\n",
    "print(p)"
   ]
  },
  {
   "cell_type": "code",
   "execution_count": null,
   "metadata": {},
   "outputs": [],
   "source": [
    "def propCartas1(opccn):\n",
    "    \"\"\"Esta función cálcula la probabilidad de obtener una carta, ya sea del palo específicado, o del color indicado.\n",
    "\n",
    "    Args:\n",
    "        opccn (str): indica los eventos de interes a ser cálculados.\n",
    "\n",
    "    Returns:\n",
    "        p: probabilidad de que ocurra el evento de interés.\n",
    "    \"\"\"\n",
    "    nCartas = 52\n",
    "    nCartasPalos = 13\n",
    "    nCartasColores = 26\n",
    "    if ((opccn == 'rojo') or (opccn == 'negro')):\n",
    "        p = round((nCartasColores/nCartas), 2)\n",
    "    elif (opccn in ('pica', 'trebol', 'corazon', 'diamante')):\n",
    "        p = round((nCartasPalos/nCartas), 2)\n",
    "    return p"
   ]
  },
  {
   "cell_type": "code",
   "execution_count": null,
   "metadata": {},
   "outputs": [],
   "source": [
    "opccn = 'diamante'\n",
    "propDiamante = propCartas1(opccn)\n",
    "print(f'La probabilidad de obtener un {opccn} es de {propDiamante}')"
   ]
  },
  {
   "cell_type": "markdown",
   "metadata": {},
   "source": [
    "![green-divider](https://user-images.githubusercontent.com/7065401/52071924-c003ad80-2562-11e9-8297-1c6595f8a7ff.png)"
   ]
  },
  {
   "cell_type": "markdown",
   "metadata": {},
   "source": [
    "# <b> Ejercicio 2 </b>\n",
    "\n",
    "*  Cálcula la probabilidad de que salga un 7 o un 8 al seleccionar una carta de una baraja de las 52 cartas que contiene el mazo.\n",
    "\n",
    "    ![green-divider](https://user-images.githubusercontent.com/7065401/52071924-c003ad80-2562-11e9-8297-1c6595f8a7ff.png)\n"
   ]
  },
  {
   "cell_type": "markdown",
   "metadata": {},
   "source": [
    "*  <b> Tabla de Contingencia: </b>\n",
    "\n",
    "    | Palos\\ Números          | 1 | 2 | 3 | 4 | 5 | 6 | 7 | 8 | 9 | 10 | J | Q | K | Total |\n",
    "    | ----------------------- | - | - | - | - | - | - | - | - | - | - | - | - | - | ----- |\n",
    "    | <b> Picas </b>          | 1 | 1 | 1 | 1 | 1 | 1 | 1 | 1 | 1 | 1 | 1 | 1 | 1 |   13  |\n",
    "    | <b> Corazones </b>      | 1 | 1 | 1 | 1 | 1 | 1 | 1 | 1 | 1 | 1 | 1 | 1 | 1 |   13  |\n",
    "    | <b> Trebol </b>         | 1 | 1 | 1 | 1 | 1 | 1 | 1 | 1 | 1 | 1 | 1 | 1 | 1 |   13  |\n",
    "    | <b> Diamante </b>       | 1 | 1 | 1 | 1 | 1 | 1 | 1 | 1 | 1 | 1 | 1 | 1 | 1 |   13  |\n",
    "    | <b> Total </b>          | 4 | 4 | 4 | 4 | 4 | 4 | 4 | 4 | 4 | 4 | 4 | 4 | 4 |   52  |"
   ]
  },
  {
   "cell_type": "markdown",
   "metadata": {},
   "source": [
    "\n",
    "<b> Datos </b>:\n",
    "\n",
    "$S:$ 52 cartas.\n",
    "\n",
    "$N(7 \\lor 8):$ 8 cartas: N(7) = 4, N(8) = 4."
   ]
  },
  {
   "cell_type": "markdown",
   "metadata": {},
   "source": [
    "$$ \n",
    "P(7 \\bigcup 8) = P(7) + P(8) - P(7 \\bigcap 8), P(7 \\bigcup 8) \\Harr P(7 \\lor 8)\n",
    "$$"
   ]
  },
  {
   "cell_type": "markdown",
   "metadata": {},
   "source": [
    "$$\n",
    "7 \\bigcap 8 = \\empty, P(\\empty) = 0 \\Rarr P(7 \\bigcap 8) = 0\n",
    "$$"
   ]
  },
  {
   "cell_type": "markdown",
   "metadata": {},
   "source": [
    "$$ \n",
    " P(7) = {N(4) \\above{1pt} N(52)}, P(8) = {N(4) \\above{1pt} N(52)}\n",
    "$$"
   ]
  },
  {
   "cell_type": "markdown",
   "metadata": {},
   "source": [
    "$$ \n",
    "P(7 \\lor 8) = {N(4) \\above{1pt} N(52)} + {N(4) \\above{1pt} N(52)} - 0 \\Rarr P(7 \\lor 8)= 2{N(4) \\above{1pt} N(52)} = {2 \\above{1pt} 13}\n",
    "$$"
   ]
  },
  {
   "cell_type": "code",
   "execution_count": null,
   "metadata": {},
   "outputs": [],
   "source": [
    "a = 2\n",
    "s = 52\n",
    "p = round((2*(a/s)), 2)\n",
    "print(p)"
   ]
  },
  {
   "cell_type": "markdown",
   "metadata": {},
   "source": [
    "*   Crear una función que cálcule la probabilidad de que salga un número determinado.\n",
    "\n",
    "    ![green-divider](https://user-images.githubusercontent.com/7065401/52071924-c003ad80-2562-11e9-8297-1c6595f8a7ff.png)"
   ]
  },
  {
   "cell_type": "code",
   "execution_count": null,
   "metadata": {},
   "outputs": [],
   "source": [
    "def propCartas2(num):\n",
    "    \"\"\"Esta función calcula la probabilidad de obtener la carta de un número determinado\n",
    "\n",
    "    Args:\n",
    "        num (int, str): Número de la carta cuya probabilidad se quiere conocer.\n",
    "\n",
    "    Returns:\n",
    "        int, str: Probabilidad de que ocurra el evento de interes.\n",
    "    \"\"\"\n",
    "    p = None\n",
    "    nCartas = 52\n",
    "    if (type(num) == int):\n",
    "        if ((num >= 2) and (num <= 10)):\n",
    "            p = round(((4)/(nCartas)), 2)\n",
    "        else:\n",
    "            p = 'imposible'\n",
    "        return p\n",
    "\n",
    "    if (type(num) == str):    \n",
    "        if (num == 'as'):\n",
    "            p = round(((4)/(nCartas)), 2)\n",
    "        else:\n",
    "            p = 'imposible'  \n",
    "        return p"
   ]
  },
  {
   "cell_type": "code",
   "execution_count": null,
   "metadata": {},
   "outputs": [],
   "source": [
    "num = 2\n",
    "propNumCarta = propCartas2(num)\n",
    "print(f'La probabilidad de obtener un {num} es {propNumCarta}')"
   ]
  },
  {
   "cell_type": "markdown",
   "metadata": {},
   "source": [
    "*   Ahora calcule la probabilidad de seleccionar un 7 o u 8 rojo.\n",
    "\n",
    "    ![green-divider](https://user-images.githubusercontent.com/7065401/52071924-c003ad80-2562-11e9-8297-1c6595f8a7ff.png)"
   ]
  },
  {
   "cell_type": "markdown",
   "metadata": {},
   "source": [
    "*  <b> Tabla de Contingencia: </b>\n",
    "\n",
    "    | Palos\\ Números          | 1 | 2 | 3 | 4 | 5 | 6 | 7 | 8 | 9 | 10 | J | Q | K | Total |\n",
    "    | ----------------------- | - | - | - | - | - | - | - | - | - | - | - | - | - | ----- |\n",
    "    | <b> Rojo </b>          | 2 | 2 | 2 | 2 | 2 | 2 | 2 | 2 | 2 | 2 | 2 | 2 | 2 |   26  |\n",
    "    | <b> Negro </b>    | 2 | 2 | 2 | 2 | 2 | 2 | 2 | 2 | 2 | 2 | 2 | 2 | 2 |   26  |\n",
    "    | <b> Total </b>          | 4 | 4 | 4 | 4 | 4 | 4 | 4 | 4 | 4 | 4 | 4 | 4 | 4 |   52  |"
   ]
  },
  {
   "cell_type": "markdown",
   "metadata": {},
   "source": [
    "<b> Datos </b>:\n",
    "\n",
    "$ S $: 52 cartas.\n",
    "\n",
    "$ N(7 \\lor 8)$: 4 cartas; N(7) = 2 cartas, N(8) = 2 cartas"
   ]
  },
  {
   "cell_type": "markdown",
   "metadata": {},
   "source": [
    "$$ \n",
    "P(7 \\lor 8) = {N(2) \\above{1pt} N(52)} + {N(2) \\above{1pt} N(52)} - 0 \\Rarr P(7 \\lor 8)= 2{N(2) \\above{1pt} N(52)} = {1 \\above{1pt} 13}\n",
    "$$"
   ]
  },
  {
   "cell_type": "code",
   "execution_count": null,
   "metadata": {},
   "outputs": [],
   "source": [
    "a = 2\n",
    "s = 52\n",
    "p = round((2*(a/s)), 2)\n",
    "print(p)"
   ]
  },
  {
   "cell_type": "markdown",
   "metadata": {},
   "source": [
    "*   Crear una funcion que cálcule la probabilidad de que salga un número, y además el usuario pueda establecer el color.\n",
    "\n",
    "    ![green-divider](https://user-images.githubusercontent.com/7065401/52071924-c003ad80-2562-11e9-8297-1c6595f8a7ff.png)"
   ]
  },
  {
   "cell_type": "code",
   "execution_count": null,
   "metadata": {},
   "outputs": [],
   "source": [
    "def propCartas3(num, clr):\n",
    "    \"\"\"Esta función cálcula la probabilidad de obtener en número determinado, para el color específicado.\n",
    "\n",
    "    Args:\n",
    "        num (int, str): Número cura probabilidad se desea conocer.\n",
    "        clr (str): Color del cual será seleccionada la carta.\n",
    "\n",
    "    Returns:\n",
    "        int, str: Probabilidad de que ocurra el evento de interes.\n",
    "    \"\"\"\n",
    "    p = None\n",
    "    nCartas = 52\n",
    "    if (type(num) == int):\n",
    "        if ((num >= 2) and (num <= 10)):\n",
    "            if (clr in ('rojo', 'negro')):\n",
    "                p = round(((2)/(nCartas)), 2)\n",
    "            if not (clr in ('rojo', 'negro')):\n",
    "                p = 'imposible'\n",
    "        else:\n",
    "            p = 'imposible'\n",
    "        return p\n",
    "\n",
    "    if (type(num) == str):    \n",
    "        if (num == 'as'):\n",
    "            if (clr in ('rojo', 'negro')):\n",
    "                p = round(((2)/(nCartas)), 2)\n",
    "            if not (clr in ('rojo', 'negro')):\n",
    "                p = 'imposible'\n",
    "        else:\n",
    "            p = 'imposible'  \n",
    "        return p"
   ]
  },
  {
   "cell_type": "code",
   "execution_count": null,
   "metadata": {},
   "outputs": [],
   "source": [
    "num = 2\n",
    "clr = 'rojo'\n",
    "propNumColor = propCartas3(num, clr)\n",
    "print(f'La probabilidad de obtener un {num} {clr} es {propNumColor}')"
   ]
  },
  {
   "cell_type": "markdown",
   "metadata": {},
   "source": [
    "![green-divider](https://user-images.githubusercontent.com/7065401/52071924-c003ad80-2562-11e9-8297-1c6595f8a7ff.png)"
   ]
  },
  {
   "cell_type": "markdown",
   "metadata": {},
   "source": [
    "# <b> Ejercicio 3 </b>\n",
    "\n",
    "*   La probabilidad de tu país gane el mundial de fútbol. <br>\n",
    "\n",
    "    ![green-divider](https://user-images.githubusercontent.com/7065401/52071924-c003ad80-2562-11e9-8297-1c6595f8a7ff.png)"
   ]
  },
  {
   "cell_type": "markdown",
   "metadata": {},
   "source": [
    "Se trata de un abordaje subjetivo, ya que se podría abordar desde diferentes perspectivas. <br>\n",
    "\n",
    "<b> Recurso: </b>    (https://bit.ly/mundialfutboll)"
   ]
  },
  {
   "cell_type": "markdown",
   "metadata": {},
   "source": [
    "![green-divider](https://user-images.githubusercontent.com/7065401/52071924-c003ad80-2562-11e9-8297-1c6595f8a7ff.png)"
   ]
  },
  {
   "cell_type": "markdown",
   "metadata": {},
   "source": [
    "# <b> Ejercicio 4 </b>\n",
    "\n",
    "*   Un experimento que tiene tres resultados es repetido 50 veces y se ve que E1 aparece 20 veces, E2 13 veces y E3 17 veces. Asigne probabilidades a los resultados. <br>\n",
    "\n",
    "    ![green-divider](https://user-images.githubusercontent.com/7065401/52071924-c003ad80-2562-11e9-8297-1c6595f8a7ff.png)"
   ]
  },
  {
   "cell_type": "markdown",
   "metadata": {},
   "source": [
    "<b> Datos </b>:\n",
    "\n",
    "$ S $: 50 repeticiones totales de los experimientos.\n",
    "\n",
    "*  <b> Tabla de Probabilidades: </b>\n",
    "\n",
    "    | Resultados          | Frecuencias | Probabilidad |\n",
    "    | :-----------------: | :---------: | :----------: |\n",
    "    | <b> E1 </b>         |      20     |   0.4        |\n",
    "    | <b> E2 </b>         |      13     |   0.26       |\n",
    "    | <b> E3 </b>         |      17     |   0.34       |"
   ]
  },
  {
   "cell_type": "markdown",
   "metadata": {},
   "source": [
    "![green-divider](https://user-images.githubusercontent.com/7065401/52071924-c003ad80-2562-11e9-8297-1c6595f8a7ff.png)"
   ]
  },
  {
   "cell_type": "markdown",
   "metadata": {},
   "source": [
    "# <b> Ejercicio 5 </b>\n",
    "\n",
    "*   Si la probabilidad de que un cliente pague en efectivo (E) es 7/15, con tarjeta de crédito (TD) es 8/15. Hallar la probabilidad de que dos clientes sucesivos que pagan sus cuentas lo hagan: <br>\n",
    "\n",
    "    *   El primero en efectivo y el segundo con tarjeta de crédito.\n",
    "    \n",
    "    *   Los dos clientes en efectivo.\n",
    "\n",
    "    ![green-divider](https://user-images.githubusercontent.com/7065401/52071924-c003ad80-2562-11e9-8297-1c6595f8a7ff.png)"
   ]
  },
  {
   "cell_type": "markdown",
   "metadata": {},
   "source": [
    "*  <b> Tabla de Contingencia: </b>\n",
    "\n",
    "    | Clientes\\ Operaciones           | Efectivo | Crédito | Total | \n",
    "    | :----------------------------:  | :------: | :-----: | :---: |\n",
    "    | <b> Clientes 1 </b>             | 1        | 0       | 1     |\n",
    "    | <b> Clientes 2 </b>             | 0        | 1       | 1     |\n",
    "    | <b> Clientes 3 </b>             | 1        | 0       | 1     |\n",
    "    | <b> Clientes 4 </b>             | 0        | 1       | 1     |\n",
    "    | <b> Clientes 5 </b>             | 1        | 0       | 1     |\n",
    "    | <b> Clientes 6 </b>             | 0        | 1       | 1     |\n",
    "    | <b> Clientes 7 </b>             | 1        | 0       | 1     |\n",
    "    | <b> Clientes 8 </b>             | 0        | 1       | 1     |\n",
    "    | <b> Clientes 9 </b>             | 1        | 0       | 1     |\n",
    "    | <b> Clientes 10 </b>            | 0        | 1       | 1     |\n",
    "    | <b> Clientes 11 </b>            | 1        | 0       | 1     |\n",
    "    | <b> Clientes 12 </b>            | 0        | 1       | 1     |\n",
    "    | <b> Clientes 13 </b>            | 1        | 0       | 1     |\n",
    "    | <b> Clientes 14 </b>            | 0        | 1       | 1     |\n",
    "    | <b> Clientes 15 </b>            | 0        | 1       | 1     |\n",
    "    | <b> Total       </b>            | 7        | 8       | 15    |"
   ]
  },
  {
   "cell_type": "markdown",
   "metadata": {},
   "source": [
    "\n",
    "\n",
    "*   El primero en efectivo y el segundo con tarjeta de crédito.\n",
    "    \n",
    "\n",
    "\n",
    "    ![green-divider](https://user-images.githubusercontent.com/7065401/52071924-c003ad80-2562-11e9-8297-1c6595f8a7ff.png)"
   ]
  },
  {
   "cell_type": "markdown",
   "metadata": {},
   "source": [
    "<b> Datos </b>:\n",
    "\n",
    "Sean E y TC eventos independientes.\n",
    "\n",
    "$ S $: 15 Clientes totales recibídos.\n",
    "\n",
    "$ E $: 7 Clientes que pagaron en efectivo.\n",
    "\n",
    "$ TC $: 8 Clientes que pagaron con TC."
   ]
  },
  {
   "cell_type": "markdown",
   "metadata": {},
   "source": [
    "$$\n",
    "P(TC | E) = {P(TC \\bigcap E) \\above{1pt} P(E)}, P(E) \\enspace {=}\\llap{/\\,} \\enspace 0 \\Rarr P(TC \\bigcap E) = P(TC | E)P(E), \\enspace P(TC \\bigcap E) \\Harr P(TC \\land E)\n",
    "$$"
   ]
  },
  {
   "cell_type": "markdown",
   "metadata": {},
   "source": [
    "Para eventos independientes:\n"
   ]
  },
  {
   "cell_type": "markdown",
   "metadata": {},
   "source": [
    "$$\n",
    "P(TC|E) = P(TC)\n",
    "$$\n"
   ]
  },
  {
   "cell_type": "markdown",
   "metadata": {},
   "source": [
    "\n",
    "$$\n",
    "P(TC \\land E) = P(TC)P(E) \\Rarr P(TC \\land E) = \\Bigg({N(TC) \\above{1pt} N(S)} \\Bigg) \\Bigg({N(E) \\above{1pt} N(S)} \\Bigg)\n",
    "$$\n"
   ]
  },
  {
   "cell_type": "markdown",
   "metadata": {},
   "source": [
    "$$ \n",
    "P(TC) = \\Bigg({N(TC) \\above{1pt} N(S)} \\Bigg) \\Rarr P(8) = {N(8) \\above{1pt} N(15)} = {8 \\above{1pt} 15}\n",
    "$$"
   ]
  },
  {
   "cell_type": "markdown",
   "metadata": {},
   "source": [
    "$$ \n",
    "P(E) = \\Bigg({N(E) \\above{1pt} N(S)} \\Bigg) \\Rarr P(7) = {N(7) \\above{1pt} N(15)} = {7 \\above{1pt} 15}\n",
    "$$"
   ]
  },
  {
   "cell_type": "markdown",
   "metadata": {},
   "source": [
    "$$\n",
    "P(TC \\land E) = \\Bigg( {8 \\above{1pt} 16} \\Bigg) \\Bigg( {7 \\above{1pt} 16} \\Bigg)\n",
    "$$"
   ]
  },
  {
   "cell_type": "code",
   "execution_count": 101,
   "metadata": {},
   "outputs": [
    {
     "name": "stdout",
     "output_type": "stream",
     "text": [
      "La probabilidad de que un cliente pague con TC y sucesivamente pague en efectivo es de: 0.25\n"
     ]
    }
   ],
   "source": [
    "s = 15\n",
    "tc = 8\n",
    "e = 7\n",
    "p = round(((tc/s)*(e/s)), 2)\n",
    "print(f'La probabilidad de que un cliente pague con TC y sucesivamente pague en efectivo es de: {p}')"
   ]
  },
  {
   "cell_type": "markdown",
   "metadata": {},
   "source": [
    "\n",
    "\n",
    "*   Los dos clientes en efectivo.\n",
    "    \n",
    "\n",
    "\n",
    "    ![green-divider](https://user-images.githubusercontent.com/7065401/52071924-c003ad80-2562-11e9-8297-1c6595f8a7ff.png)"
   ]
  },
  {
   "cell_type": "markdown",
   "metadata": {},
   "source": [
    "\n",
    "$$\n",
    "P(E \\land E) = P(E)P(E) \\Rarr P(E \\land E) = \\Bigg({N(E) \\above{1pt} N(S)} \\Bigg) \\Bigg({N(E) \\above{1pt} N(S)} \\Bigg) \\Rarr P(E \\land E) = \\Bigg({N(E) \\above{1pt} N(S)} \\Bigg)^2\n",
    "$$\n"
   ]
  },
  {
   "cell_type": "markdown",
   "metadata": {},
   "source": [
    "$$\n",
    "P(E \\land E) = \\Bigg({N(7) \\above{1pt} N(15)} \\Bigg)^2\n",
    "$$"
   ]
  },
  {
   "cell_type": "code",
   "execution_count": 102,
   "metadata": {},
   "outputs": [
    {
     "name": "stdout",
     "output_type": "stream",
     "text": [
      "La probabilidad de que dos clientes paguen en efectivo sucesivamente es de: 0.22\n"
     ]
    }
   ],
   "source": [
    "s = 15\n",
    "tc = 8\n",
    "e = 7\n",
    "p = round(((e/s) ** 2), 2)\n",
    "print(f'La probabilidad de que dos clientes paguen en efectivo sucesivamente es de: {p}')"
   ]
  },
  {
   "cell_type": "markdown",
   "metadata": {},
   "source": [
    "![green-divider](https://user-images.githubusercontent.com/7065401/52071924-c003ad80-2562-11e9-8297-1c6595f8a7ff.png)"
   ]
  },
  {
   "cell_type": "markdown",
   "metadata": {},
   "source": [
    "# <b> Ejercicio 6 </b>\n",
    "\n",
    "*   La probabilidad de que un Henry repruebe el M1 de 0.8, de que apruebe M2 es 0.5 y de que repruebe el M3 es de 0.4. <br>\n",
    "\n",
    "    Determinar la probabilidad de que:\n",
    "\n",
    "    *  Apruebe un módulo.\n",
    "\n",
    "    *  Repruebe las tres materias.\n",
    "\n",
    "    ![green-divider](https://user-images.githubusercontent.com/7065401/52071924-c003ad80-2562-11e9-8297-1c6595f8a7ff.png)"
   ]
  },
  {
   "cell_type": "code",
   "execution_count": null,
   "metadata": {},
   "outputs": [],
   "source": []
  },
  {
   "cell_type": "markdown",
   "metadata": {},
   "source": [
    "$$\n",
    "m = {x_1 + x_2 + ... + x_n \\above{1pt} x_n}\n",
    "$$"
   ]
  }
 ],
 "metadata": {
  "interpreter": {
   "hash": "9bf2ca0f4a7adc3ce2f237ca763c1538d3ef289a4e7face3612a01cdae9f6807"
  },
  "kernelspec": {
   "display_name": "Python 3.10.2 64-bit",
   "language": "python",
   "name": "python3"
  },
  "language_info": {
   "codemirror_mode": {
    "name": "ipython",
    "version": 3
   },
   "file_extension": ".py",
   "mimetype": "text/x-python",
   "name": "python",
   "nbconvert_exporter": "python",
   "pygments_lexer": "ipython3",
   "version": "3.10.2"
  },
  "orig_nbformat": 4
 },
 "nbformat": 4,
 "nbformat_minor": 2
}
