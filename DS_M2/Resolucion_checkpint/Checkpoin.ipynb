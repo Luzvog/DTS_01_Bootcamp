{
 "cells": [
  {
   "cell_type": "markdown",
   "metadata": {},
   "source": [
    "11) En una ciudad, la probabilidad de lluvia cualquier día, es de 0.2, ¿cuál es la probabilidad de que en esa ciudad, llueva durante 2 días seguidos?\n",
    "\n",
    "<b> Respuesta </b>: 0.04"
   ]
  },
  {
   "cell_type": "markdown",
   "metadata": {},
   "source": [
    "12) Si se colocan 5 canicas blancas y 5 canicas negras dentro de un frasco y luego, de manera aleatoria se quitan 2 seguidas ¿Cuál es la probabilidad de que ambas sean blancas?\n",
    "\n",
    "<b> Respuesta </b>: 0.22"
   ]
  },
  {
   "cell_type": "markdown",
   "metadata": {},
   "source": [
    "13) Si se colocan 5 canicas blancas y 5 canicas negras dentro de un frasco y luego, de manera aleatoria se quitan 2 seguidas ¿Cuál es la probabilidad de que ambas sean de un mismo color?\n",
    "\n",
    "<b> Respuesta </b>: 0.44"
   ]
  },
  {
   "cell_type": "markdown",
   "metadata": {},
   "source": [
    "14) Considerando un juego que consiste en acertar a la suma de la tirada de 2 dados, ¿cuál sería el valor de la suma más probable?\n",
    "\n",
    "<b> Respuesta </b>: 7"
   ]
  },
  {
   "cell_type": "markdown",
   "metadata": {},
   "source": [
    "15) En una tramo de una autopista, pasan en promedio 2 camiones cada 5 minutos. ¿Cuál es la probabilidad de que en esos 5 minutos pasen más de 2 camiones?\n",
    "\n",
    "<b> Respuesta </b>: 0.3233"
   ]
  },
  {
   "cell_type": "code",
   "execution_count": 16,
   "metadata": {},
   "outputs": [
    {
     "name": "stdout",
     "output_type": "stream",
     "text": [
      "0.3233\n"
     ]
    }
   ],
   "source": [
    "# Construir una Distribución de Possion\n",
    "\n",
    "from math import e,factorial\n",
    "\n",
    "def probabilidad_poisson(lamba_np,x):\n",
    "    probabilidad = (pow(e,-lamba_np) * pow(lamba_np,x))/factorial(x)\n",
    "    return probabilidad\n",
    "\n",
    "print(round((1 - (round((probabilidad_poisson(lamba_np = (2), x = (0))), 4) + round((probabilidad_poisson(lamba_np = (2), x = (1))), 4) + round((probabilidad_poisson(lamba_np = (2), x = (2))), 4))),4))"
   ]
  }
 ],
 "metadata": {
  "interpreter": {
   "hash": "9bf2ca0f4a7adc3ce2f237ca763c1538d3ef289a4e7face3612a01cdae9f6807"
  },
  "kernelspec": {
   "display_name": "Python 3.10.2 64-bit",
   "language": "python",
   "name": "python3"
  },
  "language_info": {
   "codemirror_mode": {
    "name": "ipython",
    "version": 3
   },
   "file_extension": ".py",
   "mimetype": "text/x-python",
   "name": "python",
   "nbconvert_exporter": "python",
   "pygments_lexer": "ipython3",
   "version": "3.10.2"
  },
  "orig_nbformat": 4
 },
 "nbformat": 4,
 "nbformat_minor": 2
}
