{
 "cells": [
  {
   "cell_type": "markdown",
   "metadata": {},
   "source": [
    "1.- Instrucciones para la configuración del ambiente\n",
    "\n",
    "    sudo apt install -y docker-compose\n",
    "\n",
    "    git clone https://github.com/soyHenry/DS-M4-PgAdmin_Postgres\n",
    "\n",
    "    cd DS-M4-PgAdmin_Postgres\n",
    "    \n",
    "    sudo docker-compose up -d\n",
    "\n",
    "    sudo docker cp clase-05.sql pgadmin_container:/home/clase-05.sql\n",
    "\n",
    "    Conectarse a PgAdmin en “:5050”\n",
    "\n",
    "    Agregar un nuevo servidor:\n",
    "\n",
    "    Host name/address: postgres\n",
    "\n",
    "    Port: 5432\n",
    "\n",
    "    Username: postgres\n",
    "    Password: changeme"
   ]
  }
 ],
 "metadata": {
  "language_info": {
   "name": "python"
  },
  "orig_nbformat": 4
 },
 "nbformat": 4,
 "nbformat_minor": 2
}
