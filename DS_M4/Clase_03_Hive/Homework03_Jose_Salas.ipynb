{
 "cells": [
  {
   "cell_type": "markdown",
   "metadata": {},
   "source": [
    "El namenode es el nodo maestro, al acceder a su contenedor puedo visualizar el directorio desde el cual el hue esta administrando los datos\n",
    "\n",
    "sudo docker exec -it <id del contenedor> bash\n",
    "\n",
    "las tablas manager al ser eliminadas eliminan los archivos fuente y el directorio del cual sacaron esos archivos\n",
    "\n",
    "Por lo general se utilizan tablas de tipo external para evitar tocar los datos fuentes\n"
   ]
  }
 ],
 "metadata": {
  "language_info": {
   "name": "python"
  },
  "orig_nbformat": 4
 },
 "nbformat": 4,
 "nbformat_minor": 2
}
