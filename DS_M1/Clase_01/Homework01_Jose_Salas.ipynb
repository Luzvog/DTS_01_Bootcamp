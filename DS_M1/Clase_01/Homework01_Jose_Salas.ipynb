{
 "cells": [
  {
   "cell_type": "markdown",
   "metadata": {},
   "source": [
    "![purple-divider](https://user-images.githubusercontent.com/7065401/52071927-c1cd7100-2562-11e9-908a-dde91ba14e59.png)\n",
    "\n",
    "# <b> Práctica Clase 1 </b> <br>\n",
    "## <b> Ejercicio </b>\n",
    "<b>1. </b> Crear una función capaz de convertir números enteros de base 10 a base 2. Debe recibir como parámetro el número a convertir<br>\n",
    "Consideraciones:\n",
    "* Tratar de resolverlo sin usar la función format(nro,\"b\"). <br>\n",
    "* El pdf \"conversion-de-decimal-a-binario.pdf\" puede servir de ayuda. "
   ]
  },
  {
   "cell_type": "code",
   "execution_count": 6,
   "metadata": {},
   "outputs": [],
   "source": [
    "def NumeroBinario(numero):\n",
    "    '''\n",
    "    Esta función recibe como parámetro un número entero mayor ó igual a cero y lo devuelve en su \n",
    "    representación binaria. Debe recibir y devolver un valor de tipo entero.\n",
    "    En caso de que el parámetro no sea de tipo entero y mayor a -1 retorna nulo.\n",
    "    '''\n",
    "    #import math\n",
    "    if (type(numero) != int):\n",
    "        print(\"Debe introducior un número entero\")\n",
    "        return None\n",
    "    if (numero < 0):\n",
    "        print(\"El número debe ser positivo\")\n",
    "        return None\n",
    "    if (numero > 0):\n",
    "        num = numero\n",
    "        bin = \"\"\n",
    "        while (num > 0 ):\n",
    "            if (num % 2 == 0):\n",
    "                bin = \"0\" + bin \n",
    "                #print(bin)\n",
    "            else:\n",
    "                bin = \"1\" + bin\n",
    "                #print(bin)\n",
    "            #print(num)\n",
    "            #num = int(math.floor(num // 2))\n",
    "            num = int(num // 2)\n",
    "    elif (numero == 0):\n",
    "        bin = \"0\"\n",
    "    bin = int(bin)\n",
    "    #print(bin)   \n",
    "    return bin\n"
   ]
  },
  {
   "cell_type": "code",
   "execution_count": 9,
   "metadata": {},
   "outputs": [
    {
     "data": {
      "text/plain": [
       "100"
      ]
     },
     "execution_count": 9,
     "metadata": {},
     "output_type": "execute_result"
    }
   ],
   "source": [
    "NumeroBinario(4)"
   ]
  },
  {
   "cell_type": "markdown",
   "metadata": {},
   "source": [
    "![purple-divider](https://user-images.githubusercontent.com/7065401/52071927-c1cd7100-2562-11e9-908a-dde91ba14e59.png)\n",
    "\n",
    "# <b> Resolución </b>\n",
    "<b>1. </b> Dividir el número de manera sistemática hasta que sea igual a cero (0).<br>\n",
    "* Puedo utilizar un bucle para realizar tal acción.<br>\n",
    "* Debo controlar la reducción de la variable que opera en el bucle y la comprobación de las condiciones de manera simultánea. \n",
    "\n",
    "<b>2. </b> Mediante el método de divisiones sistemáticas, en cada operación se debe comprar que `x % 2 == 0` o `x % 2 == 1`. Cada resiltado corresponde a un dígito en binario, que conformara el número final.\n",
    "\n",
    "<b>3. </b> Al culminar la divisiones, los residuos de todas las operaciones se deben ordenar de derecha a izquierda.<br>\n",
    "* Los resultados de estas operaciones se deben guardar en una nueva variable, de tipo cadena para poder concatenarlos. <br>\n",
    "* Según el procedimiento los resultados se deben ordenar de dereca a izquierda, para ello `bin = \"0\" o \"1\" + bin` (los resultados se van concatenando a la izquierda del primer termino, el primer termino queda al final de la cadena y el ultimo al princípio `orden de derecha a izquierda`).\n"
   ]
  },
  {
   "cell_type": "markdown",
   "metadata": {},
   "source": [
    "![purple-divider](https://user-images.githubusercontent.com/7065401/52071927-c1cd7100-2562-11e9-908a-dde91ba14e59.png)\n",
    "\n",
    "# __Vocabulario__\n",
    "Función math.floor()\n",
    "\n",
    "![green-divider](https://user-images.githubusercontent.com/7065401/52071924-c003ad80-2562-11e9-8297-1c6595f8a7ff.png)\n",
    "\n",
    "## __Descripción y Uso__\n",
    "\n",
    "Redondea el número por defecto al entero más cercano, en caso de ser necesario y retorna el resultado. Se debe importar de módulo maht\n",
    "\n",
    "<b>Nota</b>: Para redondear por exceso al entero más cercano se puede aplicar la función: `math.ceil()`\n",
    "\n",
    "![green-divider](https://user-images.githubusercontent.com/7065401/52071924-c003ad80-2562-11e9-8297-1c6595f8a7ff.png)\n",
    "\n",
    "## __Sintaxis__\n",
    "\n",
    "`math.floor(x)`\n",
    "\n",
    "![green-divider](https://user-images.githubusercontent.com/7065401/52071924-c003ad80-2562-11e9-8297-1c6595f8a7ff.png)\n",
    "\n",
    "## __Parametros__\n",
    "| Parametro        | Descripción                                 |\n",
    "| ---------------- | ------------------------------------------- |\n",
    "| x                | Requerido: Especifíca el número a redondear |\n",
    "\n",
    "![purple-divider](https://user-images.githubusercontent.com/7065401/52071927-c1cd7100-2562-11e9-908a-dde91ba14e59.png)"
   ]
  },
  {
   "cell_type": "code",
   "execution_count": 10,
   "metadata": {},
   "outputs": [
    {
     "data": {
      "text/plain": [
       "11101"
      ]
     },
     "execution_count": 10,
     "metadata": {},
     "output_type": "execute_result"
    }
   ],
   "source": [
    "#Ejemplo:\n",
    "NumeroBinario(29)"
   ]
  },
  {
   "cell_type": "markdown",
   "metadata": {},
   "source": [
    "![purple-divider](https://user-images.githubusercontent.com/7065401/52071927-c1cd7100-2562-11e9-908a-dde91ba14e59.png)\n",
    "\n",
    "## <b> Ejercicio </b>\n",
    "<b>2. </b> Convertir de decimal a binario las fracciones 1/2, 1/3, 1/4, 1/5, 1/6, 1/7, 1/8, 1/9. Luego analizar los resultados y observar qué particularidad se encuentra en los mismos. Se puede usar Python o una calculadora, lo importante es ver si hay algo que podemos notar... <br>\n",
    "<b><u>Salida esperada:<br></u></b>\n",
    "* Fraccion 1 / 2 :  0.5  y En binario:  0.1<br>\n",
    "* Fraccion 1 / 3 :  0.3333333333333333  y En binario:  0.010101010101010101010101<br>\n",
    "* Fraccion 1 / 4 :  0.25  y En binario:  0.01<br>\n",
    "* Fraccion 1 / 5 :  0.2  y En binario:  0.001100110011001100110011<br>\n",
    "* Fraccion 1 / 6 :  0.16666666666666666  y En binario:  0.001010101010101010101010<br>\n",
    "* Fraccion 1 / 7 :  0.14285714285714285  y En binario:  0.001001001001001001001001<br>\n",
    "* Fraccion 1 / 8 :  0.125  y En binario:  0.001<br>\n",
    "* Fraccion 1 / 9 :  0.1111111111111111  y En binario:  0.000111000111000111000111<br>"
   ]
  },
  {
   "cell_type": "markdown",
   "metadata": {},
   "source": [
    "![purple-divider](https://user-images.githubusercontent.com/7065401/52071927-c1cd7100-2562-11e9-908a-dde91ba14e59.png)\n",
    "\n",
    "# <b> Resolución </b>\n",
    "<b>1. </b> xxx <br>\n",
    "* xxx<br>\n",
    "* xxx \n",
    "\n",
    "<b>2. </b> xxx\n",
    "\n",
    "<b>3. </b> xxx <br>\n",
    "* xxx <br>\n",
    "* xxx"
   ]
  }
 ],
 "metadata": {
  "interpreter": {
   "hash": "c85384e4cb51c8b72350f3a8712cc8351fdc3955e32a27f9b60c6242ab125f01"
  },
  "kernelspec": {
   "display_name": "Python 3.9.7 ('henry')",
   "language": "python",
   "name": "python3"
  },
  "language_info": {
   "codemirror_mode": {
    "name": "ipython",
    "version": 3
   },
   "file_extension": ".py",
   "mimetype": "text/x-python",
   "name": "python",
   "nbconvert_exporter": "python",
   "pygments_lexer": "ipython3",
   "version": "3.10.2"
  },
  "orig_nbformat": 4
 },
 "nbformat": 4,
 "nbformat_minor": 2
}
