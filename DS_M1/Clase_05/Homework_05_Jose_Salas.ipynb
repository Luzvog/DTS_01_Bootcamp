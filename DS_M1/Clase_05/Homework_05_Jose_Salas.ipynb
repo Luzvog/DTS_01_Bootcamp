{
 "cells": [
  {
   "cell_type": "markdown",
   "metadata": {},
   "source": [
    "![purple-divider](https://user-images.githubusercontent.com/7065401/52071927-c1cd7100-2562-11e9-908a-dde91ba14e59.png)\n",
    "\n",
    "# <b> Práctica Clase 5 </b> <br>"
   ]
  },
  {
   "cell_type": "markdown",
   "metadata": {},
   "source": [
    "## <b> Ejercicio 1</b>\n",
    "\n",
    "*   Ítems a resolver:\n",
    "\n",
    "1)  Implementar un juego, que consista en apilar números enteros del 1 al 20, de forma aleatoria, para lo cual debe usarse una estructura de Pila. <br> \n",
    "    1.1)   Luego, el usuario debe elegir un número de veces en que se va a quitar elementos de la pila, los cuales, sumados entre sí, no deben superar el valor de 50. <br>\n",
    "    1.2)   El usuario pierde si la suma supera ese valor. Si no lo supera, gana, pero su calificación será 10 menos el número elementos que falten quitar para todavía no superar 50. <br>\n",
    "    1.3)   El programa debe informar si perdió, y si ganó, con qué calificación lo hizo. <br>\n",
    "\n",
    "*   Consideraciones:<br>\n",
    "\n",
    "    1)  Se puede usar la función input() para obtener una entrada de teclado.<br>\n",
    "    2)  Se puede usar la el modulo random para obtener valores aleatorios.\n",
    "\n",
    "![green-divider](https://user-images.githubusercontent.com/7065401/52071924-c003ad80-2562-11e9-8297-1c6595f8a7ff.png)"
   ]
  },
  {
   "cell_type": "markdown",
   "metadata": {},
   "source": [
    "### <b> Resolución </b>"
   ]
  },
  {
   "cell_type": "markdown",
   "metadata": {},
   "source": [
    "1)  Implementar un juego, que consista en apilar números enteros del 1 al 20, de forma aleatoria, para lo cual debe usarse una estructura de Pila. <br>\n",
    "\n",
    "    ![green-divider](https://user-images.githubusercontent.com/7065401/52071924-c003ad80-2562-11e9-8297-1c6595f8a7ff.png)"
   ]
  },
  {
   "cell_type": "code",
   "execution_count": null,
   "metadata": {},
   "outputs": [],
   "source": [
    "import random as rd "
   ]
  },
  {
   "cell_type": "code",
   "execution_count": null,
   "metadata": {},
   "outputs": [],
   "source": [
    "class JuegoPilas(object):\n",
    "    def __init__(self):\n",
    "        self.__list = []\n",
    "    \n",
    "    def CrearPila(self):\n",
    "        self.__list = list(range(1, 21))\n",
    "\n",
    "    def jugar(self):\n",
    "        self.CrearPila()\n",
    "        self.__DesordenarPilaAleatorio()\n",
    "        calificacion = 10\n",
    "        nro = 20\n",
    "        ListaEsperados = ['1', '2', '3', '4', '5', '6', '7', '8', '9', '10', '11', '12', '13', '14', '15', '16', '17', '18', '19']\n",
    "        while (nro > 19):\n",
    "            nro = input('Ingresar la cantidad de elementos:')\n",
    "            if (nro not in ListaEsperados):\n",
    "                nro = 20\n",
    "            else:\n",
    "                nro = int(nro)\n",
    "        print('Pila Original:')\n",
    "        self.__MostrarPila()\n",
    "        suma = 0\n",
    "        while (nro > 0):\n",
    "            suma += self.__pop()\n",
    "            nro -= 1\n",
    "        print('Pila Obtenida:')\n",
    "        self.__MostrarPila()\n",
    "        nro = self.__size()\n",
    "        print('Con esa cantidad de elementos se sumó', suma)\n",
    "        if (suma > 50):\n",
    "            print('No se cumplió el objetivo')\n",
    "        else:\n",
    "            while (suma <= 50):\n",
    "                suma += self.__pop()\n",
    "                if (suma <= 50):\n",
    "                    calificacion -= 1\n",
    "            print('Objetivo cumplido!!! Calificacion:', calificacion)\n",
    "\n",
    "    def __DesordenarPilaAleatorio(self):\n",
    "        for i in range(0, 20):\n",
    "            aux = self.__list[i]\n",
    "            i_rand = rd.randint(0,19)\n",
    "            self.__list[i] = self.__list[i_rand]\n",
    "            self.__list[i_rand] = aux\n",
    "\n",
    "    def __MostrarPila(self):\n",
    "        print(self.__list)\n",
    "\n",
    "    def __pop(self):\n",
    "        return self.__list.pop()\n",
    "\n",
    "    def __size(self):\n",
    "        return len(self.__list)\n",
    "\n",
    "\n",
    "\n",
    "\n",
    "\n"
   ]
  },
  {
   "cell_type": "code",
   "execution_count": null,
   "metadata": {},
   "outputs": [],
   "source": [
    "j = JuegoPilas()"
   ]
  },
  {
   "cell_type": "code",
   "execution_count": null,
   "metadata": {},
   "outputs": [],
   "source": [
    "j.jugar()"
   ]
  },
  {
   "cell_type": "markdown",
   "metadata": {},
   "source": [
    "## <b> Ejercicio 2</b>\n",
    "\n",
    "*   Ítems a resolver:\n",
    "\n",
    "1) Implementar un juego donde constas de 2 jarras, de capacidad 5 y 3 litros respectivamente, y debes colocar 4 litros en la jarra de 5L. <br> \n",
    "\n",
    "*   Las opciones posibles son: <br>\n",
    "\n",
    "    1)  Llenar la jarra de 3 litros. <br>\n",
    "    2)  Llenar la jarra de 5 litros. <br>\n",
    "    3)  Vaciar la jarra de 3 litros. <br>\n",
    "    4)  Vaciar la jarra de 5 litros. <br>\n",
    "    5)  Verter el contenido de la jarra de 3 litros en la de 5 litros. <br>\n",
    "    6)  Verter el contenido de la jarra de 5 litros en la de 3 litros\n",
    "\n",
    "![green-divider](https://user-images.githubusercontent.com/7065401/52071924-c003ad80-2562-11e9-8297-1c6595f8a7ff.png)"
   ]
  },
  {
   "cell_type": "code",
   "execution_count": 44,
   "metadata": {},
   "outputs": [],
   "source": [
    "from os import system\n",
    "\n",
    "class Jarras:\n",
    "\n",
    "    # Atributos:\n",
    "    def __init__(self):\n",
    "        self.jarra3 = 0\n",
    "        self.jarra5 = 0       \n",
    "\n",
    "    # Métodos:\n",
    "    def LLenarJarra3(self):\n",
    "        self.jarra3 = 3\n",
    "    \n",
    "    def LLenarJarra5(self):\n",
    "        self.jarra5 = 5\n",
    "    \n",
    "    def VaciarJarra3(self):\n",
    "        self.jarra3 = 0\n",
    "    \n",
    "    def VaciarJarra5(self):\n",
    "        self.jarra5 = 0\n",
    "\n",
    "    def PasarJarra3a5(self):\n",
    "        CapacidadDisponible = 5 - self.jarra5\n",
    "        self.jarra5 = self.jarra3 + self.jarra5\n",
    "        if (self.jarra5 > 5):\n",
    "            self.jarra5 = 5\n",
    "        if (CapacidadDisponible < 3):\n",
    "            self.jarra3 = self.jarra3 - CapacidadDisponible\n",
    "        else:\n",
    "            self.jarra3 = 0   \n",
    "\n",
    "    def PasarJarra5a3(self):\n",
    "        CapacidadDisponible = 3 - self.jarra3\n",
    "        self.jarra3 = self.jarra5 + self.jarra3\n",
    "        if (self.jarra3 > 3):\n",
    "            self.jarra3 = 3\n",
    "        self.jarra5 = self.jarra5 - CapacidadDisponible\n",
    "\n",
    "    def ConsultarCapacidad(self):\n",
    "        gano = False\n",
    "        if (self.jarra5 == 4):\n",
    "            gano = True\n",
    "        return gano\n",
    "\n",
    "    def capacidades(self):\n",
    "        i = 0\n",
    "        CapacidadDisponible3 = 3 - self.jarra3\n",
    "        print('Jarra 3________________________________')\n",
    "        while (i < 3):\n",
    "            if (i < CapacidadDisponible3):\n",
    "                print('Capacidad Disponible', '[     ]')\n",
    "            else:\n",
    "                print('Capacidad Ocupada   ', '[-----]')\n",
    "            i += 1\n",
    "        print('\\n')\n",
    "\n",
    "        i = 0\n",
    "        CapacidadDisponible5 = 5 - self.jarra5\n",
    "        print('Jarra 5________________________________')\n",
    "        while (i < 5):\n",
    "            if (i < CapacidadDisponible5):\n",
    "                print('Capacidad Disponible', '[     ]')\n",
    "            else:\n",
    "                print('Capacidad Ocupada   ', '[-----]')\n",
    "            i += 1\n",
    "        print('\\n')\n",
    "    \n",
    "    # Métodos de interface de usuario:\n",
    "    def MostrarComandos():\n",
    "        print('Menú de Comandos')\n",
    "        print('1. Llenar la jarra de 3 litros.')\n",
    "        print('2. Llenar la jarra de 5 litros.')\n",
    "        print('3. Vaciar la jarra de 3 litros.')\n",
    "        print('4. Vaciar la jarra de 5 litros.')\n",
    "        print('5. Verter el contenido de la jarra de 3 litros en la de 5 litros.')\n",
    "        print('6. Verter el contenido de la jarra de 5 litros en la de 3 litros')\n",
    "        print('7. Cerrar Juego')\n",
    "        print('8. Ayuda')\n",
    "        print('\\n')\n",
    "\n"
   ]
  },
  {
   "cell_type": "code",
   "execution_count": null,
   "metadata": {},
   "outputs": [],
   "source": [
    "# Instanciamiento de la clase:\n",
    "JuegoJarras = Jarras\n",
    "\n",
    "# Interface de usuario.\n",
    "DetenerJuego = False    \n",
    "while (DetenerJuego == False):\n",
    "    print('Capacidades actuales de las jarras')\n",
    "    JuegoJarras.capacidades()\n",
    "    JuegoJarras.MostrarComandos()\n",
    "    comandos = ['1', '2', '3', '4', '5', '6', '7', '8']\n",
    "    print('Ingrece Comando :')\n",
    "    comando = input()\n",
    "    ctrl = False\n",
    "    while (ctrl == False):\n",
    "        if (comando in  comandos):\n",
    "            ctrl = True\n",
    "            if (comando == '1'):\n",
    "                JuegoJarras.LLenarJarra3()\n",
    "            if (comando == '2'):\n",
    "                JuegoJarras.LLenarJarra5()\n",
    "            if (comando == '3'):\n",
    "                JuegoJarras.VaciarJarra3()\n",
    "            if (comando == '4'):\n",
    "                JuegoJarras.VaciarJarra5()\n",
    "            if (comando == '5'):\n",
    "                JuegoJarras.PasarJarra3a5()\n",
    "            if (comando == '6'):\n",
    "                JuegoJarras.PasarJarra5a3()\n",
    "            if (comando == '7'):\n",
    "                DetenerJuego = True\n",
    "            if (comando == '8'):\n",
    "                print('>>>OBJETIVO<<<', '\\n')\n",
    "                print('El juego donde constas de 2 jarras, de capacidad 5 y 3 litros respectivamente, y debes colocar 4 litros en la jarra de 5L.')\n",
    "                print('--------------------------------------------------------------------------------------------------------------------------', '\\n')\n",
    "        else:\n",
    "            print('Ingrece Comando: ', '\\n')\n",
    "            comando = input()            \n",
    "    \n",
    "    ganador = JuegoJarras.ConsultarCapacidad()\n",
    "    if (ganador == True):\n",
    "        print('>>>GANASTE<<<', '\\n')\n",
    "        print('Capacidades actuales de las jarras', '\\n')\n",
    "        JuegoJarras.capacidades()\n",
    "        DetenerJuego = True\n",
    "\n"
   ]
  },
  {
   "cell_type": "code",
   "execution_count": 54,
   "metadata": {},
   "outputs": [
    {
     "name": "stdout",
     "output_type": "stream",
     "text": [
      "0\n",
      "3\n"
     ]
    }
   ],
   "source": [
    "jarra3 = 3\n",
    "jarra5 = 0\n",
    "\n",
    "# Verter jarra 3 en jarra 5\n",
    "CapacidadDisponible = 5 - jarra5\n",
    "jarra5 = jarra3 + jarra5\n",
    "if (jarra5 > 5):\n",
    "    jarra5 = 5\n",
    "if (CapacidadDisponible < 3):\n",
    "    jarra3 = jarra3 - CapacidadDisponible\n",
    "else:\n",
    "    jarra3 = 0\n",
    "\n",
    "print(jarra3)\n",
    "print(jarra5)"
   ]
  },
  {
   "cell_type": "code",
   "execution_count": 55,
   "metadata": {},
   "outputs": [
    {
     "name": "stdout",
     "output_type": "stream",
     "text": [
      "3\n",
      "3\n"
     ]
    }
   ],
   "source": [
    "jarra3 = 1\n",
    "jarra5 = 5\n",
    "\n",
    "# Verter jarra 5 en jarra 3\n",
    "CapacidadDisponible = 3 - jarra3\n",
    "jarra3 = jarra5 + jarra3\n",
    "if (jarra3 > 3):\n",
    "    jarra3 = 3\n",
    "jarra5 = jarra5 - CapacidadDisponible\n",
    "\n",
    "print(jarra3)\n",
    "print(jarra5)"
   ]
  }
 ],
 "metadata": {
  "kernelspec": {
   "display_name": "Python 3",
   "language": "python",
   "name": "python3"
  },
  "language_info": {
   "codemirror_mode": {
    "name": "ipython",
    "version": 3
   },
   "file_extension": ".py",
   "mimetype": "text/x-python",
   "name": "python",
   "nbconvert_exporter": "python",
   "pygments_lexer": "ipython3",
   "version": "3.10.2"
  }
 },
 "nbformat": 4,
 "nbformat_minor": 4
}
