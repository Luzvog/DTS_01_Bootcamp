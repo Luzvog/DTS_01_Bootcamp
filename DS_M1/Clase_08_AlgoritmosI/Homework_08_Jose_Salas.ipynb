{
 "cells": [
  {
   "cell_type": "markdown",
   "metadata": {},
   "source": [
    "![purple-divider](https://user-images.githubusercontent.com/7065401/52071927-c1cd7100-2562-11e9-908a-dde91ba14e59.png)\n",
    "\n",
    "# <b> Práctica Clase 8 </b> <br>"
   ]
  },
  {
   "cell_type": "markdown",
   "metadata": {},
   "source": [
    "## <b> Ejercicio 1</b>\n",
    "\n",
    "*   Ítems a resolver:\n",
    "\n",
    "    1)  Dada la función provista 'ListaDesordenada' implementar los algoritmos de ordenamiento vistos en clase: \n",
    "\n",
    "        *   Selección. <br>\n",
    "\n",
    "        *   Burbuja. <br>\n",
    "\n",
    "\n",
    "![green-divider](https://user-images.githubusercontent.com/7065401/52071924-c003ad80-2562-11e9-8297-1c6595f8a7ff.png)"
   ]
  },
  {
   "cell_type": "code",
   "execution_count": 4,
   "metadata": {},
   "outputs": [],
   "source": [
    "def ListaDesordenada(desorden, cantidad):\n",
    "    '''\n",
    "    Esta función devuelve una lista\n",
    "    desorden = es un porcentaje de desordenamiento\n",
    "    cantidad = cantidad de elementos de la lista\n",
    "    '''\n",
    "    import random as r\n",
    "    import numpy as np\n",
    "\n",
    "    lista = list(range(0, cantidad))\n",
    "\n",
    "    desorden = int(cantidad * desorden / 100)\n",
    "\n",
    "    while (desorden > 0):\n",
    "        i = r.randint(0,cantidad-1)\n",
    "        j = r.randint(0,cantidad-1)\n",
    "        aux = lista[i]\n",
    "        lista[i] = lista[j]\n",
    "        lista[j] = aux\n",
    "        desorden-=1\n",
    "\n",
    "    return lista"
   ]
  },
  {
   "cell_type": "code",
   "execution_count": 15,
   "metadata": {},
   "outputs": [],
   "source": [
    "list1 = ListaDesordenada(90, 20) #Lista de 20 elementos un 90% desordenada"
   ]
  },
  {
   "cell_type": "code",
   "execution_count": 38,
   "metadata": {},
   "outputs": [],
   "source": [
    "list2 = ListaDesordenada(50, 20) #Lista de 20 elementos un 50% desordenada"
   ]
  },
  {
   "cell_type": "code",
   "execution_count": null,
   "metadata": {},
   "outputs": [],
   "source": [
    "list3 = ListaDesordenada(0, 20) #Lista de 20 elementos un 0% desordenada"
   ]
  },
  {
   "cell_type": "markdown",
   "metadata": {},
   "source": [
    "### <b> Resolución </b>"
   ]
  },
  {
   "cell_type": "markdown",
   "metadata": {},
   "source": [
    "1)  Dada la función provista 'ListaDesordenada' implementar los algoritmos de ordenamiento vistos en clase:\n",
    "\n",
    "    *   Selección. <br>\n",
    "\n",
    "    ![green-divider](https://user-images.githubusercontent.com/7065401/52071924-c003ad80-2562-11e9-8297-1c6595f8a7ff.png)"
   ]
  },
  {
   "cell_type": "code",
   "execution_count": 21,
   "metadata": {},
   "outputs": [],
   "source": [
    "def ord_por_seleccion(lista):\n",
    "    # Tu código acá:\n",
    "    for i in range(len(lista)):\n",
    "        MinInd = i\n",
    "        for j in range((i + 1), len(lista)):\n",
    "            if ((lista[j]) < (lista[MinInd])):\n",
    "                MinInd = j\n",
    "        (lista[i], lista[MinInd]) = (lista[MinInd], lista[i])\n",
    "        #print(list1[i], end = ' ')\n",
    "    return lista"
   ]
  },
  {
   "cell_type": "code",
   "execution_count": 22,
   "metadata": {},
   "outputs": [
    {
     "name": "stdout",
     "output_type": "stream",
     "text": [
      "[12, 16, 2, 4, 11, 14, 8, 7, 6, 15, 0, 1, 10, 19, 13, 17, 18, 9, 3, 5]\n"
     ]
    }
   ],
   "source": [
    "lis = ListaDesordenada(100, 20)\n",
    "print(lis)"
   ]
  },
  {
   "cell_type": "code",
   "execution_count": 23,
   "metadata": {},
   "outputs": [
    {
     "name": "stdout",
     "output_type": "stream",
     "text": [
      "[0, 1, 2, 3, 4, 5, 6, 7, 8, 9, 10, 11, 12, 13, 14, 15, 16, 17, 18, 19]\n"
     ]
    }
   ],
   "source": [
    "lst = ord_por_seleccion(lis)\n",
    "print(lst)"
   ]
  },
  {
   "cell_type": "markdown",
   "metadata": {},
   "source": [
    "1)  Dada la función provista 'ListaDesordenada' implementar los algoritmos de ordenamiento vistos en clase:\n",
    "\n",
    "    *   Burbujeo. <br>\n",
    "\n",
    "    ![green-divider](https://user-images.githubusercontent.com/7065401/52071924-c003ad80-2562-11e9-8297-1c6595f8a7ff.png)"
   ]
  },
  {
   "cell_type": "code",
   "execution_count": 39,
   "metadata": {},
   "outputs": [
    {
     "name": "stdout",
     "output_type": "stream",
     "text": [
      "[0, 13, 2, 10, 4, 5, 8, 7, 6, 18, 3, 11, 12, 1, 14, 15, 16, 17, 9, 19]\n"
     ]
    }
   ],
   "source": [
    "print(list2)"
   ]
  },
  {
   "cell_type": "code",
   "execution_count": 40,
   "metadata": {},
   "outputs": [
    {
     "name": "stdout",
     "output_type": "stream",
     "text": [
      "[0, 13, 2, 10, 4, 5, 8, 7, 6, 18, 3, 11, 12, 1, 14, 15, 16, 17, 9, 19]\n"
     ]
    }
   ],
   "source": [
    "# Recorro la lista:\n",
    "tope = len(list2)\n",
    "for i in range(tope - 1):\n",
    "    # Comparo con el siguiente elementos:\n",
    "    switch = False # Variable de control que activará el break \n",
    "    # para salir de ciclo cuando ocurra un intercambio en los valores \n",
    "    for j in range(tope - 1 - i):\n",
    "        #condición para hacer el cambio:\n",
    "        if ((list2[j]) > (list2[j + 1])):\n",
    "            aux = list2[j]\n",
    "            list2[j] = list2[j + 1]\n",
    "            list2[j + 1] = aux\n",
    "            switch = True\n",
    "        if (not switch):\n",
    "            break\n",
    "print(list2)\n"
   ]
  },
  {
   "cell_type": "code",
   "execution_count": null,
   "metadata": {},
   "outputs": [],
   "source": [
    "def ord_por_burbujeo(lista):\n",
    "    # Tu código acá:\n",
    "    return lista"
   ]
  },
  {
   "cell_type": "code",
   "execution_count": null,
   "metadata": {},
   "outputs": [],
   "source": [
    "lis = ListaDesordenada(100, 20)\n",
    "print(lis)"
   ]
  },
  {
   "cell_type": "code",
   "execution_count": null,
   "metadata": {},
   "outputs": [],
   "source": [
    "ord_por_burbujeo(lis)"
   ]
  },
  {
   "cell_type": "markdown",
   "metadata": {},
   "source": [
    "2) Para las siguientes instancias, probar el tiempo de duración del ordenamiento de cada uno de los métodos"
   ]
  },
  {
   "cell_type": "code",
   "execution_count": null,
   "metadata": {},
   "outputs": [],
   "source": [
    "import time"
   ]
  },
  {
   "cell_type": "code",
   "execution_count": null,
   "metadata": {},
   "outputs": [],
   "source": [
    "start_time_total = time.time()\n",
    "total_time_total = time.time() - start_time_total\n",
    "print(\"Llevo {} segundos en total.\".format(total_time_total))"
   ]
  },
  {
   "cell_type": "code",
   "execution_count": null,
   "metadata": {},
   "outputs": [],
   "source": [
    "N = 10000"
   ]
  },
  {
   "cell_type": "code",
   "execution_count": null,
   "metadata": {},
   "outputs": [],
   "source": [
    "lis1 = ListaDesordenada(100, N)\n",
    "lis2 = lis1.copy()"
   ]
  },
  {
   "cell_type": "code",
   "execution_count": null,
   "metadata": {},
   "outputs": [],
   "source": [
    "id(lis1)"
   ]
  },
  {
   "cell_type": "code",
   "execution_count": null,
   "metadata": {},
   "outputs": [],
   "source": [
    "id(lis2)"
   ]
  },
  {
   "cell_type": "code",
   "execution_count": null,
   "metadata": {},
   "outputs": [],
   "source": [
    "start_time_total = time.time()\n",
    "lis1 = ord_por_burbujeo(lis1)\n",
    "total_time_total = time.time() - start_time_total\n",
    "print(\"Llevo {} segundos en total.\".format(total_time_total))"
   ]
  },
  {
   "cell_type": "code",
   "execution_count": null,
   "metadata": {},
   "outputs": [],
   "source": [
    "start_time_total = time.time()\n",
    "lis2 = ord_por_seleccion(lis2)\n",
    "total_time_total = time.time() - start_time_total\n",
    "print(\"Llevo {} segundos en total.\".format(total_time_total))"
   ]
  },
  {
   "cell_type": "code",
   "execution_count": null,
   "metadata": {},
   "outputs": [],
   "source": [
    "lis1 = ListaDesordenada(50, N)\n",
    "lis2 = lis1.copy()"
   ]
  },
  {
   "cell_type": "code",
   "execution_count": null,
   "metadata": {},
   "outputs": [],
   "source": [
    "start_time_total = time.time()\n",
    "lis1 = ord_por_burbujeo(lis1)\n",
    "total_time_total = time.time() - start_time_total\n",
    "print(\"Llevo {} segundos en total.\".format(total_time_total))"
   ]
  },
  {
   "cell_type": "code",
   "execution_count": null,
   "metadata": {},
   "outputs": [],
   "source": [
    "start_time_total = time.time()\n",
    "lis2 = ord_por_seleccion(lis2)\n",
    "total_time_total = time.time() - start_time_total\n",
    "print(\"Llevo {} segundos en total.\".format(total_time_total))"
   ]
  },
  {
   "cell_type": "code",
   "execution_count": null,
   "metadata": {},
   "outputs": [],
   "source": [
    "lis1 = ListaDesordenada(0, N)\n",
    "lis2 = lis1.copy()"
   ]
  },
  {
   "cell_type": "code",
   "execution_count": null,
   "metadata": {},
   "outputs": [],
   "source": [
    "start_time_total = time.time()\n",
    "lis1 = ord_por_burbujeo(lis1)\n",
    "total_time_total = time.time() - start_time_total\n",
    "print(\"Llevo {} segundos en total.\".format(total_time_total))"
   ]
  },
  {
   "cell_type": "code",
   "execution_count": null,
   "metadata": {},
   "outputs": [],
   "source": [
    "start_time_total = time.time()\n",
    "lis2 = ord_por_seleccion(lis2)\n",
    "total_time_total = time.time() - start_time_total\n",
    "print(\"Llevo {} segundos en total.\".format(total_time_total))"
   ]
  }
 ],
 "metadata": {
  "kernelspec": {
   "display_name": "Python 3",
   "language": "python",
   "name": "python3"
  },
  "language_info": {
   "codemirror_mode": {
    "name": "ipython",
    "version": 3
   },
   "file_extension": ".py",
   "mimetype": "text/x-python",
   "name": "python",
   "nbconvert_exporter": "python",
   "pygments_lexer": "ipython3",
   "version": "3.10.2"
  }
 },
 "nbformat": 4,
 "nbformat_minor": 4
}
