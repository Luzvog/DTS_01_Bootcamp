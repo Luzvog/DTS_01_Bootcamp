{
 "cells": [
  {
   "cell_type": "markdown",
   "metadata": {},
   "source": [
    "![purple-divider](https://user-images.githubusercontent.com/7065401/52071927-c1cd7100-2562-11e9-908a-dde91ba14e59.png)\n",
    "\n",
    "# <b> Práctica Clase 2 </b> <br>\n",
    "\n"
   ]
  },
  {
   "cell_type": "markdown",
   "metadata": {},
   "source": [
    "## <b> Ejercicio 1</b>\n",
    "Abrir el archivo \"Emisiones_CO2.csv\" y cargar sus datos en un diccionario.\n",
    "\n",
    "![green-divider](https://user-images.githubusercontent.com/7065401/52071924-c003ad80-2562-11e9-8297-1c6595f8a7ff.png)"
   ]
  },
  {
   "cell_type": "markdown",
   "metadata": {},
   "source": [
    "### <b> Procedimiento para el tratamiento de archivos <i>Comma Separated Values</i> (CSV: Datos separados por Comas) </b>\n"
   ]
  },
  {
   "cell_type": "markdown",
   "metadata": {},
   "source": [
    "\n",
    "<b>1. Importar la librería csv </b>  <br>\n",
    "```python\n",
    "import csv\n",
    "```\n",
    "<b>2. Abrir el archivo csv <br> </b> \n",
    "* El método `open()` es utilizado en Python para abrir archivos y retornar un <i>objeto de tipo archivo</i> <br>\n",
    "```python\n",
    "file = open('Salary_Data.csv')\n",
    "```\n",
    "El tipo de archivo es `_io.TextIOWrapper` el cual es el <i>objeto tipo archivo </i> retornado por el método open().<br>\n",
    "\n",
    "<b>3. Usar el <i>csv.reader object</i> para leer el archivo csv <br> </b>\n",
    "```python\n",
    "csvreader = csv.reader(file)\n",
    "```\n",
    "<b>4. Extraer el nombre de los archivos <br> </b>\n",
    "* Crea una lista vacía llamada <i> header </i>. Aplicar el método `next()` para obtener el encabezado. <br>\n",
    "* El método `next()` devuelve la columna actual y se mueve hacia la sigueinte.\n",
    "* En la primera iteración (el método `next()`) devuelve el encabezado y la segunda vez devuelve el primer registro y así sucesivamente.\n",
    "```python\n",
    "header = []\n",
    "header = next(csvreader)\n",
    "header\n",
    "['YearsExperience', 'Salary']\n",
    "```\n",
    "<b>5. Extraer los columnas/registros <br> </b>\n",
    "* Crea una lista vacía llamada <i> rows </i> e itera a través de <i> csvreader object </i> y anexa cada columna la lista de columnas <br>\n",
    "```python\n",
    "rows = []\n",
    "for row in csvreader:\n",
    "    rows.append(row)\n",
    "rows\n",
    "```\n",
    "<b>6. Cerrar el archivo <br> </b>\n",
    "* El método `.close()` es utilizado para cerrar el archivo abierto. Una vez cerrado, no podremos llevar a cabo ninguna otra operación sobre el.\n",
    "```python\n",
    "file.close()\n",
    "```\n",
    "<b>Código Completo </b>  <br>\n",
    "```python\n",
    "import csv\n",
    "file = open(\"Salary_Data.csv\")\n",
    "csvreader = csv.reader(file)\n",
    "header = next(csvreader)\n",
    "print(header)\n",
    "rows = []\n",
    "for row in csvreader:\n",
    "    rows.append(row)\n",
    "print(rows)\n",
    "file.close()\n",
    "```\n",
    "<b> Uso de la sentencia `with()` </b>  <br>\n",
    "\n",
    "La sentancia `with()` brinda la flexibilidad de evitar el llamado del método `close()` para cerrar el archivo, ya que, lo cierra y evita la corrupcción del archivo por mala manupulación, asociadas a la ausencia de la instrucción.\n",
    "```python\n",
    "import csv\n",
    "rows = []\n",
    "with open(\"Salary_Data.csv\", 'r) as file:\n",
    "    csvreader = csv.reader(file)\n",
    "    header = next(csvreader)\n",
    "    for row in csvreader:\n",
    "        rows.append(row)\n",
    "print(header)\n",
    "```\n",
    "<b> Uso del método `readlines()` </b>  <br>\n",
    "\n",
    "El método `readlines()` devuelve como una lista todas las líneas en un archivo. Cada ítem de la lista sera una columna en el archivo csv.<br>\n",
    "La primera columna del <i> file.readlines </i> corresponden a los encabezados y el resto de ellas a los registros.<br>\n",
    "```python\n",
    "with open('Salary_Data.csv') as file:\n",
    "    content = file.readlines()\n",
    "header = content[:1]\n",
    "rows = content[1:]\n",
    "print(header)\n",
    "print(rows)\n",
    "```\n",
    "<b>Nota</b>: La n en las salidas puede ser removida usando el método `strip()`.\n"
   ]
  },
  {
   "cell_type": "markdown",
   "metadata": {},
   "source": [
    "![purple-divider](https://user-images.githubusercontent.com/7065401/52071927-c1cd7100-2562-11e9-908a-dde91ba14e59.png)\n",
    "\n",
    "### __Vocabulario__\n",
    "| open() | next() | .close() | .readlines() | .strip() |\n",
    "| ------ | ------ | -------- | ------------ | -------- |\n",
    "\n",
    "![green-divider](https://user-images.githubusercontent.com/7065401/52071924-c003ad80-2562-11e9-8297-1c6595f8a7ff.png)\n"
   ]
  },
  {
   "cell_type": "markdown",
   "metadata": {},
   "source": [
    "#### <b> Función open() </b>\n"
   ]
  },
  {
   "cell_type": "markdown",
   "metadata": {},
   "source": [
    "\n",
    "##### <b> Descripción y Uso </b>\n",
    "\n",
    "Abre un archivo y lo e imprime su contenido, dicho de otro modo, devuelve el archivo como un <i> file object </i>.\n",
    "\n",
    "![green-divider](https://user-images.githubusercontent.com/7065401/52071924-c003ad80-2562-11e9-8297-1c6595f8a7ff.png)\n",
    "\n",
    "##### <b> Sintaxis </b>\n",
    "\n",
    "`open(archivo, modo)`\n",
    "\n",
    "| Variable | Tipo  |\n",
    "| :------: | :---: |\n",
    "| archivo  | str   |\n",
    "| modo     | str   |\n",
    "\n",
    "![green-divider](https://user-images.githubusercontent.com/7065401/52071924-c003ad80-2562-11e9-8297-1c6595f8a7ff.png)\n",
    "\n",
    "##### <b> Parametros </b>\n",
    "| <b> Parametro </b>       | <b> Descripción </b>                                                                              |\n",
    "| ------------------------ | ------------------------------------------------------------------------------------------------- |\n",
    "| <b> archivo </b>         | La ruta y el nombre del archivo                                                                   |\n",
    "| <b> modo       </b>      | Una instrucción que define el modo en el cual se quiere abrir el archivo                          |\n",
    "| <b> modo = 'r' </b>      | Leactura: Valor por defecto. Abre el archivo para lectura, devuelve error si el archivo no existe |\n",
    "| <b> modo = 'a' </b>      | Anexo: Abre el archivo para anexarlo, crea un archivo en caso de que este no exista               |\n",
    "| <b> modo = 'w' </b>      | Escritura: Abre el archivo para escritura, crea un archivo en caso de que este no exista          |\n",
    "| <b> modo = 'x' </b>      | Crear: Crea el archivo especificado, retorna un error si el archivo existe                        |\n",
    "| <b> modo = 't' </b>      | Texto: Valor por defecto. Modo texto                                                              |\n",
    "| <b> modo = 'b' </b>      | Binario: Modo binario                                                                             |\n",
    "\n",
    "\n",
    "![green-divider](https://user-images.githubusercontent.com/7065401/52071924-c003ad80-2562-11e9-8297-1c6595f8a7ff.png)\n"
   ]
  },
  {
   "cell_type": "markdown",
   "metadata": {},
   "source": [
    "#### <b> Función next() </b>\n"
   ]
  },
  {
   "cell_type": "markdown",
   "metadata": {},
   "source": [
    "\n",
    "##### <b> Descripción y Uso </b>\n",
    "\n",
    "Devuelve el siguiente ítem como un iterador. Se puede especificar un valor por defecto, el cual será devuelto por la función una vez alcanzado el último elemento del iterable.\n",
    "\n",
    "![green-divider](https://user-images.githubusercontent.com/7065401/52071924-c003ad80-2562-11e9-8297-1c6595f8a7ff.png)\n",
    "\n",
    "##### <b> Sintaxis </b>\n",
    "\n",
    "`next(iterable, PorDefecto)`\n",
    "\n",
    "| Variable       | Tipo                                       |\n",
    "| :------------: | :----------------------------------------: |\n",
    "| iterable       | str, list, dicc, touple (objeto iterable)  |\n",
    "| PorDefecto     | str, list, dicc, touple, bool              |\n",
    "\n",
    "![green-divider](https://user-images.githubusercontent.com/7065401/52071924-c003ad80-2562-11e9-8297-1c6595f8a7ff.png)\n",
    "\n",
    "##### <b> Parametros </b>\n",
    "| <b> Parametro </b>       | <b> Descripción </b>                                                                              |\n",
    "| ------------------------ | ------------------------------------------------------------------------------------------------- |\n",
    "| <b> iterable </b>        | Requerido: Un objeto iterable                                                                     |\n",
    "| <b> PorDefecto </b>      | Opcional: Un valor por defecto que es devuelto cuando se alcanza el último elemento del iterable  |\n",
    "\n",
    "![green-divider](https://user-images.githubusercontent.com/7065401/52071924-c003ad80-2562-11e9-8297-1c6595f8a7ff.png)\n"
   ]
  },
  {
   "cell_type": "markdown",
   "metadata": {},
   "source": [
    "#### <b> Método .close() </b>\n"
   ]
  },
  {
   "cell_type": "markdown",
   "metadata": {},
   "source": [
    "\n",
    "##### <b> Descripción y Uso </b>\n",
    "\n",
    "Cierra un archivo abierto.\n",
    "\n",
    "<b>Nota</b>: Siempre se deben cerrar los archivos abiertos, ya que debido al <i> buffering </i>, los cambios realizados al archivo pueden no mostrarse hasta que se haya cerrado.\n",
    "\n",
    "![green-divider](https://user-images.githubusercontent.com/7065401/52071924-c003ad80-2562-11e9-8297-1c6595f8a7ff.png)\n",
    "\n",
    "##### <b> Sintaxis </b>\n",
    "\n",
    "`file.close()`\n",
    "\n",
    "![green-divider](https://user-images.githubusercontent.com/7065401/52071924-c003ad80-2562-11e9-8297-1c6595f8a7ff.png)\n",
    "\n",
    "##### <b> Parametros </b>\n",
    "* No hay parametros adicionales.\n",
    "\n",
    "![green-divider](https://user-images.githubusercontent.com/7065401/52071924-c003ad80-2562-11e9-8297-1c6595f8a7ff.png)"
   ]
  },
  {
   "cell_type": "markdown",
   "metadata": {},
   "source": [
    "#### <b> Método .readlines() </b>"
   ]
  },
  {
   "cell_type": "markdown",
   "metadata": {},
   "source": [
    "##### <b> Descripción y Uso </b>\n",
    "\n",
    "Devuelve una lista la cual contiene cada línea del archivo como un ítem de la lista.\n",
    "\n",
    "<b>Nota</b>: Utiliza el parametro <b> tope </b> para limitar el número de líneas mostradas. En caso de que el número total de bytes exceda el número especificado, no se leeran más líneas.\n",
    "\n",
    "![green-divider](https://user-images.githubusercontent.com/7065401/52071924-c003ad80-2562-11e9-8297-1c6595f8a7ff.png)\n",
    "\n",
    "##### <b> Sintaxis </b>\n",
    "\n",
    "`file.readlines(tope)`\n",
    "\n",
    "| Variable       | Tipo |\n",
    "| :------------: | :--: |\n",
    "| tope           | int  |\n",
    "\n",
    "![green-divider](https://user-images.githubusercontent.com/7065401/52071924-c003ad80-2562-11e9-8297-1c6595f8a7ff.png)\n",
    "\n",
    "##### <b> Parametros </b>\n",
    "\n",
    "| <b> Parametro </b>       | <b> Descripción </b>                                                                                |\n",
    "| ------------------------ | -------------------------------------------------------------------------------------------------   |\n",
    "| <b> tope </b>            | Opcional: En caso de que el número total de bytes exceda el número especificado, no se leeran más   |\n",
    "|                          | líneas. El valor por defecto es -1, lo que implica que serán devueltas todas las líneas del archivo.|\n",
    "\n",
    "![green-divider](https://user-images.githubusercontent.com/7065401/52071924-c003ad80-2562-11e9-8297-1c6595f8a7ff.png)"
   ]
  },
  {
   "cell_type": "markdown",
   "metadata": {},
   "source": [
    "#### <b> Método .strip() </b>"
   ]
  },
  {
   "cell_type": "markdown",
   "metadata": {},
   "source": [
    "##### <b> Descripción y Uso </b>\n",
    "\n",
    "Remueve cualquier caracter (incluyendo espacios) al inicio y al final de la cadena de texto.\n",
    "\n",
    "![green-divider](https://user-images.githubusercontent.com/7065401/52071924-c003ad80-2562-11e9-8297-1c6595f8a7ff.png)\n",
    "\n",
    "##### <b> Sintaxis </b>\n",
    "\n",
    "`string.strip(caracter)`\n",
    "\n",
    "| Variable       | Tipo |\n",
    "| :------------: | :--: |\n",
    "| caracter       | str  |\n",
    "\n",
    "![green-divider](https://user-images.githubusercontent.com/7065401/52071924-c003ad80-2562-11e9-8297-1c6595f8a7ff.png)\n",
    "\n",
    "##### <b> Parametros </b>\n",
    "\n",
    "| <b> Parametro </b>       | <b> Descripción </b>                                                                                |\n",
    "| ------------------------ | -------------------------------------------------------------------------------------------------   |\n",
    "| <b> tope </b>            | Opcional: Se epecifica el caracter objetivo a ser removido al inicio/ final de la cadena de texto   |\n",
    "\n",
    "![green-divider](https://user-images.githubusercontent.com/7065401/52071924-c003ad80-2562-11e9-8297-1c6595f8a7ff.png)"
   ]
  },
  {
   "cell_type": "markdown",
   "metadata": {},
   "source": [
    "![purple-divider](https://user-images.githubusercontent.com/7065401/52071927-c1cd7100-2562-11e9-908a-dde91ba14e59.png)\n",
    "\n",
    "### <b> Resolución </b>\n"
   ]
  },
  {
   "cell_type": "code",
   "execution_count": 31,
   "metadata": {},
   "outputs": [],
   "source": [
    "\n",
    "dicc_emisiones = {  'cod_pais' : [],\n",
    "                    'nom_pais' : [],\n",
    "                    'region' : [],\n",
    "                    'anio' : [],\n",
    "                    'co2' : [],\n",
    "                    'co2_percapita' : []}"
   ]
  },
  {
   "cell_type": "code",
   "execution_count": 32,
   "metadata": {},
   "outputs": [],
   "source": [
    "import os\n",
    "with open('Emisiones_CO2.csv', 'r') as file: \n",
    "    emcabezados = True\n",
    "    for linea in file:\n",
    "        if (not emcabezados):\n",
    "            campos = linea.split(sep='|')\n",
    "            dicc_emisiones['cod_pais'].append(campos[0])\n",
    "            dicc_emisiones['nom_pais'].append(campos[1])\n",
    "            dicc_emisiones['region'].append(campos[2])\n",
    "            dicc_emisiones['anio'].append(campos[3])\n",
    "            dicc_emisiones['co2'].append(campos[4])\n",
    "            dicc_emisiones['co2_percapita'].append(campos[5])\n",
    "        else:\n",
    "            emcabezados = False\n"
   ]
  },
  {
   "cell_type": "code",
   "execution_count": null,
   "metadata": {},
   "outputs": [],
   "source": [
    "print(dicc_emisiones)"
   ]
  },
  {
   "cell_type": "markdown",
   "metadata": {},
   "source": [
    "### __Vocabulario__\n",
    "\n",
    "```Python \n",
    "if (not (\"condición\")): \n",
    "\n",
    "```\n",
    "![green-divider](https://user-images.githubusercontent.com/7065401/52071924-c003ad80-2562-11e9-8297-1c6595f8a7ff.png)\n",
    "\n",
    "##### <b> Descripción y Uso </b>\n",
    "\n",
    "La declaración `if not` hace lo contrario de la declaración `if`. Prueba si una condición es falsa y luego ejecuta algunas declaraciones.\n",
    "\n",
    "El uso de la declaración `if not` mejora la legibilidad del código y puede ejecutar directamente algunas declaraciones para las condiciones que devuelven `False`.\n",
    "\n",
    "Similar a la instrucción `if`, puede tener múltiples condiciones, y también podemos usarla con la palabra clave else para crear bloques `if not-else`.\n",
    "\n",
    "La declaración `if not` también se puede utilizar para comprobar si una colección de datos como una lista, un diccionario está vacío o no. En Python, si una variable u objeto es 0 o está vacío, se considera falso. En este caso:\n",
    "\n",
    "```Python\n",
    "encabezados = True\n",
    "for linea in file:\n",
    "    if (not emcabezados):\n",
    "        print(\"imprimir cuerpo del archivo\")\n",
    "    else:\n",
    "        print(\"el archivo tiene encabezados\")\n",
    "        encabezados = False\n",
    "```\n",
    "\n",
    "El resultado al iniciar el bucle será, el archivo tiene encabezados, ya que la afitmación es verdaera, por lo tanto, entra con `else` luego  `encabezados = False` y al iniciar la segunda y demas iteraciones al combrobar que la condición es falsa ejecita el código.\n",
    "\n",
    "<b> Primer Iteración </b>\n",
    "```Python\n",
    "'el archivo tiene encabezados'\n",
    "```\n",
    "<b> Segunda Iteración </b>\n",
    "```Python\n",
    "'imprimir cuerpo del archivo'\n",
    "```\n",
    "\n",
    "![green-divider](https://user-images.githubusercontent.com/7065401/52071924-c003ad80-2562-11e9-8297-1c6595f8a7ff.png)\n",
    "\n",
    "#### <b> Nota: </B>\n",
    "* El objeto `file` es un iterable y cada iterador corresponde a una línea del documento, el objeto extie en el kernel luego de llamar a la función, sin embarbo, no podemos acceder a el directamente con un <i> print statement </i>. <br>\n",
    "\n",
    "* Si se pretende generar una lista a partir de los elementos del objeto file, se tendra una lista de lsita, ya que cada línea será tomada una lista y no como un elemento en si.\n",
    "\n",
    "* El método `.redline()` no es el más adecuado en este caso, ya que convierte cada iterador en un elemento de lista, la lista resultante es inmanejable.\n",
    "\n",
    "\n",
    "![purple-divider](https://user-images.githubusercontent.com/7065401/52071927-c1cd7100-2562-11e9-908a-dde91ba14e59.png)\n"
   ]
  },
  {
   "cell_type": "markdown",
   "metadata": {},
   "source": [
    "![purple-divider](https://user-images.githubusercontent.com/7065401/52071927-c1cd7100-2562-11e9-908a-dde91ba14e59.png)\n",
    "\n",
    "## <b> Ejercicio 2</b>\n",
    "a) ¿Cuántas variables hay? <br>\n",
    "b) ¿Qué tipos de datos usar para cada una? <br>\n",
    "c) ¿Qué tipo de variables son? <br>\n",
    "d) ¿Hay valores faltantes? <br>\n",
    "e) ¿Cuál es el total de emisiones de CO2 para 'América Latina y Caribe' en el año 2010?\n",
    "\n",
    "![green-divider](https://user-images.githubusercontent.com/7065401/52071924-c003ad80-2562-11e9-8297-1c6595f8a7ff.png)"
   ]
  },
  {
   "cell_type": "code",
   "execution_count": null,
   "metadata": {},
   "outputs": [],
   "source": []
  },
  {
   "cell_type": "markdown",
   "metadata": {},
   "source": [
    "![purple-divider](https://user-images.githubusercontent.com/7065401/52071927-c1cd7100-2562-11e9-908a-dde91ba14e59.png)\n",
    "\n",
    "## <b> Ejercicio 3</b>\n",
    "Generar una función que reciba como parámetro un diccionario, cuyas listas de valores tienen el mismo tamaño y sus elementos enésimos están asociados. Y otros dos parámetros que indican la clave por la cual debe ordenarse y si es descendente o ascendente.\n",
    "La función debe devolver el diccionario ordenado, teniendo en cuenta de no perder la relación entre los elementos enésimos.<br>\n",
    "Recibe tres argumentos:<br>\n",
    "\n",
    "        diccionario:    Diccionario a ordenar\n",
    "        clave:          Clave del diccionario recibido, por la cual ordenar\n",
    "        descendente:    Un valor booleano, que al ser falso indica ordenamiento descendente y \n",
    "                        ascendente si es verdadero. \n",
    "                        Debe tratarse de un parámetro por defecto en True\n",
    "Si el parámetro diccionario no es un tipo de dato diccionario ó el parámetro clave no se encuentra dentro de las claves del diccionario, debe devolver nulo.<br>\n",
    "Ejemplo:<br>\n",
    "    \n",
    "        dicc = {'clave1':['c','a','b'],\n",
    "                'clave2':['casa','auto','barco'],\n",
    "                'clave3':[3,1,2]}\n",
    "        OrdenarDiccionario(dicc, 'clave1')          debe retornar {'clave1':['a','b','c'],\n",
    "                                                                'clave2':['auto','barco','casa'],\n",
    "                                                                'clave3':[1,2,3]}\n",
    "        OrdenarDiccionario(dicc, 'clave3', False)   debe retornar {'clave1':['c','b','a'],\n",
    "                                                                'clave2':['casa','barco','auto'],\n",
    "                                                                'clave3':[3,2,1]}\n",
    "\n",
    "                        \n",
    "![green-divider](https://user-images.githubusercontent.com/7065401/52071924-c003ad80-2562-11e9-8297-1c6595f8a7ff.png)"
   ]
  },
  {
   "cell_type": "code",
   "execution_count": 2,
   "metadata": {},
   "outputs": [],
   "source": [
    "# Diccionario para usar de ejemplo:\n",
    "dicc = {'color':['gris','negra','celeste'],\n",
    "                'tipo':['auto','moto','barco'],\n",
    "                'numero':[1,2,3]}"
   ]
  }
 ],
 "metadata": {
  "interpreter": {
   "hash": "c85384e4cb51c8b72350f3a8712cc8351fdc3955e32a27f9b60c6242ab125f01"
  },
  "kernelspec": {
   "display_name": "Python 3.9.7 ('henry')",
   "language": "python",
   "name": "python3"
  },
  "language_info": {
   "codemirror_mode": {
    "name": "ipython",
    "version": 3
   },
   "file_extension": ".py",
   "mimetype": "text/x-python",
   "name": "python",
   "nbconvert_exporter": "python",
   "pygments_lexer": "ipython3",
   "version": "3.10.2"
  },
  "orig_nbformat": 4
 },
 "nbformat": 4,
 "nbformat_minor": 2
}
