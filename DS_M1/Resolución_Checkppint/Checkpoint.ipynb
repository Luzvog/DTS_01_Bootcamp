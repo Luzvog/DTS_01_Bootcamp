{
 "cells": [
  {
   "cell_type": "code",
   "execution_count": 1,
   "metadata": {},
   "outputs": [],
   "source": [
    "import pandas as pd\n",
    "import numpy as np"
   ]
  },
  {
   "cell_type": "markdown",
   "metadata": {},
   "source": [
    "<b> Ejercicio 1 </b> "
   ]
  },
  {
   "cell_type": "code",
   "execution_count": 2,
   "metadata": {},
   "outputs": [],
   "source": [
    "def Ret_Pregunta01():\n",
    "    '''\n",
    "    Debes utilizar Pandas para ingestar en un objeto Dataframe el contenido del archivo provisto \n",
    "    \"Fuentes_Consumo_Energia.csv\".\n",
    "    Esta función debe informar la cantidad de registros retornando ese valor en un dato de tipo entero.\n",
    "    '''\n",
    "    #Tu código aca:\n",
    "    EnergyConsumptionDF = pd.read_csv('Fuentes_Consumo_Energia.csv')\n",
    "    filas, columnas = EnergyConsumptionDF.shape\n",
    "    registros = int(filas)\n",
    "    \n",
    "    return registros"
   ]
  },
  {
   "cell_type": "code",
   "execution_count": 3,
   "metadata": {},
   "outputs": [
    {
     "name": "stdout",
     "output_type": "stream",
     "text": [
      "Ret_Pregunta01:  5190 <class 'int'>\n"
     ]
    }
   ],
   "source": [
    "Respuesta1 = Ret_Pregunta01()\n",
    "print('Ret_Pregunta01: ',Respuesta1, end = ' ')\n",
    "print(type(Respuesta1))"
   ]
  },
  {
   "cell_type": "markdown",
   "metadata": {},
   "source": [
    "___"
   ]
  },
  {
   "cell_type": "markdown",
   "metadata": {},
   "source": [
    "<b> Ejercicio 2 </b> "
   ]
  },
  {
   "cell_type": "code",
   "execution_count": 4,
   "metadata": {},
   "outputs": [],
   "source": [
    "def Ret_Pregunta02():\n",
    "    '''\n",
    "    Debes utilizar Pandas para ingestar en un objeto Dataframe el contenido del archivo provisto \n",
    "    \"Fuentes_Consumo_Energia.csv\".\n",
    "    Esta función debe eliminar la columna 'Code' y luego informar la cantidad de columnas\n",
    "    retornando ese valor en un dato de tipo entero.\n",
    "    '''\n",
    "    #Tu código aca:\n",
    "    EnergyConsumptionDF = pd.read_csv('Fuentes_Consumo_Energia.csv')\n",
    "    filas, columnas = (EnergyConsumptionDF.drop(columns='Code')).shape\n",
    "    columnas = int(columnas)\n",
    "    return columnas\n"
   ]
  },
  {
   "cell_type": "code",
   "execution_count": 5,
   "metadata": {},
   "outputs": [
    {
     "name": "stdout",
     "output_type": "stream",
     "text": [
      "Ret_Pregunta01:  10 <class 'int'>\n"
     ]
    }
   ],
   "source": [
    "Respuesta2 = Ret_Pregunta02()\n",
    "print('Ret_Pregunta01: ',Respuesta2, end = ' ')\n",
    "print(type(Respuesta2))"
   ]
  },
  {
   "cell_type": "markdown",
   "metadata": {},
   "source": [
    "___"
   ]
  },
  {
   "cell_type": "markdown",
   "metadata": {},
   "source": [
    "<b> Ejercicio 3 </b> "
   ]
  },
  {
   "cell_type": "code",
   "execution_count": 6,
   "metadata": {},
   "outputs": [],
   "source": [
    "\n",
    "def Ret_Pregunta03():\n",
    "    '''\n",
    "    Debes utilizar Pandas para ingestar en un objeto Dataframe el contenido del archivo provisto \n",
    "    \"Fuentes_Consumo_Energia.csv\".\n",
    "    Esta función debe informar la cantidad de registros sin tener en cuenta aquellos con valores faltantes\n",
    "    retornando ese valor en un dato de tipo entero.\n",
    "    '''\n",
    "    #Tu código aca:\n",
    "    EnergyConsumptionDF = pd.read_csv('Fuentes_Consumo_Energia.csv')\n",
    "    filas1, columnas1 = EnergyConsumptionDF.shape\n",
    "    filas1 = int(filas1)\n",
    "    NulVal = (EnergyConsumptionDF.drop(columns='Code')).isnull().any(1).sum()\n",
    "    NulVal = int(NulVal)\n",
    "    NonNullVal = (filas1 - NulVal)\n",
    "    \n",
    "    return NonNullVal"
   ]
  },
  {
   "cell_type": "code",
   "execution_count": 7,
   "metadata": {},
   "outputs": [
    {
     "name": "stdout",
     "output_type": "stream",
     "text": [
      "Ret_Pregunta03:  5109 <class 'int'>\n"
     ]
    }
   ],
   "source": [
    "Respuesta3 = Ret_Pregunta03()\n",
    "print('Ret_Pregunta03: ',Respuesta3, end = ' ')\n",
    "print(type(Respuesta3))"
   ]
  },
  {
   "cell_type": "markdown",
   "metadata": {},
   "source": [
    "___\n"
   ]
  },
  {
   "cell_type": "markdown",
   "metadata": {},
   "source": [
    "<b> Ejercicio 4 </b> "
   ]
  },
  {
   "cell_type": "code",
   "execution_count": 8,
   "metadata": {},
   "outputs": [],
   "source": [
    "def Ret_Pregunta04():\n",
    "    '''\n",
    "    Debes utilizar Pandas para ingestar en un objeto Dataframe el contenido del archivo provisto \n",
    "    \"Fuentes_Consumo_Energia.csv\".\n",
    "    El ExaJulio es una unidad diferentes al TWh, es decir, no tiene sentido sumarlos o \n",
    "    buscar proporciones entre ellos, la fórmula de conversión es:\n",
    "    277.778 Teravatios/Hora (TWh) = 1 Exajulio\n",
    "    Los campos terminados en \"_EJ\" corresponden a mediciones en Exajulios, \n",
    "    y los terminados en \"_TWh\" corresponden a Teravatios/Hora.\n",
    "    La consigna es crear un nuevo campo, que se denomine \"Consumo_Total\" \n",
    "    y que guarde la sumatoria de todos los consumos expresados en Exajulios (convirtiendo a\n",
    "    esta medida los que están en Teravatios/Hora)\n",
    "    Esta función debe informar el consumo total para la entidad 'World' y año '2019', \n",
    "    redondeado a 2 decimales, retornando ese valor en un dato de tipo float.\n",
    "    '''\n",
    "    #Tu código aca:\n",
    "    def ConvertaTWh(Ej):\n",
    "        TWh = round((277.778 * Ej), 5)\n",
    "        return TWh\n",
    "\n",
    "    EnergyConsumptionDF1 = pd.read_csv('Fuentes_Consumo_Energia.csv')\n",
    "    EnergyConsumptionDF2 = EnergyConsumptionDF1.loc[:, ['Entity', 'Year', 'Coal_Consumption_EJ', 'Gas_Consumption_EJ', 'Geo_Biomass_Other_TWh', 'Hydro_Generation_TWh', 'Nuclear_Generation_TWh', 'Solar_Generation_TWh', 'Wind_Generation_TWh', 'Oil_Consumption_EJ']]\n",
    "    EnergyConsumptionDF2[['Coal_Consumption_EJ','Gas_Consumption_EJ', 'Oil_Consumption_EJ']] = EnergyConsumptionDF2[['Coal_Consumption_EJ','Gas_Consumption_EJ', 'Oil_Consumption_EJ']].apply(ConvertaTWh, )\n",
    "    EnergyConsumptionDF2 = EnergyConsumptionDF2.rename(columns={ 'Coal_Consumption_EJ':'Coal_Consumption_TWh', 'Gas_Consumption_EJ':'Gas_Consumption_TWh', 'Oil_Consumption_EJ':'Oil_Consumption_TWh'})\n",
    "    filtro = (EnergyConsumptionDF2.Entity.isin(['World'])) & (EnergyConsumptionDF2[\"Year\"]==2019)\n",
    "    suma = EnergyConsumptionDF2[filtro]\n",
    "    suma = suma.loc[ : ,['Coal_Consumption_TWh', 'Gas_Consumption_TWh', 'Geo_Biomass_Other_TWh', 'Hydro_Generation_TWh', 'Nuclear_Generation_TWh', 'Solar_Generation_TWh', 'Wind_Generation_TWh', 'Oil_Consumption_TWh']]\n",
    "    suma['Consumo_Total'] = suma.sum(axis = 1)\n",
    "    ConsumoTotal = round(float(suma['Consumo_Total']), 2)\n",
    "\n",
    "    return ConsumoTotal"
   ]
  },
  {
   "cell_type": "code",
   "execution_count": 9,
   "metadata": {},
   "outputs": [
    {
     "name": "stdout",
     "output_type": "stream",
     "text": [
      "Ret_Pregunta05:  146585.3 <class 'float'>\n"
     ]
    }
   ],
   "source": [
    "Respuesta4 = Ret_Pregunta04()\n",
    "print('Ret_Pregunta05: ',Respuesta4, end = ' ')\n",
    "print(type(Respuesta4))"
   ]
  },
  {
   "cell_type": "markdown",
   "metadata": {},
   "source": [
    "___"
   ]
  },
  {
   "cell_type": "markdown",
   "metadata": {},
   "source": [
    "<b> Ejercicio 5 </b>"
   ]
  },
  {
   "cell_type": "code",
   "execution_count": 10,
   "metadata": {},
   "outputs": [],
   "source": [
    "def Ret_Pregunta05():\n",
    "    '''\n",
    "    Debes utilizar Pandas para ingestar en un objeto Dataframe el contenido del archivo provisto \n",
    "    \"Fuentes_Consumo_Energia.csv\".\n",
    "    Esta función debe informar el año de mayor generación de energía solar (Solar_Generation_TWh) \n",
    "    para la entidad 'Europe' retornando ese valor en un dato de tipo entero.\n",
    "    '''\n",
    "    #Tu código aca:\n",
    "    EnergyConsumptionDF = pd.read_csv('Fuentes_Consumo_Energia.csv')\n",
    "    EnergyConsumptionDF = EnergyConsumptionDF.drop(columns='Code')\n",
    "    InEurope = EnergyConsumptionDF['Entity'] == 'Europe'\n",
    "    EuropeSolarGeneration = EnergyConsumptionDF[InEurope]\n",
    "    MaxYar = EuropeSolarGeneration.loc[EuropeSolarGeneration.Solar_Generation_TWh.idxmax()]['Year']\n",
    "    return MaxYar"
   ]
  },
  {
   "cell_type": "code",
   "execution_count": 11,
   "metadata": {},
   "outputs": [
    {
     "name": "stdout",
     "output_type": "stream",
     "text": [
      "Ret_Pregunta05:  2019 <class 'numpy.int64'>\n"
     ]
    }
   ],
   "source": [
    "Respuesta5 = Ret_Pregunta05()\n",
    "print('Ret_Pregunta05: ',Respuesta5, end = ' ')\n",
    "print(type(Respuesta5))"
   ]
  },
  {
   "cell_type": "markdown",
   "metadata": {},
   "source": [
    "<b> Ejercicio 6 </b>\n"
   ]
  },
  {
   "cell_type": "code",
   "execution_count": 12,
   "metadata": {},
   "outputs": [],
   "source": [
    "def Ret_Pregunta06(m1, m2):\n",
    "    '''\n",
    "    Esta función recibe dos array de Numpy de 2 dimensiones cada uno, y devuelve el valor booleano\n",
    "    True si es posible realizar una multiplicación entre ambas matrices, \n",
    "    y el valor booleano False si no lo es\n",
    "    Ej:\n",
    "        n1 = np.array([[0,0,0],[1,1,1],[2,2,2]])\n",
    "        n2 = np.array([[3,3],[4,4],[5,5]])\n",
    "        print(Ret_Pregunta06(n1,n2))\n",
    "            True            -> Valor devuelto por la función en este ejemplo\n",
    "        print(Ret_Pregunta06(n2,n1))\n",
    "            False            -> Valor devuelto por la función en este ejemplo\n",
    "    '''\n",
    "    #Tu código aca:\n",
    "    filas1, columnas1 = m1.shape\n",
    "    filas2, columnas2 = m2.shape\n",
    "    MaxtrMult = False \n",
    "    if (columnas1 == filas2):\n",
    "        MaxtrMult = True\n",
    "    return MaxtrMult"
   ]
  },
  {
   "cell_type": "code",
   "execution_count": 13,
   "metadata": {},
   "outputs": [
    {
     "name": "stdout",
     "output_type": "stream",
     "text": [
      "Ret_Pregunta06:  True <class 'bool'>\n"
     ]
    }
   ],
   "source": [
    "n1 = np.array([[0,0,0],[1,1,1],[2,2,2],[3,3,3],[4,4,4],[5,5,5]])\n",
    "n2 = np.array([[6,7],[8,6],[7,8]])\n",
    "\n",
    "Respuesta6 = Ret_Pregunta06(n1, n2)\n",
    "print('Ret_Pregunta06: ',Respuesta6, end = ' ')\n",
    "print(type(Respuesta6))"
   ]
  },
  {
   "cell_type": "markdown",
   "metadata": {},
   "source": [
    "___"
   ]
  },
  {
   "cell_type": "markdown",
   "metadata": {},
   "source": [
    "<b> Ejercicio 7 </b>"
   ]
  },
  {
   "cell_type": "code",
   "execution_count": 14,
   "metadata": {},
   "outputs": [],
   "source": [
    "def Ret_Pregunta07():\n",
    "    '''\n",
    "    Debes utilizar Pandas para ingestar en un objeto Dataframe el contenido del archivo provisto \n",
    "    \"Fuentes_Consumo_Energia.csv\".\n",
    "    Esta función debe informar cuál de la siguiente lista de países tuvo mayor generacíon de \n",
    "    energía eólica (Solar_Generation_TWh) en el año 2019:\n",
    "        * Argentina\n",
    "        * Brazil\n",
    "        * Chile\n",
    "        * Colombia\n",
    "        * Ecuador\n",
    "        * Mexico\n",
    "        * Peru\n",
    "    Debe retornar el valor en un dato de tipo string.\n",
    "    '''\n",
    "    #Tu código aca:\n",
    "    EnergyConsumptionDF = pd.read_csv('Fuentes_Consumo_Energia.csv')\n",
    "    EnergyConsumptionDF = EnergyConsumptionDF.drop(columns='Code')\n",
    "    filtro = (EnergyConsumptionDF.Entity.isin([\"Argentina\",\"Brazil\",\"Chile\",\"Colombia\",\"Ecuador\",\"Mexico\",\"Peru\"])) & (EnergyConsumptionDF[\"Year\"]==2019)\n",
    "    SolarGeneration = EnergyConsumptionDF[filtro]\n",
    "    pais = SolarGeneration.loc[SolarGeneration.Solar_Generation_TWh.idxmax()]['Entity']\n",
    "    pais = str(pais)\n",
    "    return pais"
   ]
  },
  {
   "cell_type": "code",
   "execution_count": 15,
   "metadata": {},
   "outputs": [
    {
     "name": "stdout",
     "output_type": "stream",
     "text": [
      "Ret_Pregunta07:  Mexico <class 'str'>\n"
     ]
    }
   ],
   "source": [
    "Respuesta7 = Ret_Pregunta07()\n",
    "print('Ret_Pregunta07: ',Respuesta7, end = ' ')\n",
    "print(type(Respuesta7))"
   ]
  },
  {
   "cell_type": "markdown",
   "metadata": {},
   "source": [
    "___"
   ]
  },
  {
   "cell_type": "markdown",
   "metadata": {},
   "source": [
    "<b> Ejercicio 8 </b>"
   ]
  },
  {
   "cell_type": "code",
   "execution_count": 16,
   "metadata": {},
   "outputs": [],
   "source": [
    "def Ret_Pregunta08():\n",
    "    '''\n",
    "    Debes utilizar Pandas para ingestar en un objeto Dataframe el contenido del archivo provisto \n",
    "    \"Fuentes_Consumo_Energia.csv\".\n",
    "    Esta función debe informar la cantidad de entidades diferentes que están presentes en el dataset\n",
    "    retornando ese valor en un dato de tipo entero.\n",
    "    '''\n",
    "    #Tu código aca:\n",
    "    EnergyConsumptionDF = pd.read_csv('Fuentes_Consumo_Energia.csv')\n",
    "    EnergyConsumptionDF = EnergyConsumptionDF.drop(columns='Code')\n",
    "    EnergyConsumptionDF.head(10)\n",
    "    NumPaises = (EnergyConsumptionDF.dropna()).loc[:, ['Entity']].nunique()\n",
    "    NumPaises = int(NumPaises)\n",
    "    return NumPaises"
   ]
  },
  {
   "cell_type": "code",
   "execution_count": 17,
   "metadata": {},
   "outputs": [
    {
     "name": "stdout",
     "output_type": "stream",
     "text": [
      "Ret_Pregunta08:  99 <class 'int'>\n"
     ]
    }
   ],
   "source": [
    "Respuesta8 = Ret_Pregunta08()\n",
    "print('Ret_Pregunta08: ',Respuesta8, end = ' ')\n",
    "print(type(Respuesta8))"
   ]
  },
  {
   "cell_type": "markdown",
   "metadata": {},
   "source": [
    "___"
   ]
  },
  {
   "cell_type": "markdown",
   "metadata": {},
   "source": [
    "<b> Ejercicios 9 </b>\n"
   ]
  },
  {
   "cell_type": "code",
   "execution_count": 18,
   "metadata": {},
   "outputs": [],
   "source": [
    "def Ret_Pregunta09():\n",
    "    '''\n",
    "    Debes utilizar Pandas para ingestar en un objeto Dataframe el contenido del archivo provisto \n",
    "    \"Fuentes_Consumo_Energia.csv\".\n",
    "    Esta función debe informar el promedio de consumo de carbón (Coal_Consumption_EJ) \n",
    "    en la entidad 'Europa' entre los años 1980 y 2000 (ambos inclusive), retornando ese valor en\n",
    "    un dato de tipo entero.\n",
    "    '''\n",
    "    #Tu código aca:\n",
    "    EnergyConsumptionDF = pd.read_csv('Fuentes_Consumo_Energia.csv')\n",
    "    EnergyConsumptionDF = EnergyConsumptionDF.drop(columns='Code')\n",
    "    filtro = (EnergyConsumptionDF.Entity.isin(['Europe'])) & (EnergyConsumptionDF[\"Year\"] >= 1980) & (EnergyConsumptionDF[\"Year\"]<=2000)\n",
    "    EuropeEnergyConsumptionDF = EnergyConsumptionDF.loc[:, ['Entity', 'Year', 'Coal_Consumption_EJ']]\n",
    "    EuropeEnergyConsumptionDF = EuropeEnergyConsumptionDF[filtro]\n",
    "    ConsumoPromedio = round(EuropeEnergyConsumptionDF['Coal_Consumption_EJ'].mean(), 2)\n",
    "\n",
    "    return ConsumoPromedio"
   ]
  },
  {
   "cell_type": "code",
   "execution_count": 19,
   "metadata": {},
   "outputs": [
    {
     "name": "stdout",
     "output_type": "stream",
     "text": [
      "Ret_Pregunta09:  21.15 <class 'numpy.float64'>\n"
     ]
    }
   ],
   "source": [
    "Respuesta9 = Ret_Pregunta09()\n",
    "print('Ret_Pregunta09: ',Respuesta9, end = ' ')\n",
    "print(type(Respuesta9))"
   ]
  },
  {
   "cell_type": "markdown",
   "metadata": {},
   "source": [
    "___"
   ]
  },
  {
   "cell_type": "markdown",
   "metadata": {},
   "source": [
    "<b> Ejercicio 9 </b>"
   ]
  },
  {
   "cell_type": "code",
   "execution_count": null,
   "metadata": {},
   "outputs": [],
   "source": [
    "import Lista as Lst\n",
    "lista = Lst.Lista()\n",
    "lista.agregarElemento(1)\n",
    "lista.agregarElemento(2)\n",
    "lista.agregarElemento(3)\n",
    "print(Ret_Pregunta10(lista))"
   ]
  },
  {
   "cell_type": "code",
   "execution_count": null,
   "metadata": {},
   "outputs": [],
   "source": [
    "def Ret_Pregunta10(lista):\n",
    "    '''\n",
    "    Esta función recibe como parámetro un objeto de la clase Lista() definida en el archivo Lista.py.\n",
    "    Debe recorrer la lista y retornan la cantidad de nodos que posee. Utilizar el método de la clase\n",
    "    Lista llamado getCabecera()\n",
    "    Ejemplo:\n",
    "        lis = Lista()\n",
    "        lista.agregarElemento(1)\n",
    "        lista.agregarElemento(2)\n",
    "        lista.agregarElemento(3)\n",
    "        print(Ret_Pregunta10(lista))\n",
    "            3    -> Debe ser el valor devuelto por la función Ret_Pregunta10() en este ejemplo\n",
    "    '''\n",
    "    #Tu código aca:\n",
    "    contador = 0\n",
    "    if (lista.getCabecera):\n",
    "        i = lista.getCabecera #n.siguiente\n",
    "        while i.getSiguiente:\n",
    "            i = i.getSiguiente #n.siguiente\n",
    "            contador += 1\n",
    "\n",
    "    cont = 0\n",
    "    objetivo = lista.getCabecera()\n",
    "    if (objetivo == None):\n",
    "        return 0\n",
    "    else:\n",
    "        while (puntero == None):\n",
    "            cont +=1\n",
    "            objetivo = objetivo.getSiguiente()\n",
    "    return cont\n",
    "\n",
    "    return contador"
   ]
  },
  {
   "cell_type": "code",
   "execution_count": null,
   "metadata": {},
   "outputs": [],
   "source": [
    "Respuesta10 = Ret_Pregunta10()\n",
    "print('Ret_Pregunta10: ',Respuesta10, end = ' ')\n",
    "print(type(Respuesta10))"
   ]
  },
  {
   "cell_type": "code",
   "execution_count": null,
   "metadata": {},
   "outputs": [],
   "source": [
    "cont = 0\n",
    "puntero = lista.getcabecera()\n",
    "if (puntero == None):\n",
    "    return 0\n",
    "else:\n",
    "    while (puntero == None):\n",
    "        cont +=1\n",
    "        puntero = puntero.getSiguiente\n",
    "return cont\n"
   ]
  }
 ],
 "metadata": {
  "interpreter": {
   "hash": "9bf2ca0f4a7adc3ce2f237ca763c1538d3ef289a4e7face3612a01cdae9f6807"
  },
  "kernelspec": {
   "display_name": "Python 3.10.2 64-bit",
   "language": "python",
   "name": "python3"
  },
  "language_info": {
   "codemirror_mode": {
    "name": "ipython",
    "version": 3
   },
   "file_extension": ".py",
   "mimetype": "text/x-python",
   "name": "python",
   "nbconvert_exporter": "python",
   "pygments_lexer": "ipython3",
   "version": "3.10.2"
  },
  "orig_nbformat": 4
 },
 "nbformat": 4,
 "nbformat_minor": 2
}
