{
 "cells": [
  {
   "cell_type": "markdown",
   "metadata": {},
   "source": [
    "![purple-divider](https://user-images.githubusercontent.com/7065401/52071927-c1cd7100-2562-11e9-908a-dde91ba14e59.png)\n",
    "\n",
    "# <b> Práctica Clase 7 </b> <br>"
   ]
  },
  {
   "cell_type": "markdown",
   "metadata": {},
   "source": [
    "## <b> Ejercicio 1</b>\n",
    "\n",
    "*   Ítems a resolver:\n",
    "\n",
    "    1)  Diseñar una clase que permita trabajar con un árbol binario y que contenga los métodos:<br> \n",
    "\n",
    "        *   insertaVal: para insertar un dato. <br>\n",
    "\n",
    "        *   buscaVal: que devuelva True o False si existe o no un dato. <br>\n",
    "\n",
    "        *   verVal: que imprima por pantalla los valores del árbol. <br>\n",
    "\n",
    "\n",
    "![green-divider](https://user-images.githubusercontent.com/7065401/52071924-c003ad80-2562-11e9-8297-1c6595f8a7ff.png)"
   ]
  },
  {
   "cell_type": "markdown",
   "metadata": {},
   "source": [
    "### <b> Resolución </b>"
   ]
  },
  {
   "cell_type": "markdown",
   "metadata": {},
   "source": [
    "1)  Diseñar una clase que permita trabajar con un árbol binario y que contenga los métodos:<br>\n",
    "\n",
    "    *   insertaVal: para insertar un dato. <br>\n",
    "\n",
    "    ![green-divider](https://user-images.githubusercontent.com/7065401/52071924-c003ad80-2562-11e9-8297-1c6595f8a7ff.png)"
   ]
  },
  {
   "cell_type": "code",
   "execution_count": 13,
   "metadata": {},
   "outputs": [],
   "source": [
    "class ArbolBinario:\n",
    "    \n",
    "    # Atributos:\n",
    "    def __init__(self, dato):\n",
    "        self.dato = dato\n",
    "        self.izq = None\n",
    "        self.der = None\n",
    "\n",
    "\n",
    "    # Método añadir dato:\n",
    "    def InsertaVal(self, dato):\n",
    "        if (dato == self.dato):\n",
    "            return \n",
    "\n",
    "        # Menores a la izquierda\n",
    "        # Matores a la derecha\n",
    "\n",
    "        if dato < self.dato:\n",
    "            if (self.izq):\n",
    "                self.izq.InsertaVal(dato)\n",
    "            else:\n",
    "                self.izq = ArbolBinario(dato)\n",
    "        else:\n",
    "            if (self.der):\n",
    "                self.der.InsertaVal(dato)\n",
    "            else:\n",
    "                self.der = ArbolBinario(dato)\n",
    "    \n",
    "    # Método buscar:\n",
    "    def BuscarVal(self, val):\n",
    "        if (self.dato == val):\n",
    "            return True\n",
    "        if (val < self.dato):\n",
    "            if (self.izq):\n",
    "                return self.izq.BuscarVal(val)\n",
    "            else:\n",
    "                return False\n",
    "        if (val > self.dato):\n",
    "            if (self.der):\n",
    "                return self.der.BuscarVal(val)\n",
    "            else:\n",
    "                return False\n",
    "    \n",
    "    #Método imprimir arborl (modo in orden):\n",
    "    def VerVal(self):\n",
    "        if (self.izq):\n",
    "            self.izq.VerVal()\n",
    "        nvl = self.contar()\n",
    "        print(self.dato)\n",
    "        if (self.der):\n",
    "            self.der.VerVal()\n",
    "    \n",
    "    def contar(self):\n",
    "        if (self.izq):\n",
    "            nvl = 0\n",
    "            i = self.izq\n",
    "            while i:\n",
    "                nvl +=1\n",
    "                i = i.izq\n",
    "            return nvl\n",
    "        else:\n",
    "            nvl = 0\n",
    "            i = self.der\n",
    "            while i:\n",
    "                nvl +=1\n",
    "                i = i.der\n",
    "            return nvl\n",
    "        \n",
    "\n",
    "    "
   ]
  },
  {
   "cell_type": "markdown",
   "metadata": {},
   "source": [
    "1)  Diseñar una clase que permita trabajar con un árbol binario y que contenga los métodos:<br>\n",
    "\n",
    "    *   buscaVal: que devuelva True o False si existe o no un dato. <br>\n",
    "\n",
    "    ![green-divider](https://user-images.githubusercontent.com/7065401/52071924-c003ad80-2562-11e9-8297-1c6595f8a7ff.png)"
   ]
  },
  {
   "cell_type": "code",
   "execution_count": null,
   "metadata": {},
   "outputs": [],
   "source": [
    "def BuscarVal(val):\n",
    "    if (dato == val):\n",
    "        return True\n",
    "    if (val < dato):\n",
    "        if (izq):\n",
    "            return izq.buscar(val)\n",
    "        else:\n",
    "            return False\n",
    "    if (val > dato):\n",
    "        if (der):\n",
    "            return der.buscar(val)\n",
    "        else:\n",
    "            return False\n",
    "\n"
   ]
  },
  {
   "cell_type": "code",
   "execution_count": null,
   "metadata": {},
   "outputs": [],
   "source": []
  },
  {
   "cell_type": "markdown",
   "metadata": {},
   "source": [
    "1)  Diseñar una clase que permita trabajar con un árbol binario y que contenga los métodos:<br>\n",
    "\n",
    "    *   verVal: que imprima por pantalla los valores del árbol. <br>\n",
    "\n",
    "    ![green-divider](https://user-images.githubusercontent.com/7065401/52071924-c003ad80-2562-11e9-8297-1c6595f8a7ff.png)"
   ]
  },
  {
   "cell_type": "code",
   "execution_count": 14,
   "metadata": {},
   "outputs": [],
   "source": [
    "def PruebaArbolBinario():\n",
    "    raiz = ArbolBinario(10)\n",
    "    raiz.InsertaVal(3)\n",
    "    raiz.InsertaVal(13)\n",
    "    raiz.InsertaVal(1)\n",
    "    raiz.InsertaVal(8)\n",
    "    raiz.InsertaVal(20)\n",
    "    raiz.BuscarVal(5)\n",
    "    raiz.BuscarVal(3)\n",
    "    raiz.BuscarVal(7)\n",
    "    raiz.BuscarVal(10)\n",
    "    raiz.VerVal()\n"
   ]
  },
  {
   "cell_type": "code",
   "execution_count": 15,
   "metadata": {},
   "outputs": [
    {
     "name": "stdout",
     "output_type": "stream",
     "text": [
      "1\n",
      "3\n",
      "8\n",
      "10\n",
      "13\n",
      "20\n"
     ]
    }
   ],
   "source": [
    "if __name__=='__main__':\n",
    "    PruebaArbolBinario()"
   ]
  },
  {
   "cell_type": "code",
   "execution_count": null,
   "metadata": {},
   "outputs": [],
   "source": [
    "def contar(i):\n",
    "    i += 1\n",
    "    return i\n",
    "\n"
   ]
  },
  {
   "cell_type": "code",
   "execution_count": 9,
   "metadata": {},
   "outputs": [
    {
     "name": "stdout",
     "output_type": "stream",
     "text": [
      " nivel del arbol: 0\n",
      "    nivel del arbol: 1\n",
      "       nivel del arbol: 2\n"
     ]
    }
   ],
   "source": [
    "for i in range(3):\n",
    "    print((' ' * 3 * i), 'nivel del arbol:', i)"
   ]
  }
 ],
 "metadata": {
  "kernelspec": {
   "display_name": "Python 3",
   "language": "python",
   "name": "python3"
  },
  "language_info": {
   "codemirror_mode": {
    "name": "ipython",
    "version": 3
   },
   "file_extension": ".py",
   "mimetype": "text/x-python",
   "name": "python",
   "nbconvert_exporter": "python",
   "pygments_lexer": "ipython3",
   "version": "3.10.2"
  }
 },
 "nbformat": 4,
 "nbformat_minor": 4
}
